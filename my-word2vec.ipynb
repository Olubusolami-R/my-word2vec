{
 "cells": [
  {
   "cell_type": "code",
   "execution_count": 1,
   "id": "c0212fbf",
   "metadata": {
    "_cell_guid": "b1076dfc-b9ad-4769-8c92-a6c4dae69d19",
    "_uuid": "8f2839f25d086af736a60e9eeb907d3b93b6e0e5",
    "execution": {
     "iopub.execute_input": "2025-06-25T17:15:18.651568Z",
     "iopub.status.busy": "2025-06-25T17:15:18.651272Z",
     "iopub.status.idle": "2025-06-25T17:15:20.618798Z",
     "shell.execute_reply": "2025-06-25T17:15:20.617883Z"
    },
    "papermill": {
     "duration": 1.974254,
     "end_time": "2025-06-25T17:15:20.620723",
     "exception": false,
     "start_time": "2025-06-25T17:15:18.646469",
     "status": "completed"
    },
    "tags": []
   },
   "outputs": [
    {
     "name": "stdout",
     "output_type": "stream",
     "text": [
      "/kaggle/input/wikipedia-movie-plots/wiki_movie_plots_deduped.csv\n"
     ]
    }
   ],
   "source": [
    "import numpy as np # linear algebra\n",
    "import pandas as pd # data processing, CSV file I/O (e.g. pd.read_csv)\n",
    "\n",
    "import os\n",
    "for dirname, _, filenames in os.walk('/kaggle/input'):\n",
    "    for filename in filenames:\n",
    "        print(os.path.join(dirname, filename))"
   ]
  },
  {
   "cell_type": "markdown",
   "id": "f532cef3",
   "metadata": {
    "papermill": {
     "duration": 0.002724,
     "end_time": "2025-06-25T17:15:20.627078",
     "exception": false,
     "start_time": "2025-06-25T17:15:20.624354",
     "status": "completed"
    },
    "tags": []
   },
   "source": [
    "## 1. Extract the corpus: Movie Plots"
   ]
  },
  {
   "cell_type": "code",
   "execution_count": 2,
   "id": "b47cd85c",
   "metadata": {
    "execution": {
     "iopub.execute_input": "2025-06-25T17:15:20.634645Z",
     "iopub.status.busy": "2025-06-25T17:15:20.634251Z",
     "iopub.status.idle": "2025-06-25T17:15:23.144823Z",
     "shell.execute_reply": "2025-06-25T17:15:23.143961Z"
    },
    "papermill": {
     "duration": 2.516068,
     "end_time": "2025-06-25T17:15:23.146454",
     "exception": false,
     "start_time": "2025-06-25T17:15:20.630386",
     "status": "completed"
    },
    "tags": []
   },
   "outputs": [],
   "source": [
    "df=pd.read_csv(\"/kaggle/input/wikipedia-movie-plots/wiki_movie_plots_deduped.csv\")"
   ]
  },
  {
   "cell_type": "code",
   "execution_count": 3,
   "id": "e5831a8c",
   "metadata": {
    "execution": {
     "iopub.execute_input": "2025-06-25T17:15:23.153712Z",
     "iopub.status.busy": "2025-06-25T17:15:23.153411Z",
     "iopub.status.idle": "2025-06-25T17:15:23.203984Z",
     "shell.execute_reply": "2025-06-25T17:15:23.202806Z"
    },
    "papermill": {
     "duration": 0.055999,
     "end_time": "2025-06-25T17:15:23.205545",
     "exception": false,
     "start_time": "2025-06-25T17:15:23.149546",
     "status": "completed"
    },
    "tags": []
   },
   "outputs": [
    {
     "name": "stdout",
     "output_type": "stream",
     "text": [
      "<class 'pandas.core.frame.DataFrame'>\n",
      "RangeIndex: 34886 entries, 0 to 34885\n",
      "Data columns (total 8 columns):\n",
      " #   Column            Non-Null Count  Dtype \n",
      "---  ------            --------------  ----- \n",
      " 0   Release Year      34886 non-null  int64 \n",
      " 1   Title             34886 non-null  object\n",
      " 2   Origin/Ethnicity  34886 non-null  object\n",
      " 3   Director          34886 non-null  object\n",
      " 4   Cast              33464 non-null  object\n",
      " 5   Genre             34886 non-null  object\n",
      " 6   Wiki Page         34886 non-null  object\n",
      " 7   Plot              34886 non-null  object\n",
      "dtypes: int64(1), object(7)\n",
      "memory usage: 2.1+ MB\n"
     ]
    }
   ],
   "source": [
    "df.info()"
   ]
  },
  {
   "cell_type": "code",
   "execution_count": 4,
   "id": "2a8bc5e2",
   "metadata": {
    "execution": {
     "iopub.execute_input": "2025-06-25T17:15:23.212952Z",
     "iopub.status.busy": "2025-06-25T17:15:23.212548Z",
     "iopub.status.idle": "2025-06-25T17:15:23.220487Z",
     "shell.execute_reply": "2025-06-25T17:15:23.219596Z"
    },
    "papermill": {
     "duration": 0.013375,
     "end_time": "2025-06-25T17:15:23.221999",
     "exception": false,
     "start_time": "2025-06-25T17:15:23.208624",
     "status": "completed"
    },
    "tags": []
   },
   "outputs": [
    {
     "data": {
      "text/plain": [
       "'Lasting just 61 seconds and consisting of two shots, the first shot is set in a wood during winter. The actor representing then vice-president Theodore Roosevelt enthusiastically hurries down a hillside towards a tree in the foreground. He falls once, but rights himself and cocks his rifle. Two other men, bearing signs reading \"His Photographer\" and \"His Press Agent\" respectively, follow him into the shot; the photographer sets up his camera. \"Teddy\" aims his rifle upward at the tree and fells what appears to be a common house cat, which he then proceeds to stab. \"Teddy\" holds his prize aloft, and the press agent takes notes. The second shot is taken in a slightly different part of the wood, on a path. \"Teddy\" rides the path on his horse towards the camera and out to the left of the shot, followed closely by the press agent and photographer, still dutifully holding their signs.'"
      ]
     },
     "execution_count": 4,
     "metadata": {},
     "output_type": "execute_result"
    }
   ],
   "source": [
    "corpus=df[\"Plot\"][:15000].to_list()\n",
    "len(corpus)\n",
    "corpus[3]"
   ]
  },
  {
   "cell_type": "markdown",
   "id": "81ab64f2",
   "metadata": {
    "papermill": {
     "duration": 0.002819,
     "end_time": "2025-06-25T17:15:23.227956",
     "exception": false,
     "start_time": "2025-06-25T17:15:23.225137",
     "status": "completed"
    },
    "tags": []
   },
   "source": [
    "## 2. Next up is cleaning"
   ]
  },
  {
   "cell_type": "markdown",
   "id": "8d93c826",
   "metadata": {
    "papermill": {
     "duration": 0.002671,
     "end_time": "2025-06-25T17:15:23.233697",
     "exception": false,
     "start_time": "2025-06-25T17:15:23.231026",
     "status": "completed"
    },
    "tags": []
   },
   "source": [
    "### Import the tokenizer"
   ]
  },
  {
   "cell_type": "code",
   "execution_count": 5,
   "id": "216d4692",
   "metadata": {
    "execution": {
     "iopub.execute_input": "2025-06-25T17:15:23.240700Z",
     "iopub.status.busy": "2025-06-25T17:15:23.240401Z",
     "iopub.status.idle": "2025-06-25T17:15:25.871686Z",
     "shell.execute_reply": "2025-06-25T17:15:25.870763Z"
    },
    "papermill": {
     "duration": 2.637265,
     "end_time": "2025-06-25T17:15:25.873847",
     "exception": false,
     "start_time": "2025-06-25T17:15:23.236582",
     "status": "completed"
    },
    "tags": []
   },
   "outputs": [],
   "source": [
    "from nltk.tokenize import word_tokenize"
   ]
  },
  {
   "cell_type": "markdown",
   "id": "5d759438",
   "metadata": {
    "papermill": {
     "duration": 0.003029,
     "end_time": "2025-06-25T17:15:25.880708",
     "exception": false,
     "start_time": "2025-06-25T17:15:25.877679",
     "status": "completed"
    },
    "tags": []
   },
   "source": [
    "### Convert all to lowercase"
   ]
  },
  {
   "cell_type": "code",
   "execution_count": 6,
   "id": "c9df52e8",
   "metadata": {
    "execution": {
     "iopub.execute_input": "2025-06-25T17:15:25.888465Z",
     "iopub.status.busy": "2025-06-25T17:15:25.888025Z",
     "iopub.status.idle": "2025-06-25T17:15:27.945645Z",
     "shell.execute_reply": "2025-06-25T17:15:27.944609Z"
    },
    "papermill": {
     "duration": 2.063402,
     "end_time": "2025-06-25T17:15:27.947362",
     "exception": false,
     "start_time": "2025-06-25T17:15:25.883960",
     "status": "completed"
    },
    "tags": []
   },
   "outputs": [],
   "source": [
    "import string\n",
    "for i in range(len(corpus)):\n",
    "    temp=corpus[i].lower()\n",
    "    corpus[i]=''.join([char for char in temp if char not in string.punctuation])\n",
    "\n"
   ]
  },
  {
   "cell_type": "code",
   "execution_count": 7,
   "id": "a8c2f666",
   "metadata": {
    "execution": {
     "iopub.execute_input": "2025-06-25T17:15:27.954842Z",
     "iopub.status.busy": "2025-06-25T17:15:27.954504Z",
     "iopub.status.idle": "2025-06-25T17:15:27.959772Z",
     "shell.execute_reply": "2025-06-25T17:15:27.958850Z"
    },
    "papermill": {
     "duration": 0.010768,
     "end_time": "2025-06-25T17:15:27.961198",
     "exception": false,
     "start_time": "2025-06-25T17:15:27.950430",
     "status": "completed"
    },
    "tags": []
   },
   "outputs": [
    {
     "name": "stdout",
     "output_type": "stream",
     "text": [
      "grace roberts played by lea leland marries rancher edward smith who is revealed to be a neglectful viceridden spouse they have a daughter vivian dr franklin leonid samoloff whisks grace away from this unhappy life and they move to new york under aliases pretending to be married since surely smith would not agree to a divorce grace and franklin have a son walter milton s gould vivian gets sick however and grace and franklin return to save her somehow this reunion as smith had assumed grace to be dead causes the death of franklin this plot device frees grace to return to her fathers farm with both children1\n"
     ]
    }
   ],
   "source": [
    "print(corpus[100])"
   ]
  },
  {
   "cell_type": "markdown",
   "id": "8ad27b90",
   "metadata": {
    "papermill": {
     "duration": 0.002716,
     "end_time": "2025-06-25T17:15:27.966953",
     "exception": false,
     "start_time": "2025-06-25T17:15:27.964237",
     "status": "completed"
    },
    "tags": []
   },
   "source": [
    "### Remove all punctuations"
   ]
  },
  {
   "cell_type": "code",
   "execution_count": null,
   "id": "1b11e658",
   "metadata": {
    "execution": {
     "iopub.execute_input": "2025-06-25T15:12:16.806104Z",
     "iopub.status.busy": "2025-06-25T15:12:16.804938Z",
     "iopub.status.idle": "2025-06-25T15:12:16.849764Z",
     "shell.execute_reply": "2025-06-25T15:12:16.848631Z",
     "shell.execute_reply.started": "2025-06-25T15:12:16.806073Z"
    },
    "papermill": {
     "duration": 0.002736,
     "end_time": "2025-06-25T17:15:27.972586",
     "exception": false,
     "start_time": "2025-06-25T17:15:27.969850",
     "status": "completed"
    },
    "tags": []
   },
   "outputs": [],
   "source": []
  },
  {
   "cell_type": "code",
   "execution_count": null,
   "id": "5b82cb93",
   "metadata": {
    "papermill": {
     "duration": 0.002676,
     "end_time": "2025-06-25T17:15:27.978206",
     "exception": false,
     "start_time": "2025-06-25T17:15:27.975530",
     "status": "completed"
    },
    "tags": []
   },
   "outputs": [],
   "source": []
  }
 ],
 "metadata": {
  "kaggle": {
   "accelerator": "none",
   "dataSources": [
    {
     "datasetId": 64890,
     "sourceId": 127736,
     "sourceType": "datasetVersion"
    }
   ],
   "dockerImageVersionId": 31040,
   "isGpuEnabled": false,
   "isInternetEnabled": true,
   "language": "python",
   "sourceType": "notebook"
  },
  "kernelspec": {
   "display_name": "Python 3",
   "language": "python",
   "name": "python3"
  },
  "language_info": {
   "codemirror_mode": {
    "name": "ipython",
    "version": 3
   },
   "file_extension": ".py",
   "mimetype": "text/x-python",
   "name": "python",
   "nbconvert_exporter": "python",
   "pygments_lexer": "ipython3",
   "version": "3.11.11"
  },
  "papermill": {
   "default_parameters": {},
   "duration": 15.093033,
   "end_time": "2025-06-25T17:15:28.701574",
   "environment_variables": {},
   "exception": null,
   "input_path": "__notebook__.ipynb",
   "output_path": "__notebook__.ipynb",
   "parameters": {},
   "start_time": "2025-06-25T17:15:13.608541",
   "version": "2.6.0"
  }
 },
 "nbformat": 4,
 "nbformat_minor": 5
}
