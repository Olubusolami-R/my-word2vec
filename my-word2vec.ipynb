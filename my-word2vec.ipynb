{
 "cells": [
  {
   "cell_type": "code",
   "execution_count": 1,
   "id": "86d13f37",
   "metadata": {
    "_cell_guid": "b1076dfc-b9ad-4769-8c92-a6c4dae69d19",
    "_uuid": "8f2839f25d086af736a60e9eeb907d3b93b6e0e5",
    "execution": {
     "iopub.execute_input": "2025-07-03T15:49:26.468125Z",
     "iopub.status.busy": "2025-07-03T15:49:26.467347Z",
     "iopub.status.idle": "2025-07-03T15:49:27.956150Z",
     "shell.execute_reply": "2025-07-03T15:49:27.955330Z"
    },
    "papermill": {
     "duration": 1.497718,
     "end_time": "2025-07-03T15:49:27.957791",
     "exception": false,
     "start_time": "2025-07-03T15:49:26.460073",
     "status": "completed"
    },
    "tags": []
   },
   "outputs": [
    {
     "name": "stdout",
     "output_type": "stream",
     "text": [
      "/kaggle/input/wikipedia-movie-plots/wiki_movie_plots_deduped.csv\n"
     ]
    }
   ],
   "source": [
    "import numpy as np # linear algebra\n",
    "import pandas as pd # data processing, CSV file I/O (e.g. pd.read_csv)\n",
    "\n",
    "import os\n",
    "for dirname, _, filenames in os.walk('/kaggle/input'):\n",
    "    for filename in filenames:\n",
    "        print(os.path.join(dirname, filename))"
   ]
  },
  {
   "cell_type": "markdown",
   "id": "341ddb90",
   "metadata": {
    "papermill": {
     "duration": 0.006629,
     "end_time": "2025-07-03T15:49:27.973035",
     "exception": false,
     "start_time": "2025-07-03T15:49:27.966406",
     "status": "completed"
    },
    "tags": []
   },
   "source": [
    "## 1. Extract the corpus: Movie Plots"
   ]
  },
  {
   "cell_type": "code",
   "execution_count": 2,
   "id": "6f3023fe",
   "metadata": {
    "execution": {
     "iopub.execute_input": "2025-07-03T15:49:27.985581Z",
     "iopub.status.busy": "2025-07-03T15:49:27.985234Z",
     "iopub.status.idle": "2025-07-03T15:49:29.941540Z",
     "shell.execute_reply": "2025-07-03T15:49:29.940731Z"
    },
    "papermill": {
     "duration": 1.964613,
     "end_time": "2025-07-03T15:49:29.943006",
     "exception": false,
     "start_time": "2025-07-03T15:49:27.978393",
     "status": "completed"
    },
    "tags": []
   },
   "outputs": [],
   "source": [
    "df=pd.read_csv(\"/kaggle/input/wikipedia-movie-plots/wiki_movie_plots_deduped.csv\")"
   ]
  },
  {
   "cell_type": "code",
   "execution_count": 3,
   "id": "c76d8ab9",
   "metadata": {
    "execution": {
     "iopub.execute_input": "2025-07-03T15:49:29.955229Z",
     "iopub.status.busy": "2025-07-03T15:49:29.954664Z",
     "iopub.status.idle": "2025-07-03T15:49:29.992876Z",
     "shell.execute_reply": "2025-07-03T15:49:29.991958Z"
    },
    "papermill": {
     "duration": 0.045462,
     "end_time": "2025-07-03T15:49:29.994091",
     "exception": false,
     "start_time": "2025-07-03T15:49:29.948629",
     "status": "completed"
    },
    "tags": []
   },
   "outputs": [
    {
     "name": "stdout",
     "output_type": "stream",
     "text": [
      "<class 'pandas.core.frame.DataFrame'>\n",
      "RangeIndex: 34886 entries, 0 to 34885\n",
      "Data columns (total 8 columns):\n",
      " #   Column            Non-Null Count  Dtype \n",
      "---  ------            --------------  ----- \n",
      " 0   Release Year      34886 non-null  int64 \n",
      " 1   Title             34886 non-null  object\n",
      " 2   Origin/Ethnicity  34886 non-null  object\n",
      " 3   Director          34886 non-null  object\n",
      " 4   Cast              33464 non-null  object\n",
      " 5   Genre             34886 non-null  object\n",
      " 6   Wiki Page         34886 non-null  object\n",
      " 7   Plot              34886 non-null  object\n",
      "dtypes: int64(1), object(7)\n",
      "memory usage: 2.1+ MB\n"
     ]
    }
   ],
   "source": [
    "df.info()"
   ]
  },
  {
   "cell_type": "code",
   "execution_count": 4,
   "id": "8bd3a2f6",
   "metadata": {
    "execution": {
     "iopub.execute_input": "2025-07-03T15:49:30.006410Z",
     "iopub.status.busy": "2025-07-03T15:49:30.005921Z",
     "iopub.status.idle": "2025-07-03T15:49:30.011418Z",
     "shell.execute_reply": "2025-07-03T15:49:30.010859Z"
    },
    "papermill": {
     "duration": 0.013035,
     "end_time": "2025-07-03T15:49:30.012576",
     "exception": false,
     "start_time": "2025-07-03T15:49:29.999541",
     "status": "completed"
    },
    "tags": []
   },
   "outputs": [
    {
     "data": {
      "text/plain": [
       "'Lasting just 61 seconds and consisting of two shots, the first shot is set in a wood during winter. The actor representing then vice-president Theodore Roosevelt enthusiastically hurries down a hillside towards a tree in the foreground. He falls once, but rights himself and cocks his rifle. Two other men, bearing signs reading \"His Photographer\" and \"His Press Agent\" respectively, follow him into the shot; the photographer sets up his camera. \"Teddy\" aims his rifle upward at the tree and fells what appears to be a common house cat, which he then proceeds to stab. \"Teddy\" holds his prize aloft, and the press agent takes notes. The second shot is taken in a slightly different part of the wood, on a path. \"Teddy\" rides the path on his horse towards the camera and out to the left of the shot, followed closely by the press agent and photographer, still dutifully holding their signs.'"
      ]
     },
     "execution_count": 4,
     "metadata": {},
     "output_type": "execute_result"
    }
   ],
   "source": [
    "corpus=df[\"Plot\"][:10000].to_list()\n",
    "len(corpus)\n",
    "corpus[3]"
   ]
  },
  {
   "cell_type": "markdown",
   "id": "0d53546d",
   "metadata": {
    "papermill": {
     "duration": 0.005343,
     "end_time": "2025-07-03T15:49:30.023267",
     "exception": false,
     "start_time": "2025-07-03T15:49:30.017924",
     "status": "completed"
    },
    "tags": []
   },
   "source": [
    "## 2. Next up is Preprocessing/Cleaning"
   ]
  },
  {
   "cell_type": "markdown",
   "id": "efb0a679",
   "metadata": {
    "papermill": {
     "duration": 0.005016,
     "end_time": "2025-07-03T15:49:30.033513",
     "exception": false,
     "start_time": "2025-07-03T15:49:30.028497",
     "status": "completed"
    },
    "tags": []
   },
   "source": [
    "### Import the tokenizer"
   ]
  },
  {
   "cell_type": "code",
   "execution_count": 5,
   "id": "0e362457",
   "metadata": {
    "execution": {
     "iopub.execute_input": "2025-07-03T15:49:30.044818Z",
     "iopub.status.busy": "2025-07-03T15:49:30.044343Z",
     "iopub.status.idle": "2025-07-03T15:49:31.856466Z",
     "shell.execute_reply": "2025-07-03T15:49:31.855650Z"
    },
    "papermill": {
     "duration": 1.819411,
     "end_time": "2025-07-03T15:49:31.858029",
     "exception": false,
     "start_time": "2025-07-03T15:49:30.038618",
     "status": "completed"
    },
    "tags": []
   },
   "outputs": [],
   "source": [
    "from nltk.tokenize import word_tokenize"
   ]
  },
  {
   "cell_type": "markdown",
   "id": "dcaf8351",
   "metadata": {
    "papermill": {
     "duration": 0.00534,
     "end_time": "2025-07-03T15:49:31.869255",
     "exception": false,
     "start_time": "2025-07-03T15:49:31.863915",
     "status": "completed"
    },
    "tags": []
   },
   "source": [
    "### Preprocess text (to lowercase, remove punctuations and tokenize"
   ]
  },
  {
   "cell_type": "code",
   "execution_count": 6,
   "id": "b34ff439",
   "metadata": {
    "execution": {
     "iopub.execute_input": "2025-07-03T15:49:31.880921Z",
     "iopub.status.busy": "2025-07-03T15:49:31.880567Z",
     "iopub.status.idle": "2025-07-03T15:49:41.205418Z",
     "shell.execute_reply": "2025-07-03T15:49:41.204615Z"
    },
    "papermill": {
     "duration": 9.332443,
     "end_time": "2025-07-03T15:49:41.206940",
     "exception": false,
     "start_time": "2025-07-03T15:49:31.874497",
     "status": "completed"
    },
    "tags": []
   },
   "outputs": [],
   "source": [
    "import string\n",
    "tokens=[]\n",
    "for i in range(len(corpus)):\n",
    "    temp=corpus[i].lower()\n",
    "    corpus[i]=''.join([char for char in temp if char not in string.punctuation])\n",
    "    tokens.extend(word_tokenize(corpus[i]))"
   ]
  },
  {
   "cell_type": "code",
   "execution_count": 7,
   "id": "84384676",
   "metadata": {
    "execution": {
     "iopub.execute_input": "2025-07-03T15:49:41.218952Z",
     "iopub.status.busy": "2025-07-03T15:49:41.218712Z",
     "iopub.status.idle": "2025-07-03T15:49:41.222511Z",
     "shell.execute_reply": "2025-07-03T15:49:41.221791Z"
    },
    "papermill": {
     "duration": 0.010968,
     "end_time": "2025-07-03T15:49:41.223677",
     "exception": false,
     "start_time": "2025-07-03T15:49:41.212709",
     "status": "completed"
    },
    "tags": []
   },
   "outputs": [
    {
     "name": "stdout",
     "output_type": "stream",
     "text": [
      "3306739\n"
     ]
    }
   ],
   "source": [
    "print(len(tokens))"
   ]
  },
  {
   "cell_type": "markdown",
   "id": "61a57dd6",
   "metadata": {
    "papermill": {
     "duration": 0.005114,
     "end_time": "2025-07-03T15:49:41.234147",
     "exception": false,
     "start_time": "2025-07-03T15:49:41.229033",
     "status": "completed"
    },
    "tags": []
   },
   "source": [
    "### Record word frequency and create word index"
   ]
  },
  {
   "cell_type": "code",
   "execution_count": 8,
   "id": "4e9fe417",
   "metadata": {
    "execution": {
     "iopub.execute_input": "2025-07-03T15:49:41.245288Z",
     "iopub.status.busy": "2025-07-03T15:49:41.245095Z",
     "iopub.status.idle": "2025-07-03T15:49:42.097193Z",
     "shell.execute_reply": "2025-07-03T15:49:42.096633Z"
    },
    "papermill": {
     "duration": 0.85927,
     "end_time": "2025-07-03T15:49:42.098642",
     "exception": false,
     "start_time": "2025-07-03T15:49:41.239372",
     "status": "completed"
    },
    "tags": []
   },
   "outputs": [],
   "source": [
    "word_freq={}\n",
    "word2idx={}\n",
    "count_idx=0 #this was the source of the error sigh\n",
    "\n",
    "for token in tokens:\n",
    "    if token not in word2idx:\n",
    "        word2idx[token]=count_idx\n",
    "        word_freq[token]=1\n",
    "        count_idx+=1\n",
    "    else:\n",
    "        word_freq[token]+=1"
   ]
  },
  {
   "cell_type": "code",
   "execution_count": 9,
   "id": "0e3d087c",
   "metadata": {
    "execution": {
     "iopub.execute_input": "2025-07-03T15:49:42.110809Z",
     "iopub.status.busy": "2025-07-03T15:49:42.110336Z",
     "iopub.status.idle": "2025-07-03T15:49:42.114209Z",
     "shell.execute_reply": "2025-07-03T15:49:42.113446Z"
    },
    "papermill": {
     "duration": 0.01092,
     "end_time": "2025-07-03T15:49:42.115286",
     "exception": false,
     "start_time": "2025-07-03T15:49:42.104366",
     "status": "completed"
    },
    "tags": []
   },
   "outputs": [
    {
     "name": "stdout",
     "output_type": "stream",
     "text": [
      "74561\n"
     ]
    }
   ],
   "source": [
    "print(len(word2idx))"
   ]
  },
  {
   "cell_type": "code",
   "execution_count": 10,
   "id": "abbd8b11",
   "metadata": {
    "execution": {
     "iopub.execute_input": "2025-07-03T15:49:42.126779Z",
     "iopub.status.busy": "2025-07-03T15:49:42.126578Z",
     "iopub.status.idle": "2025-07-03T15:49:42.143550Z",
     "shell.execute_reply": "2025-07-03T15:49:42.142799Z"
    },
    "papermill": {
     "duration": 0.023964,
     "end_time": "2025-07-03T15:49:42.144733",
     "exception": false,
     "start_time": "2025-07-03T15:49:42.120769",
     "status": "completed"
    },
    "tags": []
   },
   "outputs": [],
   "source": [
    "idx2word={idx:word for word,idx in word2idx.items()}"
   ]
  },
  {
   "cell_type": "markdown",
   "id": "e5ee8d9a",
   "metadata": {
    "papermill": {
     "duration": 0.005218,
     "end_time": "2025-07-03T15:49:42.155428",
     "exception": false,
     "start_time": "2025-07-03T15:49:42.150210",
     "status": "completed"
    },
    "tags": []
   },
   "source": [
    "# trying to debug the bad context index error"
   ]
  },
  {
   "cell_type": "code",
   "execution_count": 11,
   "id": "887524fc",
   "metadata": {
    "execution": {
     "iopub.execute_input": "2025-07-03T15:49:42.166832Z",
     "iopub.status.busy": "2025-07-03T15:49:42.166640Z",
     "iopub.status.idle": "2025-07-03T15:49:42.170339Z",
     "shell.execute_reply": "2025-07-03T15:49:42.169676Z"
    },
    "papermill": {
     "duration": 0.010616,
     "end_time": "2025-07-03T15:49:42.171399",
     "exception": false,
     "start_time": "2025-07-03T15:49:42.160783",
     "status": "completed"
    },
    "tags": []
   },
   "outputs": [
    {
     "name": "stdout",
     "output_type": "stream",
     "text": [
      "a\n"
     ]
    }
   ],
   "source": [
    "print(idx2word[0])"
   ]
  },
  {
   "cell_type": "markdown",
   "id": "9a98dbcc",
   "metadata": {
    "papermill": {
     "duration": 0.005116,
     "end_time": "2025-07-03T15:49:42.181933",
     "exception": false,
     "start_time": "2025-07-03T15:49:42.176817",
     "status": "completed"
    },
    "tags": []
   },
   "source": [
    "### Now I see that the range goes from 0 to 17766 and that vocab size is 17767. The problem was wrong vocab size. I started the index in word2idx from 1 not 0 but was requiring 0 in other places."
   ]
  },
  {
   "cell_type": "code",
   "execution_count": 12,
   "id": "37b69b82",
   "metadata": {
    "execution": {
     "iopub.execute_input": "2025-07-03T15:49:42.193173Z",
     "iopub.status.busy": "2025-07-03T15:49:42.192975Z",
     "iopub.status.idle": "2025-07-03T15:49:42.196571Z",
     "shell.execute_reply": "2025-07-03T15:49:42.195884Z"
    },
    "papermill": {
     "duration": 0.010427,
     "end_time": "2025-07-03T15:49:42.197667",
     "exception": false,
     "start_time": "2025-07-03T15:49:42.187240",
     "status": "completed"
    },
    "tags": []
   },
   "outputs": [
    {
     "name": "stdout",
     "output_type": "stream",
     "text": [
      "17765\n"
     ]
    }
   ],
   "source": [
    "print(word2idx[\"mounties\"])"
   ]
  },
  {
   "cell_type": "markdown",
   "id": "1b0f07e5",
   "metadata": {
    "papermill": {
     "duration": 0.005151,
     "end_time": "2025-07-03T15:49:42.208203",
     "exception": false,
     "start_time": "2025-07-03T15:49:42.203052",
     "status": "completed"
    },
    "tags": []
   },
   "source": [
    "### 3. Next up is Generating Train Pairs (word-context pairs)"
   ]
  },
  {
   "cell_type": "code",
   "execution_count": 13,
   "id": "130dcc86",
   "metadata": {
    "execution": {
     "iopub.execute_input": "2025-07-03T15:49:42.219762Z",
     "iopub.status.busy": "2025-07-03T15:49:42.219559Z",
     "iopub.status.idle": "2025-07-03T15:49:48.333820Z",
     "shell.execute_reply": "2025-07-03T15:49:48.333091Z"
    },
    "papermill": {
     "duration": 6.121627,
     "end_time": "2025-07-03T15:49:48.335281",
     "exception": false,
     "start_time": "2025-07-03T15:49:42.213654",
     "status": "completed"
    },
    "tags": []
   },
   "outputs": [],
   "source": [
    "window_size=2\n",
    "training_pairs=[]\n",
    "for i in range(len(tokens)):\n",
    "    start=i-window_size\n",
    "    stop=i+window_size+1\n",
    "    \n",
    "    for j in range(start,stop):\n",
    "        if j<0 or j==i or j>=len(tokens):\n",
    "            continue\n",
    "        training_pairs.append((tokens[i],tokens[j]))   "
   ]
  },
  {
   "cell_type": "code",
   "execution_count": 14,
   "id": "8344d8af",
   "metadata": {
    "execution": {
     "iopub.execute_input": "2025-07-03T15:49:48.349277Z",
     "iopub.status.busy": "2025-07-03T15:49:48.348628Z",
     "iopub.status.idle": "2025-07-03T15:49:48.353184Z",
     "shell.execute_reply": "2025-07-03T15:49:48.352292Z"
    },
    "papermill": {
     "duration": 0.013141,
     "end_time": "2025-07-03T15:49:48.354662",
     "exception": false,
     "start_time": "2025-07-03T15:49:48.341521",
     "status": "completed"
    },
    "tags": []
   },
   "outputs": [
    {
     "name": "stdout",
     "output_type": "stream",
     "text": [
      "[('a', 'bartender'), ('a', 'is'), ('bartender', 'a'), ('bartender', 'is'), ('bartender', 'working'), ('is', 'a'), ('is', 'bartender'), ('is', 'working'), ('is', 'at'), ('working', 'bartender'), ('working', 'is'), ('working', 'at'), ('working', 'a'), ('at', 'is'), ('at', 'working'), ('at', 'a'), ('at', 'saloon'), ('a', 'working'), ('a', 'at'), ('a', 'saloon'), ('a', 'serving'), ('saloon', 'at'), ('saloon', 'a'), ('saloon', 'serving'), ('saloon', 'drinks'), ('serving', 'a'), ('serving', 'saloon'), ('serving', 'drinks'), ('serving', 'to'), ('drinks', 'saloon'), ('drinks', 'serving'), ('drinks', 'to'), ('drinks', 'customers'), ('to', 'serving'), ('to', 'drinks'), ('to', 'customers'), ('to', 'after'), ('customers', 'drinks'), ('customers', 'to'), ('customers', 'after'), ('customers', 'he'), ('after', 'to'), ('after', 'customers'), ('after', 'he'), ('after', 'fills'), ('he', 'customers'), ('he', 'after'), ('he', 'fills'), ('he', 'a'), ('fills', 'after')]\n"
     ]
    }
   ],
   "source": [
    "print(training_pairs[:50])"
   ]
  },
  {
   "cell_type": "markdown",
   "id": "d9816bb7",
   "metadata": {
    "papermill": {
     "duration": 0.005514,
     "end_time": "2025-07-03T15:49:48.366066",
     "exception": false,
     "start_time": "2025-07-03T15:49:48.360552",
     "status": "completed"
    },
    "tags": []
   },
   "source": [
    "### 4. Next up is converting words to indices"
   ]
  },
  {
   "cell_type": "code",
   "execution_count": 15,
   "id": "3c3574b5",
   "metadata": {
    "execution": {
     "iopub.execute_input": "2025-07-03T15:49:48.378570Z",
     "iopub.status.busy": "2025-07-03T15:49:48.378008Z",
     "iopub.status.idle": "2025-07-03T15:49:51.964752Z",
     "shell.execute_reply": "2025-07-03T15:49:51.964116Z"
    },
    "papermill": {
     "duration": 3.594263,
     "end_time": "2025-07-03T15:49:51.966067",
     "exception": false,
     "start_time": "2025-07-03T15:49:48.371804",
     "status": "completed"
    },
    "tags": []
   },
   "outputs": [],
   "source": [
    "training_data = []\n",
    "for tup in training_pairs:\n",
    "    training_data.append((word2idx[tup[0]],word2idx[tup[1]]))"
   ]
  },
  {
   "cell_type": "code",
   "execution_count": 16,
   "id": "52448d82",
   "metadata": {
    "execution": {
     "iopub.execute_input": "2025-07-03T15:49:51.978594Z",
     "iopub.status.busy": "2025-07-03T15:49:51.978357Z",
     "iopub.status.idle": "2025-07-03T15:49:51.983554Z",
     "shell.execute_reply": "2025-07-03T15:49:51.983015Z"
    },
    "papermill": {
     "duration": 0.012562,
     "end_time": "2025-07-03T15:49:51.984641",
     "exception": false,
     "start_time": "2025-07-03T15:49:51.972079",
     "status": "completed"
    },
    "tags": []
   },
   "outputs": [
    {
     "data": {
      "text/plain": [
       "[(0, 1),\n",
       " (0, 2),\n",
       " (1, 0),\n",
       " (1, 2),\n",
       " (1, 3),\n",
       " (2, 0),\n",
       " (2, 1),\n",
       " (2, 3),\n",
       " (2, 4),\n",
       " (3, 1),\n",
       " (3, 2),\n",
       " (3, 4),\n",
       " (3, 0),\n",
       " (4, 2),\n",
       " (4, 3),\n",
       " (4, 0),\n",
       " (4, 5),\n",
       " (0, 3),\n",
       " (0, 4),\n",
       " (0, 5),\n",
       " (0, 6),\n",
       " (5, 4),\n",
       " (5, 0),\n",
       " (5, 6),\n",
       " (5, 7),\n",
       " (6, 0),\n",
       " (6, 5),\n",
       " (6, 7),\n",
       " (6, 8),\n",
       " (7, 5),\n",
       " (7, 6),\n",
       " (7, 8),\n",
       " (7, 9),\n",
       " (8, 6),\n",
       " (8, 7),\n",
       " (8, 9),\n",
       " (8, 10),\n",
       " (9, 7),\n",
       " (9, 8),\n",
       " (9, 10),\n",
       " (9, 11),\n",
       " (10, 8),\n",
       " (10, 9),\n",
       " (10, 11),\n",
       " (10, 12),\n",
       " (11, 9),\n",
       " (11, 10),\n",
       " (11, 12),\n",
       " (11, 0),\n",
       " (12, 10)]"
      ]
     },
     "execution_count": 16,
     "metadata": {},
     "output_type": "execute_result"
    }
   ],
   "source": [
    "training_data[:50]"
   ]
  },
  {
   "cell_type": "code",
   "execution_count": 17,
   "id": "b95220a0",
   "metadata": {
    "execution": {
     "iopub.execute_input": "2025-07-03T15:49:51.996561Z",
     "iopub.status.busy": "2025-07-03T15:49:51.996330Z",
     "iopub.status.idle": "2025-07-03T15:49:52.000355Z",
     "shell.execute_reply": "2025-07-03T15:49:51.999845Z"
    },
    "papermill": {
     "duration": 0.011129,
     "end_time": "2025-07-03T15:49:52.001352",
     "exception": false,
     "start_time": "2025-07-03T15:49:51.990223",
     "status": "completed"
    },
    "tags": []
   },
   "outputs": [
    {
     "data": {
      "text/plain": [
       "10"
      ]
     },
     "execution_count": 17,
     "metadata": {},
     "output_type": "execute_result"
    }
   ],
   "source": [
    "word2idx[\"after\"]"
   ]
  },
  {
   "cell_type": "code",
   "execution_count": 18,
   "id": "0aa19638",
   "metadata": {
    "execution": {
     "iopub.execute_input": "2025-07-03T15:49:52.069127Z",
     "iopub.status.busy": "2025-07-03T15:49:52.068860Z",
     "iopub.status.idle": "2025-07-03T15:49:52.073088Z",
     "shell.execute_reply": "2025-07-03T15:49:52.072517Z"
    },
    "papermill": {
     "duration": 0.066966,
     "end_time": "2025-07-03T15:49:52.074150",
     "exception": false,
     "start_time": "2025-07-03T15:49:52.007184",
     "status": "completed"
    },
    "tags": []
   },
   "outputs": [
    {
     "data": {
      "text/plain": [
       "'hidden'"
      ]
     },
     "execution_count": 18,
     "metadata": {},
     "output_type": "execute_result"
    }
   ],
   "source": [
    "idx2word[121]"
   ]
  },
  {
   "cell_type": "code",
   "execution_count": 19,
   "id": "64a224f3",
   "metadata": {
    "execution": {
     "iopub.execute_input": "2025-07-03T15:49:52.086703Z",
     "iopub.status.busy": "2025-07-03T15:49:52.086470Z",
     "iopub.status.idle": "2025-07-03T15:49:52.090314Z",
     "shell.execute_reply": "2025-07-03T15:49:52.089524Z"
    },
    "papermill": {
     "duration": 0.011249,
     "end_time": "2025-07-03T15:49:52.091383",
     "exception": false,
     "start_time": "2025-07-03T15:49:52.080134",
     "status": "completed"
    },
    "tags": []
   },
   "outputs": [
    {
     "name": "stdout",
     "output_type": "stream",
     "text": [
      "74561\n"
     ]
    }
   ],
   "source": [
    "vocab_size=len(word2idx) #number of unique words in the corpus\n",
    "print(vocab_size)\n",
    "embedding_dim=100 #a usual value for Word2Vec"
   ]
  },
  {
   "cell_type": "code",
   "execution_count": 20,
   "id": "1d959856",
   "metadata": {
    "execution": {
     "iopub.execute_input": "2025-07-03T15:49:52.104002Z",
     "iopub.status.busy": "2025-07-03T15:49:52.103790Z",
     "iopub.status.idle": "2025-07-03T15:49:57.289983Z",
     "shell.execute_reply": "2025-07-03T15:49:57.289389Z"
    },
    "papermill": {
     "duration": 5.194139,
     "end_time": "2025-07-03T15:49:57.291400",
     "exception": false,
     "start_time": "2025-07-03T15:49:52.097261",
     "status": "completed"
    },
    "tags": []
   },
   "outputs": [],
   "source": [
    "import torch"
   ]
  },
  {
   "cell_type": "markdown",
   "id": "3d762ec0",
   "metadata": {
    "papermill": {
     "duration": 0.005835,
     "end_time": "2025-07-03T15:49:57.303704",
     "exception": false,
     "start_time": "2025-07-03T15:49:57.297869",
     "status": "completed"
    },
    "tags": []
   },
   "source": [
    "### Define the Embedding Layers and Word2Vec Class"
   ]
  },
  {
   "cell_type": "code",
   "execution_count": 21,
   "id": "d32ca3b1",
   "metadata": {
    "execution": {
     "iopub.execute_input": "2025-07-03T15:49:57.316569Z",
     "iopub.status.busy": "2025-07-03T15:49:57.316171Z",
     "iopub.status.idle": "2025-07-03T15:49:57.469051Z",
     "shell.execute_reply": "2025-07-03T15:49:57.468468Z"
    },
    "papermill": {
     "duration": 0.160762,
     "end_time": "2025-07-03T15:49:57.470388",
     "exception": false,
     "start_time": "2025-07-03T15:49:57.309626",
     "status": "completed"
    },
    "tags": []
   },
   "outputs": [],
   "source": [
    "W_in=torch.nn.Embedding(vocab_size,embedding_dim)\n",
    "W_out=torch.nn.Embedding(vocab_size,embedding_dim)"
   ]
  },
  {
   "cell_type": "markdown",
   "id": "d44259e4",
   "metadata": {
    "papermill": {
     "duration": 0.005665,
     "end_time": "2025-07-03T15:49:57.482358",
     "exception": false,
     "start_time": "2025-07-03T15:49:57.476693",
     "status": "completed"
    },
    "tags": []
   },
   "source": [
    "**Quick note: 1. Just learnt that if I don't feed in the indices in batch and instead try to loop through each one, it'll be too slow. 2. Also learnt the purpose of forward() in a pytorch class - it is the brain that handles input.**"
   ]
  },
  {
   "cell_type": "code",
   "execution_count": 22,
   "id": "5d967656",
   "metadata": {
    "execution": {
     "iopub.execute_input": "2025-07-03T15:49:57.495059Z",
     "iopub.status.busy": "2025-07-03T15:49:57.494435Z",
     "iopub.status.idle": "2025-07-03T15:49:57.499053Z",
     "shell.execute_reply": "2025-07-03T15:49:57.498486Z"
    },
    "papermill": {
     "duration": 0.011964,
     "end_time": "2025-07-03T15:49:57.500034",
     "exception": false,
     "start_time": "2025-07-03T15:49:57.488070",
     "status": "completed"
    },
    "tags": []
   },
   "outputs": [],
   "source": [
    "class Word2Vec(torch.nn.Module):\n",
    "    def __init__(self, vocab_size, embedding_dim):\n",
    "        super().__init__()\n",
    "        self.in_embed = torch.nn.Embedding(vocab_size, embedding_dim)\n",
    "        self.out_embed = torch.nn.Embedding(vocab_size, embedding_dim)\n",
    "        \n",
    "    def forward(self,centre_idx, context_idx):\n",
    "        centre_vector=self.in_embed(centre_idx)\n",
    "        context_vector=self.out_embed(context_idx)\n",
    "        dot_products = torch.sum(centre_vector * context_vector, dim=1)\n",
    "        return dot_products\n",
    "        # torch.dot only works for 1D vectors not batches\n",
    "        # The dot product is the true measure of if the vectors capture the closeness of the words they represent.\n",
    "        # Seeing as we're starting with random values, the predictions will start poor and over time will be adjusted through training. Interesting."
   ]
  },
  {
   "cell_type": "markdown",
   "id": "759a8ed4",
   "metadata": {
    "papermill": {
     "duration": 0.005584,
     "end_time": "2025-07-03T15:49:57.511435",
     "exception": false,
     "start_time": "2025-07-03T15:49:57.505851",
     "status": "completed"
    },
    "tags": []
   },
   "source": [
    "### Adding negative sampling to the training data"
   ]
  },
  {
   "cell_type": "code",
   "execution_count": 23,
   "id": "a5bf1987",
   "metadata": {
    "execution": {
     "iopub.execute_input": "2025-07-03T15:49:57.523603Z",
     "iopub.status.busy": "2025-07-03T15:49:57.523384Z",
     "iopub.status.idle": "2025-07-03T15:49:57.527819Z",
     "shell.execute_reply": "2025-07-03T15:49:57.527247Z"
    },
    "papermill": {
     "duration": 0.011786,
     "end_time": "2025-07-03T15:49:57.528901",
     "exception": false,
     "start_time": "2025-07-03T15:49:57.517115",
     "status": "completed"
    },
    "tags": []
   },
   "outputs": [
    {
     "data": {
      "text/plain": [
       "(175, 122)"
      ]
     },
     "execution_count": 23,
     "metadata": {},
     "output_type": "execute_result"
    }
   ],
   "source": [
    "import random\n",
    "random.sample(training_data,1)[0]"
   ]
  },
  {
   "cell_type": "code",
   "execution_count": 24,
   "id": "73108878",
   "metadata": {
    "execution": {
     "iopub.execute_input": "2025-07-03T15:49:57.541276Z",
     "iopub.status.busy": "2025-07-03T15:49:57.541091Z",
     "iopub.status.idle": "2025-07-03T15:49:57.546266Z",
     "shell.execute_reply": "2025-07-03T15:49:57.545620Z"
    },
    "papermill": {
     "duration": 0.012623,
     "end_time": "2025-07-03T15:49:57.547426",
     "exception": false,
     "start_time": "2025-07-03T15:49:57.534803",
     "status": "completed"
    },
    "tags": []
   },
   "outputs": [],
   "source": [
    "k=5\n",
    "\n",
    "def prepare_batch_with_negatives(batch_data, k, vocab_size):\n",
    "    centre_indices=[]\n",
    "    context_indices=[]\n",
    "    labels=[]\n",
    "    for centre_idx, context_idx in batch_data:\n",
    "        centre_indices.append(centre_idx)\n",
    "        context_indices.append(context_idx)\n",
    "        labels.append(1)\n",
    "        \n",
    "        for nve_sample in range(k):\n",
    "            negative_idx = random.randint(0, vocab_size - 1)\n",
    "            while negative_idx == context_idx:\n",
    "                negative_idx = random.randint(0, vocab_size - 1)\n",
    "            centre_indices.append(centre_idx)\n",
    "            context_indices.append(negative_idx)\n",
    "            labels.append(0)\n",
    "            \n",
    "    centre_tensor = torch.tensor(centre_indices, dtype=torch.long)\n",
    "    context_tensor = torch.tensor(context_indices, dtype=torch.long)\n",
    "    label_tensor   = torch.tensor(labels, dtype=torch.float)\n",
    "    return centre_tensor, context_tensor, label_tensor"
   ]
  },
  {
   "cell_type": "code",
   "execution_count": 25,
   "id": "6b0ce0e6",
   "metadata": {
    "execution": {
     "iopub.execute_input": "2025-07-03T15:49:57.560166Z",
     "iopub.status.busy": "2025-07-03T15:49:57.559970Z",
     "iopub.status.idle": "2025-07-03T15:49:57.696295Z",
     "shell.execute_reply": "2025-07-03T15:49:57.695499Z"
    },
    "papermill": {
     "duration": 0.144546,
     "end_time": "2025-07-03T15:49:57.697758",
     "exception": false,
     "start_time": "2025-07-03T15:49:57.553212",
     "status": "completed"
    },
    "tags": []
   },
   "outputs": [],
   "source": [
    "model = Word2Vec(vocab_size, embedding_dim)"
   ]
  },
  {
   "cell_type": "code",
   "execution_count": 26,
   "id": "a5e6c38c",
   "metadata": {
    "execution": {
     "iopub.execute_input": "2025-07-03T15:49:57.711079Z",
     "iopub.status.busy": "2025-07-03T15:49:57.710874Z",
     "iopub.status.idle": "2025-07-03T15:50:02.560055Z",
     "shell.execute_reply": "2025-07-03T15:50:02.559483Z"
    },
    "papermill": {
     "duration": 4.857473,
     "end_time": "2025-07-03T15:50:02.561749",
     "exception": false,
     "start_time": "2025-07-03T15:49:57.704276",
     "status": "completed"
    },
    "tags": []
   },
   "outputs": [],
   "source": [
    "optimizer = torch.optim.SGD(model.parameters(), lr=0.001)\n",
    "loss_fn = torch.nn.BCELoss()"
   ]
  },
  {
   "cell_type": "code",
   "execution_count": 27,
   "id": "e8f34e72",
   "metadata": {
    "execution": {
     "iopub.execute_input": "2025-07-03T15:50:02.576427Z",
     "iopub.status.busy": "2025-07-03T15:50:02.575730Z",
     "iopub.status.idle": "2025-07-03T15:50:02.818085Z",
     "shell.execute_reply": "2025-07-03T15:50:02.817326Z"
    },
    "papermill": {
     "duration": 0.250684,
     "end_time": "2025-07-03T15:50:02.819218",
     "exception": false,
     "start_time": "2025-07-03T15:50:02.568534",
     "status": "completed"
    },
    "tags": []
   },
   "outputs": [
    {
     "data": {
      "text/plain": [
       "Word2Vec(\n",
       "  (in_embed): Embedding(74561, 100)\n",
       "  (out_embed): Embedding(74561, 100)\n",
       ")"
      ]
     },
     "execution_count": 27,
     "metadata": {},
     "output_type": "execute_result"
    }
   ],
   "source": [
    "device = torch.device(\"cuda\" if torch.cuda.is_available() else \"cpu\")\n",
    "model.to(device)"
   ]
  },
  {
   "cell_type": "markdown",
   "id": "54cbbd4b",
   "metadata": {
    "papermill": {
     "duration": 0.005937,
     "end_time": "2025-07-03T15:50:02.831573",
     "exception": false,
     "start_time": "2025-07-03T15:50:02.825636",
     "status": "completed"
    },
    "tags": []
   },
   "source": [
    "### Loss calculation is two: first is loss per batch and then loss per epoch which averages across batches in an epoch."
   ]
  },
  {
   "cell_type": "code",
   "execution_count": null,
   "id": "f1c0a1e7",
   "metadata": {
    "papermill": {
     "duration": 0.005605,
     "end_time": "2025-07-03T15:50:02.843271",
     "exception": false,
     "start_time": "2025-07-03T15:50:02.837666",
     "status": "completed"
    },
    "tags": []
   },
   "outputs": [],
   "source": []
  },
  {
   "cell_type": "code",
   "execution_count": 28,
   "id": "adfbc099",
   "metadata": {
    "execution": {
     "iopub.execute_input": "2025-07-03T15:50:02.856141Z",
     "iopub.status.busy": "2025-07-03T15:50:02.855913Z",
     "iopub.status.idle": "2025-07-03T17:06:10.385382Z",
     "shell.execute_reply": "2025-07-03T17:06:10.384620Z"
    },
    "papermill": {
     "duration": 4567.543889,
     "end_time": "2025-07-03T17:06:10.393104",
     "exception": false,
     "start_time": "2025-07-03T15:50:02.849215",
     "status": "completed"
    },
    "tags": []
   },
   "outputs": [
    {
     "name": "stdout",
     "output_type": "stream",
     "text": [
      "Epoch 1, Loss: 6.1327\n",
      "Epoch 1, Loss: 7.0067\n",
      "Epoch 2, Loss: 5.6022\n",
      "Epoch 2, Loss: 6.4946\n",
      "Epoch 3, Loss: 5.1511\n",
      "Epoch 3, Loss: 6.1165\n",
      "Epoch 4, Loss: 5.1230\n",
      "Epoch 4, Loss: 5.8583\n",
      "Epoch 5, Loss: 4.9864\n",
      "Epoch 5, Loss: 5.6634\n",
      "Epoch 6, Loss: 5.7705\n",
      "Epoch 6, Loss: 5.5045\n",
      "Epoch 7, Loss: 5.4661\n",
      "Epoch 7, Loss: 5.3807\n",
      "Epoch 8, Loss: 3.7133\n",
      "Epoch 8, Loss: 5.2822\n",
      "Epoch 9, Loss: 5.4758\n",
      "Epoch 9, Loss: 5.1956\n",
      "Epoch 10, Loss: 7.0391\n",
      "Epoch 10, Loss: 5.1223\n",
      "Epoch 11, Loss: 4.3136\n",
      "Epoch 11, Loss: 5.0490\n",
      "Epoch 12, Loss: 5.0255\n",
      "Epoch 12, Loss: 4.9874\n",
      "Epoch 13, Loss: 5.0535\n",
      "Epoch 13, Loss: 4.9259\n",
      "Epoch 14, Loss: 4.1857\n",
      "Epoch 14, Loss: 4.8735\n",
      "Epoch 15, Loss: 6.2504\n",
      "Epoch 15, Loss: 4.8269\n",
      "Epoch 16, Loss: 3.6495\n",
      "Epoch 16, Loss: 4.7871\n",
      "Epoch 17, Loss: 3.5511\n",
      "Epoch 17, Loss: 4.7450\n",
      "Epoch 18, Loss: 4.1976\n",
      "Epoch 18, Loss: 4.7122\n",
      "Epoch 19, Loss: 4.6436\n",
      "Epoch 19, Loss: 4.6767\n",
      "Epoch 20, Loss: 6.6524\n",
      "Epoch 20, Loss: 4.6491\n",
      "Epoch 21, Loss: 5.2884\n",
      "Epoch 21, Loss: 4.6155\n",
      "Epoch 22, Loss: 3.9520\n",
      "Epoch 22, Loss: 4.5838\n",
      "Epoch 23, Loss: 4.9223\n",
      "Epoch 23, Loss: 4.5579\n",
      "Epoch 24, Loss: 6.1670\n",
      "Epoch 24, Loss: 4.5366\n",
      "Epoch 25, Loss: 3.7456\n",
      "Epoch 25, Loss: 4.5082\n"
     ]
    }
   ],
   "source": [
    "num_epochs=25\n",
    "batch_size=100\n",
    "\n",
    "for epoch in range(num_epochs):\n",
    "    random.shuffle(training_data)\n",
    "    total_loss=0\n",
    "\n",
    "    for i in range(0, len(training_data), batch_size):\n",
    "        batch_data = training_data[i : i + batch_size]\n",
    "        \n",
    "        for center_idx, context_idx in batch_data:\n",
    "            assert center_idx < vocab_size, f\"Bad center_idx: {center_idx}\"\n",
    "            assert context_idx < vocab_size, f\"Bad context_idx: {context_idx}\"\n",
    "            \n",
    "        center_tensor, context_tensor, label_tensor = prepare_batch_with_negatives(batch_data, k, vocab_size)\n",
    "        # print(center_tensor.max(), context_tensor.max(), vocab_size)\n",
    "        center_tensor = center_tensor.to(device)\n",
    "        context_tensor = context_tensor.to(device)\n",
    "        label_tensor = label_tensor.to(device)\n",
    "        # Forward pass\n",
    "        dot_products = model(center_tensor, context_tensor)\n",
    "        predictions = torch.sigmoid(dot_products)\n",
    "\n",
    "        # Compute loss\n",
    "        loss = loss_fn(predictions, label_tensor)\n",
    "        total_loss += loss.item()\n",
    "        # Backprop\n",
    "        optimizer.zero_grad()\n",
    "        loss.backward()\n",
    "        optimizer.step()\n",
    "\n",
    "    print(f\"Epoch {epoch+1}, Loss: {loss.item():.4f}\")\n",
    "    print(f\"Epoch {epoch+1}, Loss: {total_loss / (len(training_data) // batch_size):.4f}\")"
   ]
  },
  {
   "cell_type": "code",
   "execution_count": 29,
   "id": "97db151a",
   "metadata": {
    "execution": {
     "iopub.execute_input": "2025-07-03T17:06:10.408284Z",
     "iopub.status.busy": "2025-07-03T17:06:10.408064Z",
     "iopub.status.idle": "2025-07-03T17:06:10.411779Z",
     "shell.execute_reply": "2025-07-03T17:06:10.411121Z"
    },
    "papermill": {
     "duration": 0.01233,
     "end_time": "2025-07-03T17:06:10.412881",
     "exception": false,
     "start_time": "2025-07-03T17:06:10.400551",
     "status": "completed"
    },
    "tags": []
   },
   "outputs": [],
   "source": [
    "word_vectors = model.in_embed.weight.data  # Tensor: [vocab_size, embedding_dim]\n",
    "word = \"add\"  # Example\n",
    "idx = word2idx[word]\n",
    "target_vector = word_vectors[idx]"
   ]
  },
  {
   "cell_type": "code",
   "execution_count": 30,
   "id": "da23eb92",
   "metadata": {
    "execution": {
     "iopub.execute_input": "2025-07-03T17:06:10.427195Z",
     "iopub.status.busy": "2025-07-03T17:06:10.426997Z",
     "iopub.status.idle": "2025-07-03T17:06:10.517175Z",
     "shell.execute_reply": "2025-07-03T17:06:10.516386Z"
    },
    "papermill": {
     "duration": 0.098748,
     "end_time": "2025-07-03T17:06:10.518537",
     "exception": false,
     "start_time": "2025-07-03T17:06:10.419789",
     "status": "completed"
    },
    "tags": []
   },
   "outputs": [],
   "source": [
    "cosine_similarities = torch.nn.functional.cosine_similarity(\n",
    "    target_vector.unsqueeze(0), word_vectors, dim=1\n",
    ")"
   ]
  },
  {
   "cell_type": "code",
   "execution_count": 31,
   "id": "d3d9c205",
   "metadata": {
    "execution": {
     "iopub.execute_input": "2025-07-03T17:06:10.533711Z",
     "iopub.status.busy": "2025-07-03T17:06:10.533252Z",
     "iopub.status.idle": "2025-07-03T17:06:10.606668Z",
     "shell.execute_reply": "2025-07-03T17:06:10.605991Z"
    },
    "papermill": {
     "duration": 0.081909,
     "end_time": "2025-07-03T17:06:10.607831",
     "exception": false,
     "start_time": "2025-07-03T17:06:10.525922",
     "status": "completed"
    },
    "tags": []
   },
   "outputs": [
    {
     "name": "stdout",
     "output_type": "stream",
     "text": [
      "['add', 'bigamist', 'contested', 'prokoszny', 'lots', 'tada', 'summer', 'stokowskis', 'hussars', 'görings']\n"
     ]
    }
   ],
   "source": [
    "top_indices = torch.topk(cosine_similarities, k=10).indices.tolist()\n",
    "similar_words = [idx2word[i] for i in top_indices]\n",
    "print(similar_words)"
   ]
  },
  {
   "cell_type": "code",
   "execution_count": 32,
   "id": "ff4cccee",
   "metadata": {
    "execution": {
     "iopub.execute_input": "2025-07-03T17:06:10.622946Z",
     "iopub.status.busy": "2025-07-03T17:06:10.622714Z",
     "iopub.status.idle": "2025-07-03T17:06:10.625946Z",
     "shell.execute_reply": "2025-07-03T17:06:10.625280Z"
    },
    "papermill": {
     "duration": 0.011965,
     "end_time": "2025-07-03T17:06:10.627043",
     "exception": false,
     "start_time": "2025-07-03T17:06:10.615078",
     "status": "completed"
    },
    "tags": []
   },
   "outputs": [],
   "source": [
    "# from sklearn.manifold import TSNE\n",
    "# import matplotlib.pyplot as plt\n",
    "\n",
    "# tsne = TSNE(n_components=2, random_state=0)\n",
    "# word_vectors_cpu = word_vectors.cpu().numpy()\n",
    "# embeddings_2d = tsne.fit_transform(word_vectors_cpu)\n",
    "\n",
    "# plt.scatter(embeddings_2d[:, 0], embeddings_2d[:, 1])\n",
    "# plt.show()"
   ]
  },
  {
   "cell_type": "code",
   "execution_count": null,
   "id": "a15aa644",
   "metadata": {
    "papermill": {
     "duration": 0.006627,
     "end_time": "2025-07-03T17:06:10.640784",
     "exception": false,
     "start_time": "2025-07-03T17:06:10.634157",
     "status": "completed"
    },
    "tags": []
   },
   "outputs": [],
   "source": []
  }
 ],
 "metadata": {
  "kaggle": {
   "accelerator": "gpu",
   "dataSources": [
    {
     "datasetId": 64890,
     "sourceId": 127736,
     "sourceType": "datasetVersion"
    }
   ],
   "dockerImageVersionId": 31040,
   "isGpuEnabled": true,
   "isInternetEnabled": true,
   "language": "python",
   "sourceType": "notebook"
  },
  "kernelspec": {
   "display_name": "Python 3",
   "language": "python",
   "name": "python3"
  },
  "language_info": {
   "codemirror_mode": {
    "name": "ipython",
    "version": 3
   },
   "file_extension": ".py",
   "mimetype": "text/x-python",
   "name": "python",
   "nbconvert_exporter": "python",
   "pygments_lexer": "ipython3",
   "version": "3.11.11"
  },
  "papermill": {
   "default_parameters": {},
   "duration": 4611.214543,
   "end_time": "2025-07-03T17:06:13.469417",
   "environment_variables": {},
   "exception": null,
   "input_path": "__notebook__.ipynb",
   "output_path": "__notebook__.ipynb",
   "parameters": {},
   "start_time": "2025-07-03T15:49:22.254874",
   "version": "2.6.0"
  }
 },
 "nbformat": 4,
 "nbformat_minor": 5
}
