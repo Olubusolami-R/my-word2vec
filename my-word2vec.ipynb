{
 "cells": [
  {
   "cell_type": "code",
   "execution_count": 1,
   "id": "01b143ad",
   "metadata": {
    "_cell_guid": "b1076dfc-b9ad-4769-8c92-a6c4dae69d19",
    "_uuid": "8f2839f25d086af736a60e9eeb907d3b93b6e0e5",
    "execution": {
     "iopub.execute_input": "2025-07-03T15:27:05.032465Z",
     "iopub.status.busy": "2025-07-03T15:27:05.032230Z",
     "iopub.status.idle": "2025-07-03T15:27:06.447609Z",
     "shell.execute_reply": "2025-07-03T15:27:06.446789Z"
    },
    "papermill": {
     "duration": 1.423196,
     "end_time": "2025-07-03T15:27:06.448764",
     "exception": false,
     "start_time": "2025-07-03T15:27:05.025568",
     "status": "completed"
    },
    "tags": []
   },
   "outputs": [
    {
     "name": "stdout",
     "output_type": "stream",
     "text": [
      "/kaggle/input/wikipedia-movie-plots/wiki_movie_plots_deduped.csv\n"
     ]
    }
   ],
   "source": [
    "import numpy as np # linear algebra\n",
    "import pandas as pd # data processing, CSV file I/O (e.g. pd.read_csv)\n",
    "\n",
    "import os\n",
    "for dirname, _, filenames in os.walk('/kaggle/input'):\n",
    "    for filename in filenames:\n",
    "        print(os.path.join(dirname, filename))"
   ]
  },
  {
   "cell_type": "markdown",
   "id": "799f0907",
   "metadata": {
    "papermill": {
     "duration": 0.00542,
     "end_time": "2025-07-03T15:27:06.459762",
     "exception": false,
     "start_time": "2025-07-03T15:27:06.454342",
     "status": "completed"
    },
    "tags": []
   },
   "source": [
    "## 1. Extract the corpus: Movie Plots"
   ]
  },
  {
   "cell_type": "code",
   "execution_count": 2,
   "id": "589b27c1",
   "metadata": {
    "execution": {
     "iopub.execute_input": "2025-07-03T15:27:06.475115Z",
     "iopub.status.busy": "2025-07-03T15:27:06.474431Z",
     "iopub.status.idle": "2025-07-03T15:27:08.455934Z",
     "shell.execute_reply": "2025-07-03T15:27:08.455172Z"
    },
    "papermill": {
     "duration": 1.989533,
     "end_time": "2025-07-03T15:27:08.457463",
     "exception": false,
     "start_time": "2025-07-03T15:27:06.467930",
     "status": "completed"
    },
    "tags": []
   },
   "outputs": [],
   "source": [
    "df=pd.read_csv(\"/kaggle/input/wikipedia-movie-plots/wiki_movie_plots_deduped.csv\")"
   ]
  },
  {
   "cell_type": "code",
   "execution_count": 3,
   "id": "15ab69a2",
   "metadata": {
    "execution": {
     "iopub.execute_input": "2025-07-03T15:27:08.468590Z",
     "iopub.status.busy": "2025-07-03T15:27:08.468359Z",
     "iopub.status.idle": "2025-07-03T15:27:08.505483Z",
     "shell.execute_reply": "2025-07-03T15:27:08.504566Z"
    },
    "papermill": {
     "duration": 0.043908,
     "end_time": "2025-07-03T15:27:08.506639",
     "exception": false,
     "start_time": "2025-07-03T15:27:08.462731",
     "status": "completed"
    },
    "tags": []
   },
   "outputs": [
    {
     "name": "stdout",
     "output_type": "stream",
     "text": [
      "<class 'pandas.core.frame.DataFrame'>\n",
      "RangeIndex: 34886 entries, 0 to 34885\n",
      "Data columns (total 8 columns):\n",
      " #   Column            Non-Null Count  Dtype \n",
      "---  ------            --------------  ----- \n",
      " 0   Release Year      34886 non-null  int64 \n",
      " 1   Title             34886 non-null  object\n",
      " 2   Origin/Ethnicity  34886 non-null  object\n",
      " 3   Director          34886 non-null  object\n",
      " 4   Cast              33464 non-null  object\n",
      " 5   Genre             34886 non-null  object\n",
      " 6   Wiki Page         34886 non-null  object\n",
      " 7   Plot              34886 non-null  object\n",
      "dtypes: int64(1), object(7)\n",
      "memory usage: 2.1+ MB\n"
     ]
    }
   ],
   "source": [
    "df.info()"
   ]
  },
  {
   "cell_type": "code",
   "execution_count": 4,
   "id": "ab8cca5c",
   "metadata": {
    "execution": {
     "iopub.execute_input": "2025-07-03T15:27:08.517543Z",
     "iopub.status.busy": "2025-07-03T15:27:08.517361Z",
     "iopub.status.idle": "2025-07-03T15:27:08.522964Z",
     "shell.execute_reply": "2025-07-03T15:27:08.522410Z"
    },
    "papermill": {
     "duration": 0.012006,
     "end_time": "2025-07-03T15:27:08.523958",
     "exception": false,
     "start_time": "2025-07-03T15:27:08.511952",
     "status": "completed"
    },
    "tags": []
   },
   "outputs": [
    {
     "data": {
      "text/plain": [
       "'Lasting just 61 seconds and consisting of two shots, the first shot is set in a wood during winter. The actor representing then vice-president Theodore Roosevelt enthusiastically hurries down a hillside towards a tree in the foreground. He falls once, but rights himself and cocks his rifle. Two other men, bearing signs reading \"His Photographer\" and \"His Press Agent\" respectively, follow him into the shot; the photographer sets up his camera. \"Teddy\" aims his rifle upward at the tree and fells what appears to be a common house cat, which he then proceeds to stab. \"Teddy\" holds his prize aloft, and the press agent takes notes. The second shot is taken in a slightly different part of the wood, on a path. \"Teddy\" rides the path on his horse towards the camera and out to the left of the shot, followed closely by the press agent and photographer, still dutifully holding their signs.'"
      ]
     },
     "execution_count": 4,
     "metadata": {},
     "output_type": "execute_result"
    }
   ],
   "source": [
    "corpus=df[\"Plot\"][:10000].to_list()\n",
    "len(corpus)\n",
    "corpus[3]"
   ]
  },
  {
   "cell_type": "markdown",
   "id": "0aae6cbd",
   "metadata": {
    "papermill": {
     "duration": 0.004831,
     "end_time": "2025-07-03T15:27:08.534079",
     "exception": false,
     "start_time": "2025-07-03T15:27:08.529248",
     "status": "completed"
    },
    "tags": []
   },
   "source": [
    "## 2. Next up is Preprocessing/Cleaning"
   ]
  },
  {
   "cell_type": "markdown",
   "id": "1d9321dd",
   "metadata": {
    "papermill": {
     "duration": 0.004757,
     "end_time": "2025-07-03T15:27:08.543727",
     "exception": false,
     "start_time": "2025-07-03T15:27:08.538970",
     "status": "completed"
    },
    "tags": []
   },
   "source": [
    "### Import the tokenizer"
   ]
  },
  {
   "cell_type": "code",
   "execution_count": 5,
   "id": "7ca0d1e2",
   "metadata": {
    "execution": {
     "iopub.execute_input": "2025-07-03T15:27:08.555751Z",
     "iopub.status.busy": "2025-07-03T15:27:08.555402Z",
     "iopub.status.idle": "2025-07-03T15:27:10.332463Z",
     "shell.execute_reply": "2025-07-03T15:27:10.331860Z"
    },
    "papermill": {
     "duration": 1.785326,
     "end_time": "2025-07-03T15:27:10.333804",
     "exception": false,
     "start_time": "2025-07-03T15:27:08.548478",
     "status": "completed"
    },
    "tags": []
   },
   "outputs": [],
   "source": [
    "from nltk.tokenize import word_tokenize"
   ]
  },
  {
   "cell_type": "markdown",
   "id": "86cc70b0",
   "metadata": {
    "papermill": {
     "duration": 0.005022,
     "end_time": "2025-07-03T15:27:10.344205",
     "exception": false,
     "start_time": "2025-07-03T15:27:10.339183",
     "status": "completed"
    },
    "tags": []
   },
   "source": [
    "### Preprocess text (to lowercase, remove punctuations and tokenize"
   ]
  },
  {
   "cell_type": "code",
   "execution_count": 6,
   "id": "9a4dbe3b",
   "metadata": {
    "execution": {
     "iopub.execute_input": "2025-07-03T15:27:10.354897Z",
     "iopub.status.busy": "2025-07-03T15:27:10.354562Z",
     "iopub.status.idle": "2025-07-03T15:27:19.979024Z",
     "shell.execute_reply": "2025-07-03T15:27:19.978373Z"
    },
    "papermill": {
     "duration": 9.631484,
     "end_time": "2025-07-03T15:27:19.980490",
     "exception": false,
     "start_time": "2025-07-03T15:27:10.349006",
     "status": "completed"
    },
    "tags": []
   },
   "outputs": [],
   "source": [
    "import string\n",
    "tokens=[]\n",
    "for i in range(len(corpus)):\n",
    "    temp=corpus[i].lower()\n",
    "    corpus[i]=''.join([char for char in temp if char not in string.punctuation])\n",
    "    tokens.extend(word_tokenize(corpus[i]))"
   ]
  },
  {
   "cell_type": "code",
   "execution_count": 7,
   "id": "c0ce4bd6",
   "metadata": {
    "execution": {
     "iopub.execute_input": "2025-07-03T15:27:19.991770Z",
     "iopub.status.busy": "2025-07-03T15:27:19.991541Z",
     "iopub.status.idle": "2025-07-03T15:27:19.995368Z",
     "shell.execute_reply": "2025-07-03T15:27:19.994759Z"
    },
    "papermill": {
     "duration": 0.010652,
     "end_time": "2025-07-03T15:27:19.996453",
     "exception": false,
     "start_time": "2025-07-03T15:27:19.985801",
     "status": "completed"
    },
    "tags": []
   },
   "outputs": [
    {
     "name": "stdout",
     "output_type": "stream",
     "text": [
      "3306739\n"
     ]
    }
   ],
   "source": [
    "print(len(tokens))"
   ]
  },
  {
   "cell_type": "markdown",
   "id": "7355752c",
   "metadata": {
    "papermill": {
     "duration": 0.004746,
     "end_time": "2025-07-03T15:27:20.006128",
     "exception": false,
     "start_time": "2025-07-03T15:27:20.001382",
     "status": "completed"
    },
    "tags": []
   },
   "source": [
    "### Record word frequency and create word index"
   ]
  },
  {
   "cell_type": "code",
   "execution_count": 8,
   "id": "502a7330",
   "metadata": {
    "execution": {
     "iopub.execute_input": "2025-07-03T15:27:20.016693Z",
     "iopub.status.busy": "2025-07-03T15:27:20.016285Z",
     "iopub.status.idle": "2025-07-03T15:27:20.861766Z",
     "shell.execute_reply": "2025-07-03T15:27:20.861116Z"
    },
    "papermill": {
     "duration": 0.852449,
     "end_time": "2025-07-03T15:27:20.863332",
     "exception": false,
     "start_time": "2025-07-03T15:27:20.010883",
     "status": "completed"
    },
    "tags": []
   },
   "outputs": [],
   "source": [
    "word_freq={}\n",
    "word2idx={}\n",
    "count_idx=0 #this was the source of the error sigh\n",
    "\n",
    "for token in tokens:\n",
    "    if token not in word2idx:\n",
    "        word2idx[token]=count_idx\n",
    "        word_freq[token]=1\n",
    "        count_idx+=1\n",
    "    else:\n",
    "        word_freq[token]+=1"
   ]
  },
  {
   "cell_type": "code",
   "execution_count": 9,
   "id": "3a5dbeb6",
   "metadata": {
    "execution": {
     "iopub.execute_input": "2025-07-03T15:27:20.874343Z",
     "iopub.status.busy": "2025-07-03T15:27:20.874132Z",
     "iopub.status.idle": "2025-07-03T15:27:20.878131Z",
     "shell.execute_reply": "2025-07-03T15:27:20.877206Z"
    },
    "papermill": {
     "duration": 0.01092,
     "end_time": "2025-07-03T15:27:20.879454",
     "exception": false,
     "start_time": "2025-07-03T15:27:20.868534",
     "status": "completed"
    },
    "tags": []
   },
   "outputs": [
    {
     "name": "stdout",
     "output_type": "stream",
     "text": [
      "74561\n"
     ]
    }
   ],
   "source": [
    "print(len(word2idx))"
   ]
  },
  {
   "cell_type": "code",
   "execution_count": 10,
   "id": "f968e0ac",
   "metadata": {
    "execution": {
     "iopub.execute_input": "2025-07-03T15:27:20.890439Z",
     "iopub.status.busy": "2025-07-03T15:27:20.890236Z",
     "iopub.status.idle": "2025-07-03T15:27:20.907349Z",
     "shell.execute_reply": "2025-07-03T15:27:20.906838Z"
    },
    "papermill": {
     "duration": 0.023736,
     "end_time": "2025-07-03T15:27:20.908338",
     "exception": false,
     "start_time": "2025-07-03T15:27:20.884602",
     "status": "completed"
    },
    "tags": []
   },
   "outputs": [],
   "source": [
    "idx2word={idx:word for word,idx in word2idx.items()}"
   ]
  },
  {
   "cell_type": "markdown",
   "id": "b0763a6d",
   "metadata": {
    "papermill": {
     "duration": 0.004782,
     "end_time": "2025-07-03T15:27:20.917992",
     "exception": false,
     "start_time": "2025-07-03T15:27:20.913210",
     "status": "completed"
    },
    "tags": []
   },
   "source": [
    "# trying to debug the bad context index error"
   ]
  },
  {
   "cell_type": "code",
   "execution_count": 11,
   "id": "c4837f8b",
   "metadata": {
    "execution": {
     "iopub.execute_input": "2025-07-03T15:27:20.928738Z",
     "iopub.status.busy": "2025-07-03T15:27:20.928520Z",
     "iopub.status.idle": "2025-07-03T15:27:20.932297Z",
     "shell.execute_reply": "2025-07-03T15:27:20.931643Z"
    },
    "papermill": {
     "duration": 0.01017,
     "end_time": "2025-07-03T15:27:20.933282",
     "exception": false,
     "start_time": "2025-07-03T15:27:20.923112",
     "status": "completed"
    },
    "tags": []
   },
   "outputs": [
    {
     "name": "stdout",
     "output_type": "stream",
     "text": [
      "a\n"
     ]
    }
   ],
   "source": [
    "print(idx2word[0])"
   ]
  },
  {
   "cell_type": "markdown",
   "id": "eb44d2a6",
   "metadata": {
    "papermill": {
     "duration": 0.004889,
     "end_time": "2025-07-03T15:27:20.943176",
     "exception": false,
     "start_time": "2025-07-03T15:27:20.938287",
     "status": "completed"
    },
    "tags": []
   },
   "source": [
    "### Now I see that the range goes from 0 to 17766 and that vocab size is 17767. The problem was wrong vocab size. I started the index in word2idx from 1 not 0 but was requiring 0 in other places."
   ]
  },
  {
   "cell_type": "code",
   "execution_count": 12,
   "id": "56cc5372",
   "metadata": {
    "execution": {
     "iopub.execute_input": "2025-07-03T15:27:20.953753Z",
     "iopub.status.busy": "2025-07-03T15:27:20.953540Z",
     "iopub.status.idle": "2025-07-03T15:27:20.956893Z",
     "shell.execute_reply": "2025-07-03T15:27:20.956241Z"
    },
    "papermill": {
     "duration": 0.009838,
     "end_time": "2025-07-03T15:27:20.957880",
     "exception": false,
     "start_time": "2025-07-03T15:27:20.948042",
     "status": "completed"
    },
    "tags": []
   },
   "outputs": [
    {
     "name": "stdout",
     "output_type": "stream",
     "text": [
      "17765\n"
     ]
    }
   ],
   "source": [
    "print(word2idx[\"mounties\"])"
   ]
  },
  {
   "cell_type": "markdown",
   "id": "67c8992a",
   "metadata": {
    "papermill": {
     "duration": 0.004887,
     "end_time": "2025-07-03T15:27:20.967813",
     "exception": false,
     "start_time": "2025-07-03T15:27:20.962926",
     "status": "completed"
    },
    "tags": []
   },
   "source": [
    "### 3. Next up is Generating Train Pairs (word-context pairs)"
   ]
  },
  {
   "cell_type": "code",
   "execution_count": 13,
   "id": "6c16e6ad",
   "metadata": {
    "execution": {
     "iopub.execute_input": "2025-07-03T15:27:20.978519Z",
     "iopub.status.busy": "2025-07-03T15:27:20.978326Z",
     "iopub.status.idle": "2025-07-03T15:27:27.072338Z",
     "shell.execute_reply": "2025-07-03T15:27:27.071689Z"
    },
    "papermill": {
     "duration": 6.100855,
     "end_time": "2025-07-03T15:27:27.073684",
     "exception": false,
     "start_time": "2025-07-03T15:27:20.972829",
     "status": "completed"
    },
    "tags": []
   },
   "outputs": [],
   "source": [
    "window_size=2\n",
    "training_pairs=[]\n",
    "for i in range(len(tokens)):\n",
    "    start=i-window_size\n",
    "    stop=i+window_size+1\n",
    "    \n",
    "    for j in range(start,stop):\n",
    "        if j<0 or j==i or j>=len(tokens):\n",
    "            continue\n",
    "        training_pairs.append((tokens[i],tokens[j]))   "
   ]
  },
  {
   "cell_type": "code",
   "execution_count": 14,
   "id": "8d2a7ebf",
   "metadata": {
    "execution": {
     "iopub.execute_input": "2025-07-03T15:27:27.085376Z",
     "iopub.status.busy": "2025-07-03T15:27:27.085155Z",
     "iopub.status.idle": "2025-07-03T15:27:27.088939Z",
     "shell.execute_reply": "2025-07-03T15:27:27.088295Z"
    },
    "papermill": {
     "duration": 0.010911,
     "end_time": "2025-07-03T15:27:27.090038",
     "exception": false,
     "start_time": "2025-07-03T15:27:27.079127",
     "status": "completed"
    },
    "tags": []
   },
   "outputs": [
    {
     "name": "stdout",
     "output_type": "stream",
     "text": [
      "[('a', 'bartender'), ('a', 'is'), ('bartender', 'a'), ('bartender', 'is'), ('bartender', 'working'), ('is', 'a'), ('is', 'bartender'), ('is', 'working'), ('is', 'at'), ('working', 'bartender'), ('working', 'is'), ('working', 'at'), ('working', 'a'), ('at', 'is'), ('at', 'working'), ('at', 'a'), ('at', 'saloon'), ('a', 'working'), ('a', 'at'), ('a', 'saloon'), ('a', 'serving'), ('saloon', 'at'), ('saloon', 'a'), ('saloon', 'serving'), ('saloon', 'drinks'), ('serving', 'a'), ('serving', 'saloon'), ('serving', 'drinks'), ('serving', 'to'), ('drinks', 'saloon'), ('drinks', 'serving'), ('drinks', 'to'), ('drinks', 'customers'), ('to', 'serving'), ('to', 'drinks'), ('to', 'customers'), ('to', 'after'), ('customers', 'drinks'), ('customers', 'to'), ('customers', 'after'), ('customers', 'he'), ('after', 'to'), ('after', 'customers'), ('after', 'he'), ('after', 'fills'), ('he', 'customers'), ('he', 'after'), ('he', 'fills'), ('he', 'a'), ('fills', 'after')]\n"
     ]
    }
   ],
   "source": [
    "print(training_pairs[:50])"
   ]
  },
  {
   "cell_type": "markdown",
   "id": "cc709008",
   "metadata": {
    "papermill": {
     "duration": 0.005054,
     "end_time": "2025-07-03T15:27:27.100278",
     "exception": false,
     "start_time": "2025-07-03T15:27:27.095224",
     "status": "completed"
    },
    "tags": []
   },
   "source": [
    "### 4. Next up is converting words to indices"
   ]
  },
  {
   "cell_type": "code",
   "execution_count": 15,
   "id": "7b62536c",
   "metadata": {
    "execution": {
     "iopub.execute_input": "2025-07-03T15:27:27.111025Z",
     "iopub.status.busy": "2025-07-03T15:27:27.110789Z",
     "iopub.status.idle": "2025-07-03T15:27:30.714720Z",
     "shell.execute_reply": "2025-07-03T15:27:30.714155Z"
    },
    "papermill": {
     "duration": 3.61077,
     "end_time": "2025-07-03T15:27:30.716038",
     "exception": false,
     "start_time": "2025-07-03T15:27:27.105268",
     "status": "completed"
    },
    "tags": []
   },
   "outputs": [],
   "source": [
    "training_data = []\n",
    "for tup in training_pairs:\n",
    "    training_data.append((word2idx[tup[0]],word2idx[tup[1]]))"
   ]
  },
  {
   "cell_type": "code",
   "execution_count": 16,
   "id": "3004a5dd",
   "metadata": {
    "execution": {
     "iopub.execute_input": "2025-07-03T15:27:30.728040Z",
     "iopub.status.busy": "2025-07-03T15:27:30.727576Z",
     "iopub.status.idle": "2025-07-03T15:27:30.732931Z",
     "shell.execute_reply": "2025-07-03T15:27:30.732356Z"
    },
    "papermill": {
     "duration": 0.012486,
     "end_time": "2025-07-03T15:27:30.734061",
     "exception": false,
     "start_time": "2025-07-03T15:27:30.721575",
     "status": "completed"
    },
    "tags": []
   },
   "outputs": [
    {
     "data": {
      "text/plain": [
       "[(0, 1),\n",
       " (0, 2),\n",
       " (1, 0),\n",
       " (1, 2),\n",
       " (1, 3),\n",
       " (2, 0),\n",
       " (2, 1),\n",
       " (2, 3),\n",
       " (2, 4),\n",
       " (3, 1),\n",
       " (3, 2),\n",
       " (3, 4),\n",
       " (3, 0),\n",
       " (4, 2),\n",
       " (4, 3),\n",
       " (4, 0),\n",
       " (4, 5),\n",
       " (0, 3),\n",
       " (0, 4),\n",
       " (0, 5),\n",
       " (0, 6),\n",
       " (5, 4),\n",
       " (5, 0),\n",
       " (5, 6),\n",
       " (5, 7),\n",
       " (6, 0),\n",
       " (6, 5),\n",
       " (6, 7),\n",
       " (6, 8),\n",
       " (7, 5),\n",
       " (7, 6),\n",
       " (7, 8),\n",
       " (7, 9),\n",
       " (8, 6),\n",
       " (8, 7),\n",
       " (8, 9),\n",
       " (8, 10),\n",
       " (9, 7),\n",
       " (9, 8),\n",
       " (9, 10),\n",
       " (9, 11),\n",
       " (10, 8),\n",
       " (10, 9),\n",
       " (10, 11),\n",
       " (10, 12),\n",
       " (11, 9),\n",
       " (11, 10),\n",
       " (11, 12),\n",
       " (11, 0),\n",
       " (12, 10)]"
      ]
     },
     "execution_count": 16,
     "metadata": {},
     "output_type": "execute_result"
    }
   ],
   "source": [
    "training_data[:50]"
   ]
  },
  {
   "cell_type": "code",
   "execution_count": 17,
   "id": "7b8c3cdf",
   "metadata": {
    "execution": {
     "iopub.execute_input": "2025-07-03T15:27:30.745747Z",
     "iopub.status.busy": "2025-07-03T15:27:30.745340Z",
     "iopub.status.idle": "2025-07-03T15:27:30.749261Z",
     "shell.execute_reply": "2025-07-03T15:27:30.748774Z"
    },
    "papermill": {
     "duration": 0.010811,
     "end_time": "2025-07-03T15:27:30.750230",
     "exception": false,
     "start_time": "2025-07-03T15:27:30.739419",
     "status": "completed"
    },
    "tags": []
   },
   "outputs": [
    {
     "data": {
      "text/plain": [
       "10"
      ]
     },
     "execution_count": 17,
     "metadata": {},
     "output_type": "execute_result"
    }
   ],
   "source": [
    "word2idx[\"after\"]"
   ]
  },
  {
   "cell_type": "code",
   "execution_count": 18,
   "id": "9221e524",
   "metadata": {
    "execution": {
     "iopub.execute_input": "2025-07-03T15:27:30.761914Z",
     "iopub.status.busy": "2025-07-03T15:27:30.761706Z",
     "iopub.status.idle": "2025-07-03T15:27:30.766417Z",
     "shell.execute_reply": "2025-07-03T15:27:30.765782Z"
    },
    "papermill": {
     "duration": 0.012021,
     "end_time": "2025-07-03T15:27:30.767553",
     "exception": false,
     "start_time": "2025-07-03T15:27:30.755532",
     "status": "completed"
    },
    "tags": []
   },
   "outputs": [
    {
     "data": {
      "text/plain": [
       "'hidden'"
      ]
     },
     "execution_count": 18,
     "metadata": {},
     "output_type": "execute_result"
    }
   ],
   "source": [
    "idx2word[121]"
   ]
  },
  {
   "cell_type": "code",
   "execution_count": 19,
   "id": "5c74f12a",
   "metadata": {
    "execution": {
     "iopub.execute_input": "2025-07-03T15:27:30.779407Z",
     "iopub.status.busy": "2025-07-03T15:27:30.778717Z",
     "iopub.status.idle": "2025-07-03T15:27:30.782693Z",
     "shell.execute_reply": "2025-07-03T15:27:30.782011Z"
    },
    "papermill": {
     "duration": 0.010845,
     "end_time": "2025-07-03T15:27:30.783808",
     "exception": false,
     "start_time": "2025-07-03T15:27:30.772963",
     "status": "completed"
    },
    "tags": []
   },
   "outputs": [
    {
     "name": "stdout",
     "output_type": "stream",
     "text": [
      "74561\n"
     ]
    }
   ],
   "source": [
    "vocab_size=len(word2idx) #number of unique words in the corpus\n",
    "print(vocab_size)\n",
    "embedding_dim=100 #a usual value for Word2Vec"
   ]
  },
  {
   "cell_type": "code",
   "execution_count": 20,
   "id": "e0aeecf8",
   "metadata": {
    "execution": {
     "iopub.execute_input": "2025-07-03T15:27:30.795350Z",
     "iopub.status.busy": "2025-07-03T15:27:30.794862Z",
     "iopub.status.idle": "2025-07-03T15:27:36.017530Z",
     "shell.execute_reply": "2025-07-03T15:27:36.016957Z"
    },
    "papermill": {
     "duration": 5.229829,
     "end_time": "2025-07-03T15:27:36.018917",
     "exception": false,
     "start_time": "2025-07-03T15:27:30.789088",
     "status": "completed"
    },
    "tags": []
   },
   "outputs": [],
   "source": [
    "import torch"
   ]
  },
  {
   "cell_type": "markdown",
   "id": "63a5df05",
   "metadata": {
    "papermill": {
     "duration": 0.00534,
     "end_time": "2025-07-03T15:27:36.077473",
     "exception": false,
     "start_time": "2025-07-03T15:27:36.072133",
     "status": "completed"
    },
    "tags": []
   },
   "source": [
    "### Define the Embedding Layers and Word2Vec Class"
   ]
  },
  {
   "cell_type": "code",
   "execution_count": 21,
   "id": "97bb2b24",
   "metadata": {
    "execution": {
     "iopub.execute_input": "2025-07-03T15:27:36.089762Z",
     "iopub.status.busy": "2025-07-03T15:27:36.089067Z",
     "iopub.status.idle": "2025-07-03T15:27:36.244476Z",
     "shell.execute_reply": "2025-07-03T15:27:36.243844Z"
    },
    "papermill": {
     "duration": 0.163043,
     "end_time": "2025-07-03T15:27:36.245935",
     "exception": false,
     "start_time": "2025-07-03T15:27:36.082892",
     "status": "completed"
    },
    "tags": []
   },
   "outputs": [],
   "source": [
    "W_in=torch.nn.Embedding(vocab_size,embedding_dim)\n",
    "W_out=torch.nn.Embedding(vocab_size,embedding_dim)"
   ]
  },
  {
   "cell_type": "markdown",
   "id": "eb929be1",
   "metadata": {
    "papermill": {
     "duration": 0.005318,
     "end_time": "2025-07-03T15:27:36.257748",
     "exception": false,
     "start_time": "2025-07-03T15:27:36.252430",
     "status": "completed"
    },
    "tags": []
   },
   "source": [
    "**Quick note: 1. Just learnt that if I don't feed in the indices in batch and instead try to loop through each one, it'll be too slow. 2. Also learnt the purpose of forward() in a pytorch class - it is the brain that handles input.**"
   ]
  },
  {
   "cell_type": "code",
   "execution_count": 22,
   "id": "03a267d3",
   "metadata": {
    "execution": {
     "iopub.execute_input": "2025-07-03T15:27:36.269828Z",
     "iopub.status.busy": "2025-07-03T15:27:36.269248Z",
     "iopub.status.idle": "2025-07-03T15:27:36.273909Z",
     "shell.execute_reply": "2025-07-03T15:27:36.273244Z"
    },
    "papermill": {
     "duration": 0.011819,
     "end_time": "2025-07-03T15:27:36.275048",
     "exception": false,
     "start_time": "2025-07-03T15:27:36.263229",
     "status": "completed"
    },
    "tags": []
   },
   "outputs": [],
   "source": [
    "class Word2Vec(torch.nn.Module):\n",
    "    def __init__(self, vocab_size, embedding_dim):\n",
    "        super().__init__()\n",
    "        self.in_embed = torch.nn.Embedding(vocab_size, embedding_dim)\n",
    "        self.out_embed = torch.nn.Embedding(vocab_size, embedding_dim)\n",
    "        \n",
    "    def forward(self,centre_idx, context_idx):\n",
    "        centre_vector=self.in_embed(centre_idx)\n",
    "        context_vector=self.out_embed(context_idx)\n",
    "        dot_products = torch.sum(centre_vector * context_vector, dim=1)\n",
    "        return dot_products\n",
    "        # torch.dot only works for 1D vectors not batches\n",
    "        # The dot product is the true measure of if the vectors capture the closeness of the words they represent.\n",
    "        # Seeing as we're starting with random values, the predictions will start poor and over time will be adjusted through training. Interesting."
   ]
  },
  {
   "cell_type": "markdown",
   "id": "92852182",
   "metadata": {
    "papermill": {
     "duration": 0.005299,
     "end_time": "2025-07-03T15:27:36.285731",
     "exception": false,
     "start_time": "2025-07-03T15:27:36.280432",
     "status": "completed"
    },
    "tags": []
   },
   "source": [
    "### Adding negative sampling to the training data"
   ]
  },
  {
   "cell_type": "code",
   "execution_count": 23,
   "id": "afab2437",
   "metadata": {
    "execution": {
     "iopub.execute_input": "2025-07-03T15:27:36.297561Z",
     "iopub.status.busy": "2025-07-03T15:27:36.297023Z",
     "iopub.status.idle": "2025-07-03T15:27:36.301673Z",
     "shell.execute_reply": "2025-07-03T15:27:36.301094Z"
    },
    "papermill": {
     "duration": 0.011636,
     "end_time": "2025-07-03T15:27:36.302760",
     "exception": false,
     "start_time": "2025-07-03T15:27:36.291124",
     "status": "completed"
    },
    "tags": []
   },
   "outputs": [
    {
     "data": {
      "text/plain": [
       "(14647, 28)"
      ]
     },
     "execution_count": 23,
     "metadata": {},
     "output_type": "execute_result"
    }
   ],
   "source": [
    "import random\n",
    "random.sample(training_data,1)[0]"
   ]
  },
  {
   "cell_type": "code",
   "execution_count": 24,
   "id": "17b62a8e",
   "metadata": {
    "execution": {
     "iopub.execute_input": "2025-07-03T15:27:36.315631Z",
     "iopub.status.busy": "2025-07-03T15:27:36.315236Z",
     "iopub.status.idle": "2025-07-03T15:27:36.320704Z",
     "shell.execute_reply": "2025-07-03T15:27:36.320011Z"
    },
    "papermill": {
     "duration": 0.013299,
     "end_time": "2025-07-03T15:27:36.321847",
     "exception": false,
     "start_time": "2025-07-03T15:27:36.308548",
     "status": "completed"
    },
    "tags": []
   },
   "outputs": [],
   "source": [
    "k=5\n",
    "\n",
    "def prepare_batch_with_negatives(batch_data, k, vocab_size):\n",
    "    centre_indices=[]\n",
    "    context_indices=[]\n",
    "    labels=[]\n",
    "    for centre_idx, context_idx in batch_data:\n",
    "        centre_indices.append(centre_idx)\n",
    "        context_indices.append(context_idx)\n",
    "        labels.append(1)\n",
    "        \n",
    "        for nve_sample in range(k):\n",
    "            negative_idx = random.randint(0, vocab_size - 1)\n",
    "            while negative_idx == context_idx:\n",
    "                negative_idx = random.randint(0, vocab_size - 1)\n",
    "            centre_indices.append(centre_idx)\n",
    "            context_indices.append(negative_idx)\n",
    "            labels.append(0)\n",
    "            \n",
    "    centre_tensor = torch.tensor(centre_indices, dtype=torch.long)\n",
    "    context_tensor = torch.tensor(context_indices, dtype=torch.long)\n",
    "    label_tensor   = torch.tensor(labels, dtype=torch.float)\n",
    "    return centre_tensor, context_tensor, label_tensor"
   ]
  },
  {
   "cell_type": "code",
   "execution_count": 25,
   "id": "c444ddf8",
   "metadata": {
    "execution": {
     "iopub.execute_input": "2025-07-03T15:27:36.333673Z",
     "iopub.status.busy": "2025-07-03T15:27:36.333481Z",
     "iopub.status.idle": "2025-07-03T15:27:36.470174Z",
     "shell.execute_reply": "2025-07-03T15:27:36.469360Z"
    },
    "papermill": {
     "duration": 0.144161,
     "end_time": "2025-07-03T15:27:36.471613",
     "exception": false,
     "start_time": "2025-07-03T15:27:36.327452",
     "status": "completed"
    },
    "tags": []
   },
   "outputs": [],
   "source": [
    "model = Word2Vec(vocab_size, embedding_dim)"
   ]
  },
  {
   "cell_type": "code",
   "execution_count": 26,
   "id": "a6abf9ab",
   "metadata": {
    "execution": {
     "iopub.execute_input": "2025-07-03T15:27:36.484145Z",
     "iopub.status.busy": "2025-07-03T15:27:36.483747Z",
     "iopub.status.idle": "2025-07-03T15:27:41.196815Z",
     "shell.execute_reply": "2025-07-03T15:27:41.196268Z"
    },
    "papermill": {
     "duration": 4.720722,
     "end_time": "2025-07-03T15:27:41.198174",
     "exception": false,
     "start_time": "2025-07-03T15:27:36.477452",
     "status": "completed"
    },
    "tags": []
   },
   "outputs": [],
   "source": [
    "optimizer = torch.optim.SGD(model.parameters(), lr=0.001)\n",
    "loss_fn = torch.nn.BCELoss()"
   ]
  },
  {
   "cell_type": "code",
   "execution_count": 27,
   "id": "844cea1f",
   "metadata": {
    "execution": {
     "iopub.execute_input": "2025-07-03T15:27:41.211795Z",
     "iopub.status.busy": "2025-07-03T15:27:41.210969Z",
     "iopub.status.idle": "2025-07-03T15:27:41.444889Z",
     "shell.execute_reply": "2025-07-03T15:27:41.444251Z"
    },
    "papermill": {
     "duration": 0.241656,
     "end_time": "2025-07-03T15:27:41.446043",
     "exception": false,
     "start_time": "2025-07-03T15:27:41.204387",
     "status": "completed"
    },
    "tags": []
   },
   "outputs": [
    {
     "data": {
      "text/plain": [
       "Word2Vec(\n",
       "  (in_embed): Embedding(74561, 100)\n",
       "  (out_embed): Embedding(74561, 100)\n",
       ")"
      ]
     },
     "execution_count": 27,
     "metadata": {},
     "output_type": "execute_result"
    }
   ],
   "source": [
    "device = torch.device(\"cuda\" if torch.cuda.is_available() else \"cpu\")\n",
    "model.to(device)"
   ]
  },
  {
   "cell_type": "markdown",
   "id": "87bf1296",
   "metadata": {
    "papermill": {
     "duration": 0.005759,
     "end_time": "2025-07-03T15:27:41.457720",
     "exception": false,
     "start_time": "2025-07-03T15:27:41.451961",
     "status": "completed"
    },
    "tags": []
   },
   "source": [
    "### Loss calculation is two: first is loss per batch and then loss per epoch which averages across batches in an epoch."
   ]
  },
  {
   "cell_type": "code",
   "execution_count": null,
   "id": "05b5d2ab",
   "metadata": {
    "papermill": {
     "duration": 0.005326,
     "end_time": "2025-07-03T15:27:41.468563",
     "exception": false,
     "start_time": "2025-07-03T15:27:41.463237",
     "status": "completed"
    },
    "tags": []
   },
   "outputs": [],
   "source": []
  },
  {
   "cell_type": "code",
   "execution_count": 28,
   "id": "5214de26",
   "metadata": {
    "execution": {
     "iopub.execute_input": "2025-07-03T15:27:41.480320Z",
     "iopub.status.busy": "2025-07-03T15:27:41.480093Z",
     "iopub.status.idle": "2025-07-03T15:42:47.934197Z",
     "shell.execute_reply": "2025-07-03T15:42:47.933374Z"
    },
    "papermill": {
     "duration": 906.467068,
     "end_time": "2025-07-03T15:42:47.941088",
     "exception": false,
     "start_time": "2025-07-03T15:27:41.474020",
     "status": "completed"
    },
    "tags": []
   },
   "outputs": [
    {
     "name": "stdout",
     "output_type": "stream",
     "text": [
      "Epoch 1, Loss: 6.7300\n",
      "Epoch 1, Loss: 6.8484\n",
      "Epoch 2, Loss: 7.0760\n",
      "Epoch 2, Loss: 6.3848\n",
      "Epoch 3, Loss: 5.7520\n",
      "Epoch 3, Loss: 6.0491\n",
      "Epoch 4, Loss: 5.4838\n",
      "Epoch 4, Loss: 5.8091\n",
      "Epoch 5, Loss: 6.6471\n",
      "Epoch 5, Loss: 5.6220\n"
     ]
    }
   ],
   "source": [
    "num_epochs=5\n",
    "batch_size=100\n",
    "\n",
    "for epoch in range(num_epochs):\n",
    "    random.shuffle(training_data)\n",
    "    total_loss=0\n",
    "\n",
    "    for i in range(0, len(training_data), batch_size):\n",
    "        batch_data = training_data[i : i + batch_size]\n",
    "        \n",
    "        for center_idx, context_idx in batch_data:\n",
    "            assert center_idx < vocab_size, f\"Bad center_idx: {center_idx}\"\n",
    "            assert context_idx < vocab_size, f\"Bad context_idx: {context_idx}\"\n",
    "            \n",
    "        center_tensor, context_tensor, label_tensor = prepare_batch_with_negatives(batch_data, k, vocab_size)\n",
    "        # print(center_tensor.max(), context_tensor.max(), vocab_size)\n",
    "        center_tensor = center_tensor.to(device)\n",
    "        context_tensor = context_tensor.to(device)\n",
    "        label_tensor = label_tensor.to(device)\n",
    "        # Forward pass\n",
    "        dot_products = model(center_tensor, context_tensor)\n",
    "        predictions = torch.sigmoid(dot_products)\n",
    "\n",
    "        # Compute loss\n",
    "        loss = loss_fn(predictions, label_tensor)\n",
    "        total_loss += loss.item()\n",
    "        # Backprop\n",
    "        optimizer.zero_grad()\n",
    "        loss.backward()\n",
    "        optimizer.step()\n",
    "\n",
    "    print(f\"Epoch {epoch+1}, Loss: {loss.item():.4f}\")\n",
    "    print(f\"Epoch {epoch+1}, Loss: {total_loss / (len(training_data) // batch_size):.4f}\")"
   ]
  },
  {
   "cell_type": "code",
   "execution_count": null,
   "id": "69a46574",
   "metadata": {
    "papermill": {
     "duration": 0.005534,
     "end_time": "2025-07-03T15:42:47.952464",
     "exception": false,
     "start_time": "2025-07-03T15:42:47.946930",
     "status": "completed"
    },
    "tags": []
   },
   "outputs": [],
   "source": []
  }
 ],
 "metadata": {
  "kaggle": {
   "accelerator": "gpu",
   "dataSources": [
    {
     "datasetId": 64890,
     "sourceId": 127736,
     "sourceType": "datasetVersion"
    }
   ],
   "dockerImageVersionId": 31040,
   "isGpuEnabled": true,
   "isInternetEnabled": true,
   "language": "python",
   "sourceType": "notebook"
  },
  "kernelspec": {
   "display_name": "Python 3",
   "language": "python",
   "name": "python3"
  },
  "language_info": {
   "codemirror_mode": {
    "name": "ipython",
    "version": 3
   },
   "file_extension": ".py",
   "mimetype": "text/x-python",
   "name": "python",
   "nbconvert_exporter": "python",
   "pygments_lexer": "ipython3",
   "version": "3.11.11"
  },
  "papermill": {
   "default_parameters": {},
   "duration": 949.829723,
   "end_time": "2025-07-03T15:42:50.877259",
   "environment_variables": {},
   "exception": null,
   "input_path": "__notebook__.ipynb",
   "output_path": "__notebook__.ipynb",
   "parameters": {},
   "start_time": "2025-07-03T15:27:01.047536",
   "version": "2.6.0"
  }
 },
 "nbformat": 4,
 "nbformat_minor": 5
}
