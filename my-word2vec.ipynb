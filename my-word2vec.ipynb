{
 "cells": [
  {
   "cell_type": "code",
   "execution_count": 1,
   "id": "ea2ffc8c",
   "metadata": {
    "_cell_guid": "b1076dfc-b9ad-4769-8c92-a6c4dae69d19",
    "_uuid": "8f2839f25d086af736a60e9eeb907d3b93b6e0e5",
    "execution": {
     "iopub.execute_input": "2025-07-03T21:47:47.866666Z",
     "iopub.status.busy": "2025-07-03T21:47:47.866351Z",
     "iopub.status.idle": "2025-07-03T21:47:49.264397Z",
     "shell.execute_reply": "2025-07-03T21:47:49.263565Z"
    },
    "papermill": {
     "duration": 1.40702,
     "end_time": "2025-07-03T21:47:49.265605",
     "exception": false,
     "start_time": "2025-07-03T21:47:47.858585",
     "status": "completed"
    },
    "tags": []
   },
   "outputs": [
    {
     "name": "stdout",
     "output_type": "stream",
     "text": [
      "/kaggle/input/wikipedia-movie-plots/wiki_movie_plots_deduped.csv\n"
     ]
    }
   ],
   "source": [
    "import numpy as np # linear algebra\n",
    "import pandas as pd # data processing, CSV file I/O (e.g. pd.read_csv)\n",
    "\n",
    "import os\n",
    "for dirname, _, filenames in os.walk('/kaggle/input'):\n",
    "    for filename in filenames:\n",
    "        print(os.path.join(dirname, filename))"
   ]
  },
  {
   "cell_type": "markdown",
   "id": "2cdc82fd",
   "metadata": {
    "papermill": {
     "duration": 0.005749,
     "end_time": "2025-07-03T21:47:49.277190",
     "exception": false,
     "start_time": "2025-07-03T21:47:49.271441",
     "status": "completed"
    },
    "tags": []
   },
   "source": [
    "## 1. Extract the corpus: Movie Plots"
   ]
  },
  {
   "cell_type": "code",
   "execution_count": 2,
   "id": "2e247400",
   "metadata": {
    "execution": {
     "iopub.execute_input": "2025-07-03T21:47:49.288135Z",
     "iopub.status.busy": "2025-07-03T21:47:49.287850Z",
     "iopub.status.idle": "2025-07-03T21:47:51.125720Z",
     "shell.execute_reply": "2025-07-03T21:47:51.124961Z"
    },
    "papermill": {
     "duration": 1.844926,
     "end_time": "2025-07-03T21:47:51.127175",
     "exception": false,
     "start_time": "2025-07-03T21:47:49.282249",
     "status": "completed"
    },
    "tags": []
   },
   "outputs": [],
   "source": [
    "df=pd.read_csv(\"/kaggle/input/wikipedia-movie-plots/wiki_movie_plots_deduped.csv\")"
   ]
  },
  {
   "cell_type": "code",
   "execution_count": 3,
   "id": "c9a287c0",
   "metadata": {
    "execution": {
     "iopub.execute_input": "2025-07-03T21:47:51.138730Z",
     "iopub.status.busy": "2025-07-03T21:47:51.138498Z",
     "iopub.status.idle": "2025-07-03T21:47:51.175184Z",
     "shell.execute_reply": "2025-07-03T21:47:51.174287Z"
    },
    "papermill": {
     "duration": 0.043634,
     "end_time": "2025-07-03T21:47:51.176359",
     "exception": false,
     "start_time": "2025-07-03T21:47:51.132725",
     "status": "completed"
    },
    "tags": []
   },
   "outputs": [
    {
     "name": "stdout",
     "output_type": "stream",
     "text": [
      "<class 'pandas.core.frame.DataFrame'>\n",
      "RangeIndex: 34886 entries, 0 to 34885\n",
      "Data columns (total 8 columns):\n",
      " #   Column            Non-Null Count  Dtype \n",
      "---  ------            --------------  ----- \n",
      " 0   Release Year      34886 non-null  int64 \n",
      " 1   Title             34886 non-null  object\n",
      " 2   Origin/Ethnicity  34886 non-null  object\n",
      " 3   Director          34886 non-null  object\n",
      " 4   Cast              33464 non-null  object\n",
      " 5   Genre             34886 non-null  object\n",
      " 6   Wiki Page         34886 non-null  object\n",
      " 7   Plot              34886 non-null  object\n",
      "dtypes: int64(1), object(7)\n",
      "memory usage: 2.1+ MB\n"
     ]
    }
   ],
   "source": [
    "df.info()"
   ]
  },
  {
   "cell_type": "code",
   "execution_count": 4,
   "id": "dcdb78f4",
   "metadata": {
    "execution": {
     "iopub.execute_input": "2025-07-03T21:47:51.188674Z",
     "iopub.status.busy": "2025-07-03T21:47:51.188453Z",
     "iopub.status.idle": "2025-07-03T21:47:51.194345Z",
     "shell.execute_reply": "2025-07-03T21:47:51.193779Z"
    },
    "papermill": {
     "duration": 0.013266,
     "end_time": "2025-07-03T21:47:51.195421",
     "exception": false,
     "start_time": "2025-07-03T21:47:51.182155",
     "status": "completed"
    },
    "tags": []
   },
   "outputs": [
    {
     "data": {
      "text/plain": [
       "'Lasting just 61 seconds and consisting of two shots, the first shot is set in a wood during winter. The actor representing then vice-president Theodore Roosevelt enthusiastically hurries down a hillside towards a tree in the foreground. He falls once, but rights himself and cocks his rifle. Two other men, bearing signs reading \"His Photographer\" and \"His Press Agent\" respectively, follow him into the shot; the photographer sets up his camera. \"Teddy\" aims his rifle upward at the tree and fells what appears to be a common house cat, which he then proceeds to stab. \"Teddy\" holds his prize aloft, and the press agent takes notes. The second shot is taken in a slightly different part of the wood, on a path. \"Teddy\" rides the path on his horse towards the camera and out to the left of the shot, followed closely by the press agent and photographer, still dutifully holding their signs.'"
      ]
     },
     "execution_count": 4,
     "metadata": {},
     "output_type": "execute_result"
    }
   ],
   "source": [
    "corpus=df[\"Plot\"][:10000].to_list()\n",
    "len(corpus)\n",
    "corpus[3]"
   ]
  },
  {
   "cell_type": "markdown",
   "id": "693d6019",
   "metadata": {
    "papermill": {
     "duration": 0.005304,
     "end_time": "2025-07-03T21:47:51.205983",
     "exception": false,
     "start_time": "2025-07-03T21:47:51.200679",
     "status": "completed"
    },
    "tags": []
   },
   "source": [
    "## 2. Next up is Preprocessing/Cleaning"
   ]
  },
  {
   "cell_type": "markdown",
   "id": "7ad36543",
   "metadata": {
    "papermill": {
     "duration": 0.004877,
     "end_time": "2025-07-03T21:47:51.215920",
     "exception": false,
     "start_time": "2025-07-03T21:47:51.211043",
     "status": "completed"
    },
    "tags": []
   },
   "source": [
    "### Import the tokenizer"
   ]
  },
  {
   "cell_type": "code",
   "execution_count": 5,
   "id": "fb8e5d87",
   "metadata": {
    "execution": {
     "iopub.execute_input": "2025-07-03T21:47:51.226791Z",
     "iopub.status.busy": "2025-07-03T21:47:51.226566Z",
     "iopub.status.idle": "2025-07-03T21:47:52.935367Z",
     "shell.execute_reply": "2025-07-03T21:47:52.934560Z"
    },
    "papermill": {
     "duration": 1.716034,
     "end_time": "2025-07-03T21:47:52.936907",
     "exception": false,
     "start_time": "2025-07-03T21:47:51.220873",
     "status": "completed"
    },
    "tags": []
   },
   "outputs": [],
   "source": [
    "from nltk.tokenize import word_tokenize"
   ]
  },
  {
   "cell_type": "markdown",
   "id": "ea1e2eca",
   "metadata": {
    "papermill": {
     "duration": 0.005056,
     "end_time": "2025-07-03T21:47:52.947616",
     "exception": false,
     "start_time": "2025-07-03T21:47:52.942560",
     "status": "completed"
    },
    "tags": []
   },
   "source": [
    "### Preprocess text (to lowercase, remove punctuations and tokenize"
   ]
  },
  {
   "cell_type": "code",
   "execution_count": 6,
   "id": "b4e6a4e3",
   "metadata": {
    "execution": {
     "iopub.execute_input": "2025-07-03T21:47:52.959409Z",
     "iopub.status.busy": "2025-07-03T21:47:52.958726Z",
     "iopub.status.idle": "2025-07-03T21:48:02.340956Z",
     "shell.execute_reply": "2025-07-03T21:48:02.340121Z"
    },
    "papermill": {
     "duration": 9.389673,
     "end_time": "2025-07-03T21:48:02.342582",
     "exception": false,
     "start_time": "2025-07-03T21:47:52.952909",
     "status": "completed"
    },
    "tags": []
   },
   "outputs": [],
   "source": [
    "import string\n",
    "tokens=[]\n",
    "for i in range(len(corpus)):\n",
    "    temp=corpus[i].lower()\n",
    "    corpus[i]=''.join([char for char in temp if char not in string.punctuation])\n",
    "    tokens.extend(word_tokenize(corpus[i]))"
   ]
  },
  {
   "cell_type": "code",
   "execution_count": 7,
   "id": "1d1adbd5",
   "metadata": {
    "execution": {
     "iopub.execute_input": "2025-07-03T21:48:02.354349Z",
     "iopub.status.busy": "2025-07-03T21:48:02.353900Z",
     "iopub.status.idle": "2025-07-03T21:48:02.357847Z",
     "shell.execute_reply": "2025-07-03T21:48:02.357219Z"
    },
    "papermill": {
     "duration": 0.010851,
     "end_time": "2025-07-03T21:48:02.358952",
     "exception": false,
     "start_time": "2025-07-03T21:48:02.348101",
     "status": "completed"
    },
    "tags": []
   },
   "outputs": [
    {
     "name": "stdout",
     "output_type": "stream",
     "text": [
      "3306739\n"
     ]
    }
   ],
   "source": [
    "print(len(tokens))"
   ]
  },
  {
   "cell_type": "markdown",
   "id": "3f44396a",
   "metadata": {
    "papermill": {
     "duration": 0.005013,
     "end_time": "2025-07-03T21:48:02.369206",
     "exception": false,
     "start_time": "2025-07-03T21:48:02.364193",
     "status": "completed"
    },
    "tags": []
   },
   "source": [
    "### Record word frequency and create word index"
   ]
  },
  {
   "cell_type": "code",
   "execution_count": 8,
   "id": "499ec5d5",
   "metadata": {
    "execution": {
     "iopub.execute_input": "2025-07-03T21:48:02.380256Z",
     "iopub.status.busy": "2025-07-03T21:48:02.380044Z",
     "iopub.status.idle": "2025-07-03T21:48:03.212564Z",
     "shell.execute_reply": "2025-07-03T21:48:03.211956Z"
    },
    "papermill": {
     "duration": 0.83954,
     "end_time": "2025-07-03T21:48:03.213958",
     "exception": false,
     "start_time": "2025-07-03T21:48:02.374418",
     "status": "completed"
    },
    "tags": []
   },
   "outputs": [],
   "source": [
    "word_freq={}\n",
    "word2idx={}\n",
    "count_idx=0 #this was the source of the error sigh\n",
    "\n",
    "for token in tokens:\n",
    "    if token not in word2idx:\n",
    "        word2idx[token]=count_idx\n",
    "        word_freq[token]=1\n",
    "        count_idx+=1\n",
    "    else:\n",
    "        word_freq[token]+=1"
   ]
  },
  {
   "cell_type": "code",
   "execution_count": 9,
   "id": "9aae65a0",
   "metadata": {
    "execution": {
     "iopub.execute_input": "2025-07-03T21:48:03.225717Z",
     "iopub.status.busy": "2025-07-03T21:48:03.225498Z",
     "iopub.status.idle": "2025-07-03T21:48:03.229205Z",
     "shell.execute_reply": "2025-07-03T21:48:03.228659Z"
    },
    "papermill": {
     "duration": 0.010575,
     "end_time": "2025-07-03T21:48:03.230179",
     "exception": false,
     "start_time": "2025-07-03T21:48:03.219604",
     "status": "completed"
    },
    "tags": []
   },
   "outputs": [
    {
     "name": "stdout",
     "output_type": "stream",
     "text": [
      "74561\n"
     ]
    }
   ],
   "source": [
    "print(len(word2idx))"
   ]
  },
  {
   "cell_type": "code",
   "execution_count": 10,
   "id": "a44722bb",
   "metadata": {
    "execution": {
     "iopub.execute_input": "2025-07-03T21:48:03.241387Z",
     "iopub.status.busy": "2025-07-03T21:48:03.241157Z",
     "iopub.status.idle": "2025-07-03T21:48:03.258635Z",
     "shell.execute_reply": "2025-07-03T21:48:03.257911Z"
    },
    "papermill": {
     "duration": 0.024248,
     "end_time": "2025-07-03T21:48:03.259746",
     "exception": false,
     "start_time": "2025-07-03T21:48:03.235498",
     "status": "completed"
    },
    "tags": []
   },
   "outputs": [],
   "source": [
    "idx2word={idx:word for word,idx in word2idx.items()}"
   ]
  },
  {
   "cell_type": "markdown",
   "id": "0310cbf5",
   "metadata": {
    "papermill": {
     "duration": 0.004971,
     "end_time": "2025-07-03T21:48:03.270087",
     "exception": false,
     "start_time": "2025-07-03T21:48:03.265116",
     "status": "completed"
    },
    "tags": []
   },
   "source": [
    "# trying to debug the bad context index error"
   ]
  },
  {
   "cell_type": "code",
   "execution_count": 11,
   "id": "7873895a",
   "metadata": {
    "execution": {
     "iopub.execute_input": "2025-07-03T21:48:03.281088Z",
     "iopub.status.busy": "2025-07-03T21:48:03.280872Z",
     "iopub.status.idle": "2025-07-03T21:48:03.284666Z",
     "shell.execute_reply": "2025-07-03T21:48:03.284010Z"
    },
    "papermill": {
     "duration": 0.010525,
     "end_time": "2025-07-03T21:48:03.285719",
     "exception": false,
     "start_time": "2025-07-03T21:48:03.275194",
     "status": "completed"
    },
    "tags": []
   },
   "outputs": [
    {
     "name": "stdout",
     "output_type": "stream",
     "text": [
      "a\n"
     ]
    }
   ],
   "source": [
    "print(idx2word[0])"
   ]
  },
  {
   "cell_type": "markdown",
   "id": "75bb6cc8",
   "metadata": {
    "papermill": {
     "duration": 0.005008,
     "end_time": "2025-07-03T21:48:03.296000",
     "exception": false,
     "start_time": "2025-07-03T21:48:03.290992",
     "status": "completed"
    },
    "tags": []
   },
   "source": [
    "### Now I see that the range goes from 0 to 17766 and that vocab size is 17767. The problem was wrong vocab size. I started the index in word2idx from 1 not 0 but was requiring 0 in other places."
   ]
  },
  {
   "cell_type": "code",
   "execution_count": 12,
   "id": "64631a88",
   "metadata": {
    "execution": {
     "iopub.execute_input": "2025-07-03T21:48:03.307209Z",
     "iopub.status.busy": "2025-07-03T21:48:03.306828Z",
     "iopub.status.idle": "2025-07-03T21:48:03.310509Z",
     "shell.execute_reply": "2025-07-03T21:48:03.309806Z"
    },
    "papermill": {
     "duration": 0.010381,
     "end_time": "2025-07-03T21:48:03.311558",
     "exception": false,
     "start_time": "2025-07-03T21:48:03.301177",
     "status": "completed"
    },
    "tags": []
   },
   "outputs": [
    {
     "name": "stdout",
     "output_type": "stream",
     "text": [
      "17765\n"
     ]
    }
   ],
   "source": [
    "print(word2idx[\"mounties\"])"
   ]
  },
  {
   "cell_type": "markdown",
   "id": "508e9d4b",
   "metadata": {
    "papermill": {
     "duration": 0.005035,
     "end_time": "2025-07-03T21:48:03.321923",
     "exception": false,
     "start_time": "2025-07-03T21:48:03.316888",
     "status": "completed"
    },
    "tags": []
   },
   "source": [
    "### 3. Next up is Generating Train Pairs (word-context pairs)"
   ]
  },
  {
   "cell_type": "code",
   "execution_count": 13,
   "id": "d9c22abe",
   "metadata": {
    "execution": {
     "iopub.execute_input": "2025-07-03T21:48:03.333140Z",
     "iopub.status.busy": "2025-07-03T21:48:03.332742Z",
     "iopub.status.idle": "2025-07-03T21:48:09.355843Z",
     "shell.execute_reply": "2025-07-03T21:48:09.355253Z"
    },
    "papermill": {
     "duration": 6.03001,
     "end_time": "2025-07-03T21:48:09.357152",
     "exception": false,
     "start_time": "2025-07-03T21:48:03.327142",
     "status": "completed"
    },
    "tags": []
   },
   "outputs": [],
   "source": [
    "window_size=2\n",
    "training_pairs=[]\n",
    "for i in range(len(tokens)):\n",
    "    start=i-window_size\n",
    "    stop=i+window_size+1\n",
    "    \n",
    "    for j in range(start,stop):\n",
    "        if j<0 or j==i or j>=len(tokens):\n",
    "            continue\n",
    "        training_pairs.append((tokens[i],tokens[j]))   "
   ]
  },
  {
   "cell_type": "code",
   "execution_count": 14,
   "id": "16f83747",
   "metadata": {
    "execution": {
     "iopub.execute_input": "2025-07-03T21:48:09.369492Z",
     "iopub.status.busy": "2025-07-03T21:48:09.369248Z",
     "iopub.status.idle": "2025-07-03T21:48:09.373197Z",
     "shell.execute_reply": "2025-07-03T21:48:09.372546Z"
    },
    "papermill": {
     "duration": 0.011315,
     "end_time": "2025-07-03T21:48:09.374266",
     "exception": false,
     "start_time": "2025-07-03T21:48:09.362951",
     "status": "completed"
    },
    "tags": []
   },
   "outputs": [
    {
     "name": "stdout",
     "output_type": "stream",
     "text": [
      "[('a', 'bartender'), ('a', 'is'), ('bartender', 'a'), ('bartender', 'is'), ('bartender', 'working'), ('is', 'a'), ('is', 'bartender'), ('is', 'working'), ('is', 'at'), ('working', 'bartender'), ('working', 'is'), ('working', 'at'), ('working', 'a'), ('at', 'is'), ('at', 'working'), ('at', 'a'), ('at', 'saloon'), ('a', 'working'), ('a', 'at'), ('a', 'saloon'), ('a', 'serving'), ('saloon', 'at'), ('saloon', 'a'), ('saloon', 'serving'), ('saloon', 'drinks'), ('serving', 'a'), ('serving', 'saloon'), ('serving', 'drinks'), ('serving', 'to'), ('drinks', 'saloon'), ('drinks', 'serving'), ('drinks', 'to'), ('drinks', 'customers'), ('to', 'serving'), ('to', 'drinks'), ('to', 'customers'), ('to', 'after'), ('customers', 'drinks'), ('customers', 'to'), ('customers', 'after'), ('customers', 'he'), ('after', 'to'), ('after', 'customers'), ('after', 'he'), ('after', 'fills'), ('he', 'customers'), ('he', 'after'), ('he', 'fills'), ('he', 'a'), ('fills', 'after')]\n"
     ]
    }
   ],
   "source": [
    "print(training_pairs[:50])"
   ]
  },
  {
   "cell_type": "markdown",
   "id": "06f96f42",
   "metadata": {
    "papermill": {
     "duration": 0.005181,
     "end_time": "2025-07-03T21:48:09.385083",
     "exception": false,
     "start_time": "2025-07-03T21:48:09.379902",
     "status": "completed"
    },
    "tags": []
   },
   "source": [
    "### 4. Next up is converting words to indices"
   ]
  },
  {
   "cell_type": "code",
   "execution_count": 15,
   "id": "6e37accc",
   "metadata": {
    "execution": {
     "iopub.execute_input": "2025-07-03T21:48:09.396408Z",
     "iopub.status.busy": "2025-07-03T21:48:09.396197Z",
     "iopub.status.idle": "2025-07-03T21:48:12.999387Z",
     "shell.execute_reply": "2025-07-03T21:48:12.998774Z"
    },
    "papermill": {
     "duration": 3.610399,
     "end_time": "2025-07-03T21:48:13.000810",
     "exception": false,
     "start_time": "2025-07-03T21:48:09.390411",
     "status": "completed"
    },
    "tags": []
   },
   "outputs": [],
   "source": [
    "training_data = []\n",
    "for tup in training_pairs:\n",
    "    training_data.append((word2idx[tup[0]],word2idx[tup[1]]))"
   ]
  },
  {
   "cell_type": "code",
   "execution_count": 16,
   "id": "14584152",
   "metadata": {
    "execution": {
     "iopub.execute_input": "2025-07-03T21:48:13.012966Z",
     "iopub.status.busy": "2025-07-03T21:48:13.012744Z",
     "iopub.status.idle": "2025-07-03T21:48:13.018216Z",
     "shell.execute_reply": "2025-07-03T21:48:13.017552Z"
    },
    "papermill": {
     "duration": 0.012804,
     "end_time": "2025-07-03T21:48:13.019450",
     "exception": false,
     "start_time": "2025-07-03T21:48:13.006646",
     "status": "completed"
    },
    "tags": []
   },
   "outputs": [
    {
     "data": {
      "text/plain": [
       "[(0, 1),\n",
       " (0, 2),\n",
       " (1, 0),\n",
       " (1, 2),\n",
       " (1, 3),\n",
       " (2, 0),\n",
       " (2, 1),\n",
       " (2, 3),\n",
       " (2, 4),\n",
       " (3, 1),\n",
       " (3, 2),\n",
       " (3, 4),\n",
       " (3, 0),\n",
       " (4, 2),\n",
       " (4, 3),\n",
       " (4, 0),\n",
       " (4, 5),\n",
       " (0, 3),\n",
       " (0, 4),\n",
       " (0, 5),\n",
       " (0, 6),\n",
       " (5, 4),\n",
       " (5, 0),\n",
       " (5, 6),\n",
       " (5, 7),\n",
       " (6, 0),\n",
       " (6, 5),\n",
       " (6, 7),\n",
       " (6, 8),\n",
       " (7, 5),\n",
       " (7, 6),\n",
       " (7, 8),\n",
       " (7, 9),\n",
       " (8, 6),\n",
       " (8, 7),\n",
       " (8, 9),\n",
       " (8, 10),\n",
       " (9, 7),\n",
       " (9, 8),\n",
       " (9, 10),\n",
       " (9, 11),\n",
       " (10, 8),\n",
       " (10, 9),\n",
       " (10, 11),\n",
       " (10, 12),\n",
       " (11, 9),\n",
       " (11, 10),\n",
       " (11, 12),\n",
       " (11, 0),\n",
       " (12, 10)]"
      ]
     },
     "execution_count": 16,
     "metadata": {},
     "output_type": "execute_result"
    }
   ],
   "source": [
    "training_data[:50]"
   ]
  },
  {
   "cell_type": "code",
   "execution_count": 17,
   "id": "2a9e5a68",
   "metadata": {
    "execution": {
     "iopub.execute_input": "2025-07-03T21:48:13.031870Z",
     "iopub.status.busy": "2025-07-03T21:48:13.031165Z",
     "iopub.status.idle": "2025-07-03T21:48:13.035385Z",
     "shell.execute_reply": "2025-07-03T21:48:13.034812Z"
    },
    "papermill": {
     "duration": 0.011373,
     "end_time": "2025-07-03T21:48:13.036473",
     "exception": false,
     "start_time": "2025-07-03T21:48:13.025100",
     "status": "completed"
    },
    "tags": []
   },
   "outputs": [
    {
     "data": {
      "text/plain": [
       "10"
      ]
     },
     "execution_count": 17,
     "metadata": {},
     "output_type": "execute_result"
    }
   ],
   "source": [
    "word2idx[\"after\"]"
   ]
  },
  {
   "cell_type": "code",
   "execution_count": 18,
   "id": "cbbb6c0f",
   "metadata": {
    "execution": {
     "iopub.execute_input": "2025-07-03T21:48:13.048708Z",
     "iopub.status.busy": "2025-07-03T21:48:13.048283Z",
     "iopub.status.idle": "2025-07-03T21:48:13.052296Z",
     "shell.execute_reply": "2025-07-03T21:48:13.051767Z"
    },
    "papermill": {
     "duration": 0.011276,
     "end_time": "2025-07-03T21:48:13.053263",
     "exception": false,
     "start_time": "2025-07-03T21:48:13.041987",
     "status": "completed"
    },
    "tags": []
   },
   "outputs": [
    {
     "data": {
      "text/plain": [
       "'hidden'"
      ]
     },
     "execution_count": 18,
     "metadata": {},
     "output_type": "execute_result"
    }
   ],
   "source": [
    "idx2word[121]"
   ]
  },
  {
   "cell_type": "code",
   "execution_count": 19,
   "id": "c0362a4d",
   "metadata": {
    "execution": {
     "iopub.execute_input": "2025-07-03T21:48:13.109583Z",
     "iopub.status.busy": "2025-07-03T21:48:13.109316Z",
     "iopub.status.idle": "2025-07-03T21:48:13.113562Z",
     "shell.execute_reply": "2025-07-03T21:48:13.112832Z"
    },
    "papermill": {
     "duration": 0.012538,
     "end_time": "2025-07-03T21:48:13.114773",
     "exception": false,
     "start_time": "2025-07-03T21:48:13.102235",
     "status": "completed"
    },
    "tags": []
   },
   "outputs": [
    {
     "name": "stdout",
     "output_type": "stream",
     "text": [
      "74561\n"
     ]
    }
   ],
   "source": [
    "vocab_size=len(word2idx) #number of unique words in the corpus\n",
    "print(vocab_size)\n",
    "embedding_dim=100 #a usual value for Word2Vec"
   ]
  },
  {
   "cell_type": "code",
   "execution_count": 20,
   "id": "9409a1e0",
   "metadata": {
    "execution": {
     "iopub.execute_input": "2025-07-03T21:48:13.128081Z",
     "iopub.status.busy": "2025-07-03T21:48:13.127906Z",
     "iopub.status.idle": "2025-07-03T21:48:18.043849Z",
     "shell.execute_reply": "2025-07-03T21:48:18.043255Z"
    },
    "papermill": {
     "duration": 4.923642,
     "end_time": "2025-07-03T21:48:18.045143",
     "exception": false,
     "start_time": "2025-07-03T21:48:13.121501",
     "status": "completed"
    },
    "tags": []
   },
   "outputs": [],
   "source": [
    "import torch"
   ]
  },
  {
   "cell_type": "markdown",
   "id": "4724cac5",
   "metadata": {
    "papermill": {
     "duration": 0.00568,
     "end_time": "2025-07-03T21:48:18.057443",
     "exception": false,
     "start_time": "2025-07-03T21:48:18.051763",
     "status": "completed"
    },
    "tags": []
   },
   "source": [
    "### Define the Embedding Layers and Word2Vec Class"
   ]
  },
  {
   "cell_type": "code",
   "execution_count": 21,
   "id": "93425991",
   "metadata": {
    "execution": {
     "iopub.execute_input": "2025-07-03T21:48:18.069843Z",
     "iopub.status.busy": "2025-07-03T21:48:18.069480Z",
     "iopub.status.idle": "2025-07-03T21:48:18.216659Z",
     "shell.execute_reply": "2025-07-03T21:48:18.216047Z"
    },
    "papermill": {
     "duration": 0.154861,
     "end_time": "2025-07-03T21:48:18.217968",
     "exception": false,
     "start_time": "2025-07-03T21:48:18.063107",
     "status": "completed"
    },
    "tags": []
   },
   "outputs": [],
   "source": [
    "W_in=torch.nn.Embedding(vocab_size,embedding_dim)\n",
    "W_out=torch.nn.Embedding(vocab_size,embedding_dim)"
   ]
  },
  {
   "cell_type": "markdown",
   "id": "2726f3a4",
   "metadata": {
    "papermill": {
     "duration": 0.0057,
     "end_time": "2025-07-03T21:48:18.229708",
     "exception": false,
     "start_time": "2025-07-03T21:48:18.224008",
     "status": "completed"
    },
    "tags": []
   },
   "source": [
    "**Quick note: 1. Just learnt that if I don't feed in the indices in batch and instead try to loop through each one, it'll be too slow. 2. Also learnt the purpose of forward() in a pytorch class - it is the brain that handles input.**"
   ]
  },
  {
   "cell_type": "code",
   "execution_count": 22,
   "id": "cb14a61d",
   "metadata": {
    "execution": {
     "iopub.execute_input": "2025-07-03T21:48:18.241986Z",
     "iopub.status.busy": "2025-07-03T21:48:18.241761Z",
     "iopub.status.idle": "2025-07-03T21:48:18.246212Z",
     "shell.execute_reply": "2025-07-03T21:48:18.245698Z"
    },
    "papermill": {
     "duration": 0.011847,
     "end_time": "2025-07-03T21:48:18.247240",
     "exception": false,
     "start_time": "2025-07-03T21:48:18.235393",
     "status": "completed"
    },
    "tags": []
   },
   "outputs": [],
   "source": [
    "class Word2Vec(torch.nn.Module):\n",
    "    def __init__(self, vocab_size, embedding_dim):\n",
    "        super().__init__()\n",
    "        self.in_embed = torch.nn.Embedding(vocab_size, embedding_dim)\n",
    "        self.out_embed = torch.nn.Embedding(vocab_size, embedding_dim)\n",
    "        \n",
    "    def forward(self,centre_idx, context_idx):\n",
    "        centre_vector=self.in_embed(centre_idx)\n",
    "        context_vector=self.out_embed(context_idx)\n",
    "        dot_products = torch.sum(centre_vector * context_vector, dim=1)\n",
    "        return dot_products\n",
    "        # torch.dot only works for 1D vectors not batches\n",
    "        # The dot product is the true measure of if the vectors capture the closeness of the words they represent.\n",
    "        # Seeing as we're starting with random values, the predictions will start poor and over time will be adjusted through training. Interesting."
   ]
  },
  {
   "cell_type": "markdown",
   "id": "ac68ecbe",
   "metadata": {
    "papermill": {
     "duration": 0.005649,
     "end_time": "2025-07-03T21:48:18.258548",
     "exception": false,
     "start_time": "2025-07-03T21:48:18.252899",
     "status": "completed"
    },
    "tags": []
   },
   "source": [
    "### Adding negative sampling to the training data"
   ]
  },
  {
   "cell_type": "code",
   "execution_count": 23,
   "id": "f9d58ca2",
   "metadata": {
    "execution": {
     "iopub.execute_input": "2025-07-03T21:48:18.270618Z",
     "iopub.status.busy": "2025-07-03T21:48:18.270401Z",
     "iopub.status.idle": "2025-07-03T21:48:18.274828Z",
     "shell.execute_reply": "2025-07-03T21:48:18.274189Z"
    },
    "papermill": {
     "duration": 0.011675,
     "end_time": "2025-07-03T21:48:18.275843",
     "exception": false,
     "start_time": "2025-07-03T21:48:18.264168",
     "status": "completed"
    },
    "tags": []
   },
   "outputs": [
    {
     "data": {
      "text/plain": [
       "(28, 2906)"
      ]
     },
     "execution_count": 23,
     "metadata": {},
     "output_type": "execute_result"
    }
   ],
   "source": [
    "import random\n",
    "random.sample(training_data,1)[0]"
   ]
  },
  {
   "cell_type": "code",
   "execution_count": 24,
   "id": "abfae6c8",
   "metadata": {
    "execution": {
     "iopub.execute_input": "2025-07-03T21:48:18.288316Z",
     "iopub.status.busy": "2025-07-03T21:48:18.287770Z",
     "iopub.status.idle": "2025-07-03T21:48:18.292863Z",
     "shell.execute_reply": "2025-07-03T21:48:18.292176Z"
    },
    "papermill": {
     "duration": 0.012294,
     "end_time": "2025-07-03T21:48:18.293886",
     "exception": false,
     "start_time": "2025-07-03T21:48:18.281592",
     "status": "completed"
    },
    "tags": []
   },
   "outputs": [],
   "source": [
    "k=3\n",
    "\n",
    "def prepare_batch_with_negatives(batch_data, k, vocab_size):\n",
    "    centre_indices=[]\n",
    "    context_indices=[]\n",
    "    labels=[]\n",
    "    for centre_idx, context_idx in batch_data:\n",
    "        centre_indices.append(centre_idx)\n",
    "        context_indices.append(context_idx)\n",
    "        labels.append(1)\n",
    "        \n",
    "        for nve_sample in range(k):\n",
    "            negative_idx = random.randint(0, vocab_size - 1)\n",
    "            while negative_idx == context_idx:\n",
    "                negative_idx = random.randint(0, vocab_size - 1)\n",
    "            centre_indices.append(centre_idx)\n",
    "            context_indices.append(negative_idx)\n",
    "            labels.append(0)\n",
    "            \n",
    "    centre_tensor = torch.tensor(centre_indices, dtype=torch.long)\n",
    "    context_tensor = torch.tensor(context_indices, dtype=torch.long)\n",
    "    label_tensor   = torch.tensor(labels, dtype=torch.float)\n",
    "    return centre_tensor, context_tensor, label_tensor"
   ]
  },
  {
   "cell_type": "code",
   "execution_count": 25,
   "id": "1c620d22",
   "metadata": {
    "execution": {
     "iopub.execute_input": "2025-07-03T21:48:18.306108Z",
     "iopub.status.busy": "2025-07-03T21:48:18.305903Z",
     "iopub.status.idle": "2025-07-03T21:48:18.435200Z",
     "shell.execute_reply": "2025-07-03T21:48:18.434402Z"
    },
    "papermill": {
     "duration": 0.137084,
     "end_time": "2025-07-03T21:48:18.436739",
     "exception": false,
     "start_time": "2025-07-03T21:48:18.299655",
     "status": "completed"
    },
    "tags": []
   },
   "outputs": [],
   "source": [
    "model = Word2Vec(vocab_size, embedding_dim)"
   ]
  },
  {
   "cell_type": "code",
   "execution_count": 26,
   "id": "60d5e523",
   "metadata": {
    "execution": {
     "iopub.execute_input": "2025-07-03T21:48:18.449787Z",
     "iopub.status.busy": "2025-07-03T21:48:18.449555Z",
     "iopub.status.idle": "2025-07-03T21:48:23.176690Z",
     "shell.execute_reply": "2025-07-03T21:48:23.176101Z"
    },
    "papermill": {
     "duration": 4.734998,
     "end_time": "2025-07-03T21:48:23.178035",
     "exception": false,
     "start_time": "2025-07-03T21:48:18.443037",
     "status": "completed"
    },
    "tags": []
   },
   "outputs": [],
   "source": [
    "optimizer = torch.optim.SGD(model.parameters(), lr=0.02)\n",
    "loss_fn = torch.nn.BCELoss()"
   ]
  },
  {
   "cell_type": "code",
   "execution_count": 27,
   "id": "e6111cce",
   "metadata": {
    "execution": {
     "iopub.execute_input": "2025-07-03T21:48:23.191403Z",
     "iopub.status.busy": "2025-07-03T21:48:23.190999Z",
     "iopub.status.idle": "2025-07-03T21:48:23.425472Z",
     "shell.execute_reply": "2025-07-03T21:48:23.424779Z"
    },
    "papermill": {
     "duration": 0.242359,
     "end_time": "2025-07-03T21:48:23.426678",
     "exception": false,
     "start_time": "2025-07-03T21:48:23.184319",
     "status": "completed"
    },
    "tags": []
   },
   "outputs": [
    {
     "data": {
      "text/plain": [
       "Word2Vec(\n",
       "  (in_embed): Embedding(74561, 100)\n",
       "  (out_embed): Embedding(74561, 100)\n",
       ")"
      ]
     },
     "execution_count": 27,
     "metadata": {},
     "output_type": "execute_result"
    }
   ],
   "source": [
    "device = torch.device(\"cuda\" if torch.cuda.is_available() else \"cpu\")\n",
    "model.to(device)"
   ]
  },
  {
   "cell_type": "markdown",
   "id": "567a0811",
   "metadata": {
    "papermill": {
     "duration": 0.006033,
     "end_time": "2025-07-03T21:48:23.438856",
     "exception": false,
     "start_time": "2025-07-03T21:48:23.432823",
     "status": "completed"
    },
    "tags": []
   },
   "source": [
    "### Loss calculation is two: first is loss per batch and then loss per epoch which averages across batches in an epoch."
   ]
  },
  {
   "cell_type": "code",
   "execution_count": null,
   "id": "2eeabf22",
   "metadata": {
    "papermill": {
     "duration": 0.005587,
     "end_time": "2025-07-03T21:48:23.450219",
     "exception": false,
     "start_time": "2025-07-03T21:48:23.444632",
     "status": "completed"
    },
    "tags": []
   },
   "outputs": [],
   "source": []
  },
  {
   "cell_type": "code",
   "execution_count": 28,
   "id": "fd4de7a0",
   "metadata": {
    "execution": {
     "iopub.execute_input": "2025-07-03T21:48:23.462654Z",
     "iopub.status.busy": "2025-07-03T21:48:23.462388Z",
     "iopub.status.idle": "2025-07-04T00:05:20.554056Z",
     "shell.execute_reply": "2025-07-04T00:05:20.553258Z"
    },
    "papermill": {
     "duration": 8217.106641,
     "end_time": "2025-07-04T00:05:20.562572",
     "exception": false,
     "start_time": "2025-07-03T21:48:23.455931",
     "status": "completed"
    },
    "tags": []
   },
   "outputs": [
    {
     "name": "stdout",
     "output_type": "stream",
     "text": [
      "Epoch 1, Loss: 3.9015\n",
      "Epoch 1, Loss: 4.9886\n",
      "Epoch 2, Loss: 3.0965\n",
      "Epoch 2, Loss: 4.1433\n",
      "Epoch 3, Loss: 2.8453\n",
      "Epoch 3, Loss: 3.8653\n",
      "Epoch 4, Loss: 2.5682\n",
      "Epoch 4, Loss: 3.6831\n",
      "Epoch 5, Loss: 3.2003\n",
      "Epoch 5, Loss: 3.5387\n",
      "Epoch 6, Loss: 4.1562\n",
      "Epoch 6, Loss: 3.4162\n",
      "Epoch 7, Loss: 3.1969\n",
      "Epoch 7, Loss: 3.3109\n",
      "Epoch 8, Loss: 2.1060\n",
      "Epoch 8, Loss: 3.2202\n",
      "Epoch 9, Loss: 2.2248\n",
      "Epoch 9, Loss: 3.1378\n",
      "Epoch 10, Loss: 3.5100\n",
      "Epoch 10, Loss: 3.0663\n",
      "Epoch 11, Loss: 4.3523\n",
      "Epoch 11, Loss: 2.9994\n",
      "Epoch 12, Loss: 3.9308\n",
      "Epoch 12, Loss: 2.9397\n",
      "Epoch 13, Loss: 3.2300\n",
      "Epoch 13, Loss: 2.8823\n",
      "Epoch 14, Loss: 2.8382\n",
      "Epoch 14, Loss: 2.8312\n",
      "Epoch 15, Loss: 3.1305\n",
      "Epoch 15, Loss: 2.7805\n",
      "Epoch 16, Loss: 4.6471\n",
      "Epoch 16, Loss: 2.7384\n",
      "Epoch 17, Loss: 2.0490\n",
      "Epoch 17, Loss: 2.6956\n",
      "Epoch 18, Loss: 2.5906\n",
      "Epoch 18, Loss: 2.6519\n",
      "Epoch 19, Loss: 2.8314\n",
      "Epoch 19, Loss: 2.6184\n",
      "Epoch 20, Loss: 2.9427\n",
      "Epoch 20, Loss: 2.5808\n",
      "Epoch 21, Loss: 2.1281\n",
      "Epoch 21, Loss: 2.5474\n",
      "Epoch 22, Loss: 3.3315\n",
      "Epoch 22, Loss: 2.5126\n",
      "Epoch 23, Loss: 2.1037\n",
      "Epoch 23, Loss: 2.4796\n",
      "Epoch 24, Loss: 1.4404\n",
      "Epoch 24, Loss: 2.4514\n",
      "Epoch 25, Loss: 2.6746\n",
      "Epoch 25, Loss: 2.4214\n",
      "Epoch 26, Loss: 2.8056\n",
      "Epoch 26, Loss: 2.3918\n",
      "Epoch 27, Loss: 2.7442\n",
      "Epoch 27, Loss: 2.3676\n",
      "Epoch 28, Loss: 1.8537\n",
      "Epoch 28, Loss: 2.3414\n",
      "Epoch 29, Loss: 2.3090\n",
      "Epoch 29, Loss: 2.3160\n",
      "Epoch 30, Loss: 2.4921\n",
      "Epoch 30, Loss: 2.2925\n",
      "Epoch 31, Loss: 2.3002\n",
      "Epoch 31, Loss: 2.2673\n",
      "Epoch 32, Loss: 2.6410\n",
      "Epoch 32, Loss: 2.2471\n",
      "Epoch 33, Loss: 2.9823\n",
      "Epoch 33, Loss: 2.2195\n",
      "Epoch 34, Loss: 2.7325\n",
      "Epoch 34, Loss: 2.1991\n",
      "Epoch 35, Loss: 2.5144\n",
      "Epoch 35, Loss: 2.1803\n",
      "Epoch 36, Loss: 2.1406\n",
      "Epoch 36, Loss: 2.1580\n",
      "Epoch 37, Loss: 1.6473\n",
      "Epoch 37, Loss: 2.1398\n",
      "Epoch 38, Loss: 2.4493\n",
      "Epoch 38, Loss: 2.1205\n",
      "Epoch 39, Loss: 1.2088\n",
      "Epoch 39, Loss: 2.1011\n",
      "Epoch 40, Loss: 2.8215\n",
      "Epoch 40, Loss: 2.0836\n",
      "Epoch 41, Loss: 2.2043\n",
      "Epoch 41, Loss: 2.0656\n",
      "Epoch 42, Loss: 2.3249\n",
      "Epoch 42, Loss: 2.0448\n",
      "Epoch 43, Loss: 1.6859\n",
      "Epoch 43, Loss: 2.0302\n",
      "Epoch 44, Loss: 3.2387\n",
      "Epoch 44, Loss: 2.0121\n",
      "Epoch 45, Loss: 2.5217\n",
      "Epoch 45, Loss: 1.9948\n",
      "Epoch 46, Loss: 2.9537\n",
      "Epoch 46, Loss: 1.9787\n",
      "Epoch 47, Loss: 1.6429\n",
      "Epoch 47, Loss: 1.9610\n",
      "Epoch 48, Loss: 1.8863\n",
      "Epoch 48, Loss: 1.9472\n",
      "Epoch 49, Loss: 1.7621\n",
      "Epoch 49, Loss: 1.9303\n",
      "Epoch 50, Loss: 1.9650\n",
      "Epoch 50, Loss: 1.9175\n"
     ]
    }
   ],
   "source": [
    "num_epochs=50\n",
    "batch_size=100\n",
    "\n",
    "for epoch in range(num_epochs):\n",
    "    random.shuffle(training_data)\n",
    "    total_loss=0\n",
    "\n",
    "    for i in range(0, len(training_data), batch_size):\n",
    "        batch_data = training_data[i : i + batch_size]\n",
    "        \n",
    "        for center_idx, context_idx in batch_data:\n",
    "            assert center_idx < vocab_size, f\"Bad center_idx: {center_idx}\"\n",
    "            assert context_idx < vocab_size, f\"Bad context_idx: {context_idx}\"\n",
    "            \n",
    "        center_tensor, context_tensor, label_tensor = prepare_batch_with_negatives(batch_data, k, vocab_size)\n",
    "        # print(center_tensor.max(), context_tensor.max(), vocab_size)\n",
    "        center_tensor = center_tensor.to(device)\n",
    "        context_tensor = context_tensor.to(device)\n",
    "        label_tensor = label_tensor.to(device)\n",
    "        # Forward pass\n",
    "        dot_products = model(center_tensor, context_tensor)\n",
    "        predictions = torch.sigmoid(dot_products)\n",
    "\n",
    "        # Compute loss\n",
    "        loss = loss_fn(predictions, label_tensor)\n",
    "        total_loss += loss.item()\n",
    "        # Backprop\n",
    "        optimizer.zero_grad()\n",
    "        loss.backward()\n",
    "        optimizer.step()\n",
    "\n",
    "    print(f\"Epoch {epoch+1}, Loss: {loss.item():.4f}\")\n",
    "    print(f\"Epoch {epoch+1}, Loss: {total_loss / (len(training_data) // batch_size):.4f}\")"
   ]
  },
  {
   "cell_type": "code",
   "execution_count": 29,
   "id": "88d3877f",
   "metadata": {
    "execution": {
     "iopub.execute_input": "2025-07-04T00:05:20.579392Z",
     "iopub.status.busy": "2025-07-04T00:05:20.578932Z",
     "iopub.status.idle": "2025-07-04T00:05:20.582996Z",
     "shell.execute_reply": "2025-07-04T00:05:20.582247Z"
    },
    "papermill": {
     "duration": 0.013585,
     "end_time": "2025-07-04T00:05:20.584219",
     "exception": false,
     "start_time": "2025-07-04T00:05:20.570634",
     "status": "completed"
    },
    "tags": []
   },
   "outputs": [],
   "source": [
    "word_vectors = model.in_embed.weight.data  # Tensor: [vocab_size, embedding_dim]\n",
    "word = \"add\"  # Example\n",
    "idx = word2idx[word]\n",
    "target_vector = word_vectors[idx]"
   ]
  },
  {
   "cell_type": "code",
   "execution_count": 30,
   "id": "260c77ea",
   "metadata": {
    "execution": {
     "iopub.execute_input": "2025-07-04T00:05:20.674758Z",
     "iopub.status.busy": "2025-07-04T00:05:20.674293Z",
     "iopub.status.idle": "2025-07-04T00:05:20.761074Z",
     "shell.execute_reply": "2025-07-04T00:05:20.760201Z"
    },
    "papermill": {
     "duration": 0.170328,
     "end_time": "2025-07-04T00:05:20.762538",
     "exception": false,
     "start_time": "2025-07-04T00:05:20.592210",
     "status": "completed"
    },
    "tags": []
   },
   "outputs": [],
   "source": [
    "cosine_similarities = torch.nn.functional.cosine_similarity(\n",
    "    target_vector.unsqueeze(0), word_vectors, dim=1\n",
    ")"
   ]
  },
  {
   "cell_type": "code",
   "execution_count": 31,
   "id": "a917ff23",
   "metadata": {
    "execution": {
     "iopub.execute_input": "2025-07-04T00:05:20.779665Z",
     "iopub.status.busy": "2025-07-04T00:05:20.779440Z",
     "iopub.status.idle": "2025-07-04T00:05:20.858437Z",
     "shell.execute_reply": "2025-07-04T00:05:20.857694Z"
    },
    "papermill": {
     "duration": 0.088767,
     "end_time": "2025-07-04T00:05:20.859726",
     "exception": false,
     "start_time": "2025-07-04T00:05:20.770959",
     "status": "completed"
    },
    "tags": []
   },
   "outputs": [
    {
     "name": "stdout",
     "output_type": "stream",
     "text": [
      "['add', 'lockharts', 'calaveras', 'tree', 'chanler', 'usmc2', 'promises', 'newspaper', 'blabbermouth', 'etties']\n"
     ]
    }
   ],
   "source": [
    "top_indices = torch.topk(cosine_similarities, k=10).indices.tolist()\n",
    "similar_words = [idx2word[i] for i in top_indices]\n",
    "print(similar_words)"
   ]
  },
  {
   "cell_type": "code",
   "execution_count": 32,
   "id": "f81daadb",
   "metadata": {
    "execution": {
     "iopub.execute_input": "2025-07-04T00:05:20.877045Z",
     "iopub.status.busy": "2025-07-04T00:05:20.876806Z",
     "iopub.status.idle": "2025-07-04T00:05:20.880100Z",
     "shell.execute_reply": "2025-07-04T00:05:20.879401Z"
    },
    "papermill": {
     "duration": 0.013273,
     "end_time": "2025-07-04T00:05:20.881320",
     "exception": false,
     "start_time": "2025-07-04T00:05:20.868047",
     "status": "completed"
    },
    "tags": []
   },
   "outputs": [],
   "source": [
    "# from sklearn.manifold import TSNE\n",
    "# import matplotlib.pyplot as plt\n",
    "\n",
    "# tsne = TSNE(n_components=2, random_state=0)\n",
    "# word_vectors_cpu = word_vectors.cpu().numpy()\n",
    "# embeddings_2d = tsne.fit_transform(word_vectors_cpu)\n",
    "\n",
    "# plt.scatter(embeddings_2d[:, 0], embeddings_2d[:, 1])\n",
    "# plt.show()"
   ]
  },
  {
   "cell_type": "code",
   "execution_count": null,
   "id": "feffc2a4",
   "metadata": {
    "papermill": {
     "duration": 0.007747,
     "end_time": "2025-07-04T00:05:20.897000",
     "exception": false,
     "start_time": "2025-07-04T00:05:20.889253",
     "status": "completed"
    },
    "tags": []
   },
   "outputs": [],
   "source": []
  }
 ],
 "metadata": {
  "kaggle": {
   "accelerator": "gpu",
   "dataSources": [
    {
     "datasetId": 64890,
     "sourceId": 127736,
     "sourceType": "datasetVersion"
    }
   ],
   "dockerImageVersionId": 31040,
   "isGpuEnabled": true,
   "isInternetEnabled": true,
   "language": "python",
   "sourceType": "notebook"
  },
  "kernelspec": {
   "display_name": "Python 3",
   "language": "python",
   "name": "python3"
  },
  "language_info": {
   "codemirror_mode": {
    "name": "ipython",
    "version": 3
   },
   "file_extension": ".py",
   "mimetype": "text/x-python",
   "name": "python",
   "nbconvert_exporter": "python",
   "pygments_lexer": "ipython3",
   "version": "3.11.11"
  },
  "papermill": {
   "default_parameters": {},
   "duration": 8259.918734,
   "end_time": "2025-07-04T00:05:23.729481",
   "environment_variables": {},
   "exception": null,
   "input_path": "__notebook__.ipynb",
   "output_path": "__notebook__.ipynb",
   "parameters": {},
   "start_time": "2025-07-03T21:47:43.810747",
   "version": "2.6.0"
  }
 },
 "nbformat": 4,
 "nbformat_minor": 5
}
