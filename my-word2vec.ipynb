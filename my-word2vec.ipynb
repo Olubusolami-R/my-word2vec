{
 "cells": [
  {
   "cell_type": "code",
   "execution_count": 1,
   "id": "2f75ec4d",
   "metadata": {
    "_cell_guid": "b1076dfc-b9ad-4769-8c92-a6c4dae69d19",
    "_uuid": "8f2839f25d086af736a60e9eeb907d3b93b6e0e5",
    "execution": {
     "iopub.execute_input": "2025-07-03T16:22:20.301936Z",
     "iopub.status.busy": "2025-07-03T16:22:20.301234Z",
     "iopub.status.idle": "2025-07-03T16:22:21.707109Z",
     "shell.execute_reply": "2025-07-03T16:22:21.706249Z"
    },
    "papermill": {
     "duration": 1.414297,
     "end_time": "2025-07-03T16:22:21.708347",
     "exception": false,
     "start_time": "2025-07-03T16:22:20.294050",
     "status": "completed"
    },
    "tags": []
   },
   "outputs": [
    {
     "name": "stdout",
     "output_type": "stream",
     "text": [
      "/kaggle/input/wikipedia-movie-plots/wiki_movie_plots_deduped.csv\n"
     ]
    }
   ],
   "source": [
    "import numpy as np # linear algebra\n",
    "import pandas as pd # data processing, CSV file I/O (e.g. pd.read_csv)\n",
    "\n",
    "import os\n",
    "for dirname, _, filenames in os.walk('/kaggle/input'):\n",
    "    for filename in filenames:\n",
    "        print(os.path.join(dirname, filename))"
   ]
  },
  {
   "cell_type": "markdown",
   "id": "a98a7049",
   "metadata": {
    "papermill": {
     "duration": 0.005657,
     "end_time": "2025-07-03T16:22:21.720303",
     "exception": false,
     "start_time": "2025-07-03T16:22:21.714646",
     "status": "completed"
    },
    "tags": []
   },
   "source": [
    "## 1. Extract the corpus: Movie Plots"
   ]
  },
  {
   "cell_type": "code",
   "execution_count": 2,
   "id": "e927d9bd",
   "metadata": {
    "execution": {
     "iopub.execute_input": "2025-07-03T16:22:21.731913Z",
     "iopub.status.busy": "2025-07-03T16:22:21.731223Z",
     "iopub.status.idle": "2025-07-03T16:22:23.541879Z",
     "shell.execute_reply": "2025-07-03T16:22:23.541247Z"
    },
    "papermill": {
     "duration": 1.817922,
     "end_time": "2025-07-03T16:22:23.543344",
     "exception": false,
     "start_time": "2025-07-03T16:22:21.725422",
     "status": "completed"
    },
    "tags": []
   },
   "outputs": [],
   "source": [
    "df=pd.read_csv(\"/kaggle/input/wikipedia-movie-plots/wiki_movie_plots_deduped.csv\")"
   ]
  },
  {
   "cell_type": "code",
   "execution_count": 3,
   "id": "ac20cf22",
   "metadata": {
    "execution": {
     "iopub.execute_input": "2025-07-03T16:22:23.555358Z",
     "iopub.status.busy": "2025-07-03T16:22:23.555129Z",
     "iopub.status.idle": "2025-07-03T16:22:23.591339Z",
     "shell.execute_reply": "2025-07-03T16:22:23.590491Z"
    },
    "papermill": {
     "duration": 0.043253,
     "end_time": "2025-07-03T16:22:23.592491",
     "exception": false,
     "start_time": "2025-07-03T16:22:23.549238",
     "status": "completed"
    },
    "tags": []
   },
   "outputs": [
    {
     "name": "stdout",
     "output_type": "stream",
     "text": [
      "<class 'pandas.core.frame.DataFrame'>\n",
      "RangeIndex: 34886 entries, 0 to 34885\n",
      "Data columns (total 8 columns):\n",
      " #   Column            Non-Null Count  Dtype \n",
      "---  ------            --------------  ----- \n",
      " 0   Release Year      34886 non-null  int64 \n",
      " 1   Title             34886 non-null  object\n",
      " 2   Origin/Ethnicity  34886 non-null  object\n",
      " 3   Director          34886 non-null  object\n",
      " 4   Cast              33464 non-null  object\n",
      " 5   Genre             34886 non-null  object\n",
      " 6   Wiki Page         34886 non-null  object\n",
      " 7   Plot              34886 non-null  object\n",
      "dtypes: int64(1), object(7)\n",
      "memory usage: 2.1+ MB\n"
     ]
    }
   ],
   "source": [
    "df.info()"
   ]
  },
  {
   "cell_type": "code",
   "execution_count": 4,
   "id": "fbb15ab5",
   "metadata": {
    "execution": {
     "iopub.execute_input": "2025-07-03T16:22:23.604366Z",
     "iopub.status.busy": "2025-07-03T16:22:23.604150Z",
     "iopub.status.idle": "2025-07-03T16:22:23.609827Z",
     "shell.execute_reply": "2025-07-03T16:22:23.609118Z"
    },
    "papermill": {
     "duration": 0.012873,
     "end_time": "2025-07-03T16:22:23.610910",
     "exception": false,
     "start_time": "2025-07-03T16:22:23.598037",
     "status": "completed"
    },
    "tags": []
   },
   "outputs": [
    {
     "data": {
      "text/plain": [
       "'Lasting just 61 seconds and consisting of two shots, the first shot is set in a wood during winter. The actor representing then vice-president Theodore Roosevelt enthusiastically hurries down a hillside towards a tree in the foreground. He falls once, but rights himself and cocks his rifle. Two other men, bearing signs reading \"His Photographer\" and \"His Press Agent\" respectively, follow him into the shot; the photographer sets up his camera. \"Teddy\" aims his rifle upward at the tree and fells what appears to be a common house cat, which he then proceeds to stab. \"Teddy\" holds his prize aloft, and the press agent takes notes. The second shot is taken in a slightly different part of the wood, on a path. \"Teddy\" rides the path on his horse towards the camera and out to the left of the shot, followed closely by the press agent and photographer, still dutifully holding their signs.'"
      ]
     },
     "execution_count": 4,
     "metadata": {},
     "output_type": "execute_result"
    }
   ],
   "source": [
    "corpus=df[\"Plot\"][:10000].to_list()\n",
    "len(corpus)\n",
    "corpus[3]"
   ]
  },
  {
   "cell_type": "markdown",
   "id": "5b2e0d98",
   "metadata": {
    "papermill": {
     "duration": 0.005078,
     "end_time": "2025-07-03T16:22:23.621251",
     "exception": false,
     "start_time": "2025-07-03T16:22:23.616173",
     "status": "completed"
    },
    "tags": []
   },
   "source": [
    "## 2. Next up is Preprocessing/Cleaning"
   ]
  },
  {
   "cell_type": "markdown",
   "id": "572c6cf7",
   "metadata": {
    "papermill": {
     "duration": 0.00502,
     "end_time": "2025-07-03T16:22:23.631407",
     "exception": false,
     "start_time": "2025-07-03T16:22:23.626387",
     "status": "completed"
    },
    "tags": []
   },
   "source": [
    "### Import the tokenizer"
   ]
  },
  {
   "cell_type": "code",
   "execution_count": 5,
   "id": "d9dcbd88",
   "metadata": {
    "execution": {
     "iopub.execute_input": "2025-07-03T16:22:23.642545Z",
     "iopub.status.busy": "2025-07-03T16:22:23.642297Z",
     "iopub.status.idle": "2025-07-03T16:22:25.371859Z",
     "shell.execute_reply": "2025-07-03T16:22:25.371255Z"
    },
    "papermill": {
     "duration": 1.736592,
     "end_time": "2025-07-03T16:22:25.373162",
     "exception": false,
     "start_time": "2025-07-03T16:22:23.636570",
     "status": "completed"
    },
    "tags": []
   },
   "outputs": [],
   "source": [
    "from nltk.tokenize import word_tokenize"
   ]
  },
  {
   "cell_type": "markdown",
   "id": "7f828fba",
   "metadata": {
    "papermill": {
     "duration": 0.005169,
     "end_time": "2025-07-03T16:22:25.383930",
     "exception": false,
     "start_time": "2025-07-03T16:22:25.378761",
     "status": "completed"
    },
    "tags": []
   },
   "source": [
    "### Preprocess text (to lowercase, remove punctuations and tokenize"
   ]
  },
  {
   "cell_type": "code",
   "execution_count": 6,
   "id": "b3eb30f0",
   "metadata": {
    "execution": {
     "iopub.execute_input": "2025-07-03T16:22:25.395137Z",
     "iopub.status.busy": "2025-07-03T16:22:25.394850Z",
     "iopub.status.idle": "2025-07-03T16:22:34.762251Z",
     "shell.execute_reply": "2025-07-03T16:22:34.761686Z"
    },
    "papermill": {
     "duration": 9.374553,
     "end_time": "2025-07-03T16:22:34.763573",
     "exception": false,
     "start_time": "2025-07-03T16:22:25.389020",
     "status": "completed"
    },
    "tags": []
   },
   "outputs": [],
   "source": [
    "import string\n",
    "tokens=[]\n",
    "for i in range(len(corpus)):\n",
    "    temp=corpus[i].lower()\n",
    "    corpus[i]=''.join([char for char in temp if char not in string.punctuation])\n",
    "    tokens.extend(word_tokenize(corpus[i]))"
   ]
  },
  {
   "cell_type": "code",
   "execution_count": 7,
   "id": "d036b460",
   "metadata": {
    "execution": {
     "iopub.execute_input": "2025-07-03T16:22:34.775436Z",
     "iopub.status.busy": "2025-07-03T16:22:34.775228Z",
     "iopub.status.idle": "2025-07-03T16:22:34.779012Z",
     "shell.execute_reply": "2025-07-03T16:22:34.778484Z"
    },
    "papermill": {
     "duration": 0.010673,
     "end_time": "2025-07-03T16:22:34.779990",
     "exception": false,
     "start_time": "2025-07-03T16:22:34.769317",
     "status": "completed"
    },
    "tags": []
   },
   "outputs": [
    {
     "name": "stdout",
     "output_type": "stream",
     "text": [
      "3306739\n"
     ]
    }
   ],
   "source": [
    "print(len(tokens))"
   ]
  },
  {
   "cell_type": "markdown",
   "id": "70b16ce1",
   "metadata": {
    "papermill": {
     "duration": 0.005155,
     "end_time": "2025-07-03T16:22:34.790515",
     "exception": false,
     "start_time": "2025-07-03T16:22:34.785360",
     "status": "completed"
    },
    "tags": []
   },
   "source": [
    "### Record word frequency and create word index"
   ]
  },
  {
   "cell_type": "code",
   "execution_count": 8,
   "id": "c091f237",
   "metadata": {
    "execution": {
     "iopub.execute_input": "2025-07-03T16:22:34.802021Z",
     "iopub.status.busy": "2025-07-03T16:22:34.801520Z",
     "iopub.status.idle": "2025-07-03T16:22:35.621630Z",
     "shell.execute_reply": "2025-07-03T16:22:35.620827Z"
    },
    "papermill": {
     "duration": 0.827256,
     "end_time": "2025-07-03T16:22:35.623038",
     "exception": false,
     "start_time": "2025-07-03T16:22:34.795782",
     "status": "completed"
    },
    "tags": []
   },
   "outputs": [],
   "source": [
    "word_freq={}\n",
    "word2idx={}\n",
    "count_idx=0 #this was the source of the error sigh\n",
    "\n",
    "for token in tokens:\n",
    "    if token not in word2idx:\n",
    "        word2idx[token]=count_idx\n",
    "        word_freq[token]=1\n",
    "        count_idx+=1\n",
    "    else:\n",
    "        word_freq[token]+=1"
   ]
  },
  {
   "cell_type": "code",
   "execution_count": 9,
   "id": "beb80d85",
   "metadata": {
    "execution": {
     "iopub.execute_input": "2025-07-03T16:22:35.635145Z",
     "iopub.status.busy": "2025-07-03T16:22:35.634740Z",
     "iopub.status.idle": "2025-07-03T16:22:35.638397Z",
     "shell.execute_reply": "2025-07-03T16:22:35.637754Z"
    },
    "papermill": {
     "duration": 0.01062,
     "end_time": "2025-07-03T16:22:35.639385",
     "exception": false,
     "start_time": "2025-07-03T16:22:35.628765",
     "status": "completed"
    },
    "tags": []
   },
   "outputs": [
    {
     "name": "stdout",
     "output_type": "stream",
     "text": [
      "74561\n"
     ]
    }
   ],
   "source": [
    "print(len(word2idx))"
   ]
  },
  {
   "cell_type": "code",
   "execution_count": 10,
   "id": "fd67e629",
   "metadata": {
    "execution": {
     "iopub.execute_input": "2025-07-03T16:22:35.651296Z",
     "iopub.status.busy": "2025-07-03T16:22:35.651117Z",
     "iopub.status.idle": "2025-07-03T16:22:35.667640Z",
     "shell.execute_reply": "2025-07-03T16:22:35.667148Z"
    },
    "papermill": {
     "duration": 0.023849,
     "end_time": "2025-07-03T16:22:35.668696",
     "exception": false,
     "start_time": "2025-07-03T16:22:35.644847",
     "status": "completed"
    },
    "tags": []
   },
   "outputs": [],
   "source": [
    "idx2word={idx:word for word,idx in word2idx.items()}"
   ]
  },
  {
   "cell_type": "markdown",
   "id": "21925142",
   "metadata": {
    "papermill": {
     "duration": 0.005324,
     "end_time": "2025-07-03T16:22:35.679400",
     "exception": false,
     "start_time": "2025-07-03T16:22:35.674076",
     "status": "completed"
    },
    "tags": []
   },
   "source": [
    "# trying to debug the bad context index error"
   ]
  },
  {
   "cell_type": "code",
   "execution_count": 11,
   "id": "93b73878",
   "metadata": {
    "execution": {
     "iopub.execute_input": "2025-07-03T16:22:35.691854Z",
     "iopub.status.busy": "2025-07-03T16:22:35.691658Z",
     "iopub.status.idle": "2025-07-03T16:22:35.695247Z",
     "shell.execute_reply": "2025-07-03T16:22:35.694502Z"
    },
    "papermill": {
     "duration": 0.010692,
     "end_time": "2025-07-03T16:22:35.696425",
     "exception": false,
     "start_time": "2025-07-03T16:22:35.685733",
     "status": "completed"
    },
    "tags": []
   },
   "outputs": [
    {
     "name": "stdout",
     "output_type": "stream",
     "text": [
      "a\n"
     ]
    }
   ],
   "source": [
    "print(idx2word[0])"
   ]
  },
  {
   "cell_type": "markdown",
   "id": "eaa8a7b5",
   "metadata": {
    "papermill": {
     "duration": 0.0052,
     "end_time": "2025-07-03T16:22:35.707138",
     "exception": false,
     "start_time": "2025-07-03T16:22:35.701938",
     "status": "completed"
    },
    "tags": []
   },
   "source": [
    "### Now I see that the range goes from 0 to 17766 and that vocab size is 17767. The problem was wrong vocab size. I started the index in word2idx from 1 not 0 but was requiring 0 in other places."
   ]
  },
  {
   "cell_type": "code",
   "execution_count": 12,
   "id": "bc205585",
   "metadata": {
    "execution": {
     "iopub.execute_input": "2025-07-03T16:22:35.718970Z",
     "iopub.status.busy": "2025-07-03T16:22:35.718362Z",
     "iopub.status.idle": "2025-07-03T16:22:35.722036Z",
     "shell.execute_reply": "2025-07-03T16:22:35.721501Z"
    },
    "papermill": {
     "duration": 0.01044,
     "end_time": "2025-07-03T16:22:35.722991",
     "exception": false,
     "start_time": "2025-07-03T16:22:35.712551",
     "status": "completed"
    },
    "tags": []
   },
   "outputs": [
    {
     "name": "stdout",
     "output_type": "stream",
     "text": [
      "17765\n"
     ]
    }
   ],
   "source": [
    "print(word2idx[\"mounties\"])"
   ]
  },
  {
   "cell_type": "markdown",
   "id": "8d30637b",
   "metadata": {
    "papermill": {
     "duration": 0.005158,
     "end_time": "2025-07-03T16:22:35.733683",
     "exception": false,
     "start_time": "2025-07-03T16:22:35.728525",
     "status": "completed"
    },
    "tags": []
   },
   "source": [
    "### 3. Next up is Generating Train Pairs (word-context pairs)"
   ]
  },
  {
   "cell_type": "code",
   "execution_count": 13,
   "id": "cd9e1f4b",
   "metadata": {
    "execution": {
     "iopub.execute_input": "2025-07-03T16:22:35.745163Z",
     "iopub.status.busy": "2025-07-03T16:22:35.744989Z",
     "iopub.status.idle": "2025-07-03T16:22:41.686429Z",
     "shell.execute_reply": "2025-07-03T16:22:41.685857Z"
    },
    "papermill": {
     "duration": 5.948698,
     "end_time": "2025-07-03T16:22:41.687829",
     "exception": false,
     "start_time": "2025-07-03T16:22:35.739131",
     "status": "completed"
    },
    "tags": []
   },
   "outputs": [],
   "source": [
    "window_size=2\n",
    "training_pairs=[]\n",
    "for i in range(len(tokens)):\n",
    "    start=i-window_size\n",
    "    stop=i+window_size+1\n",
    "    \n",
    "    for j in range(start,stop):\n",
    "        if j<0 or j==i or j>=len(tokens):\n",
    "            continue\n",
    "        training_pairs.append((tokens[i],tokens[j]))   "
   ]
  },
  {
   "cell_type": "code",
   "execution_count": 14,
   "id": "45008d51",
   "metadata": {
    "execution": {
     "iopub.execute_input": "2025-07-03T16:22:41.700942Z",
     "iopub.status.busy": "2025-07-03T16:22:41.700721Z",
     "iopub.status.idle": "2025-07-03T16:22:41.704599Z",
     "shell.execute_reply": "2025-07-03T16:22:41.703951Z"
    },
    "papermill": {
     "duration": 0.011969,
     "end_time": "2025-07-03T16:22:41.705667",
     "exception": false,
     "start_time": "2025-07-03T16:22:41.693698",
     "status": "completed"
    },
    "tags": []
   },
   "outputs": [
    {
     "name": "stdout",
     "output_type": "stream",
     "text": [
      "[('a', 'bartender'), ('a', 'is'), ('bartender', 'a'), ('bartender', 'is'), ('bartender', 'working'), ('is', 'a'), ('is', 'bartender'), ('is', 'working'), ('is', 'at'), ('working', 'bartender'), ('working', 'is'), ('working', 'at'), ('working', 'a'), ('at', 'is'), ('at', 'working'), ('at', 'a'), ('at', 'saloon'), ('a', 'working'), ('a', 'at'), ('a', 'saloon'), ('a', 'serving'), ('saloon', 'at'), ('saloon', 'a'), ('saloon', 'serving'), ('saloon', 'drinks'), ('serving', 'a'), ('serving', 'saloon'), ('serving', 'drinks'), ('serving', 'to'), ('drinks', 'saloon'), ('drinks', 'serving'), ('drinks', 'to'), ('drinks', 'customers'), ('to', 'serving'), ('to', 'drinks'), ('to', 'customers'), ('to', 'after'), ('customers', 'drinks'), ('customers', 'to'), ('customers', 'after'), ('customers', 'he'), ('after', 'to'), ('after', 'customers'), ('after', 'he'), ('after', 'fills'), ('he', 'customers'), ('he', 'after'), ('he', 'fills'), ('he', 'a'), ('fills', 'after')]\n"
     ]
    }
   ],
   "source": [
    "print(training_pairs[:50])"
   ]
  },
  {
   "cell_type": "markdown",
   "id": "f423d97f",
   "metadata": {
    "papermill": {
     "duration": 0.005184,
     "end_time": "2025-07-03T16:22:41.716350",
     "exception": false,
     "start_time": "2025-07-03T16:22:41.711166",
     "status": "completed"
    },
    "tags": []
   },
   "source": [
    "### 4. Next up is converting words to indices"
   ]
  },
  {
   "cell_type": "code",
   "execution_count": 15,
   "id": "c037c821",
   "metadata": {
    "execution": {
     "iopub.execute_input": "2025-07-03T16:22:41.727921Z",
     "iopub.status.busy": "2025-07-03T16:22:41.727721Z",
     "iopub.status.idle": "2025-07-03T16:22:45.272406Z",
     "shell.execute_reply": "2025-07-03T16:22:45.271833Z"
    },
    "papermill": {
     "duration": 3.551985,
     "end_time": "2025-07-03T16:22:45.273841",
     "exception": false,
     "start_time": "2025-07-03T16:22:41.721856",
     "status": "completed"
    },
    "tags": []
   },
   "outputs": [],
   "source": [
    "training_data = []\n",
    "for tup in training_pairs:\n",
    "    training_data.append((word2idx[tup[0]],word2idx[tup[1]]))"
   ]
  },
  {
   "cell_type": "code",
   "execution_count": 16,
   "id": "149476c5",
   "metadata": {
    "execution": {
     "iopub.execute_input": "2025-07-03T16:22:45.286366Z",
     "iopub.status.busy": "2025-07-03T16:22:45.286134Z",
     "iopub.status.idle": "2025-07-03T16:22:45.291348Z",
     "shell.execute_reply": "2025-07-03T16:22:45.290825Z"
    },
    "papermill": {
     "duration": 0.01257,
     "end_time": "2025-07-03T16:22:45.292433",
     "exception": false,
     "start_time": "2025-07-03T16:22:45.279863",
     "status": "completed"
    },
    "tags": []
   },
   "outputs": [
    {
     "data": {
      "text/plain": [
       "[(0, 1),\n",
       " (0, 2),\n",
       " (1, 0),\n",
       " (1, 2),\n",
       " (1, 3),\n",
       " (2, 0),\n",
       " (2, 1),\n",
       " (2, 3),\n",
       " (2, 4),\n",
       " (3, 1),\n",
       " (3, 2),\n",
       " (3, 4),\n",
       " (3, 0),\n",
       " (4, 2),\n",
       " (4, 3),\n",
       " (4, 0),\n",
       " (4, 5),\n",
       " (0, 3),\n",
       " (0, 4),\n",
       " (0, 5),\n",
       " (0, 6),\n",
       " (5, 4),\n",
       " (5, 0),\n",
       " (5, 6),\n",
       " (5, 7),\n",
       " (6, 0),\n",
       " (6, 5),\n",
       " (6, 7),\n",
       " (6, 8),\n",
       " (7, 5),\n",
       " (7, 6),\n",
       " (7, 8),\n",
       " (7, 9),\n",
       " (8, 6),\n",
       " (8, 7),\n",
       " (8, 9),\n",
       " (8, 10),\n",
       " (9, 7),\n",
       " (9, 8),\n",
       " (9, 10),\n",
       " (9, 11),\n",
       " (10, 8),\n",
       " (10, 9),\n",
       " (10, 11),\n",
       " (10, 12),\n",
       " (11, 9),\n",
       " (11, 10),\n",
       " (11, 12),\n",
       " (11, 0),\n",
       " (12, 10)]"
      ]
     },
     "execution_count": 16,
     "metadata": {},
     "output_type": "execute_result"
    }
   ],
   "source": [
    "training_data[:50]"
   ]
  },
  {
   "cell_type": "code",
   "execution_count": 17,
   "id": "58f99b59",
   "metadata": {
    "execution": {
     "iopub.execute_input": "2025-07-03T16:22:45.304672Z",
     "iopub.status.busy": "2025-07-03T16:22:45.304432Z",
     "iopub.status.idle": "2025-07-03T16:22:45.308685Z",
     "shell.execute_reply": "2025-07-03T16:22:45.307995Z"
    },
    "papermill": {
     "duration": 0.011431,
     "end_time": "2025-07-03T16:22:45.309700",
     "exception": false,
     "start_time": "2025-07-03T16:22:45.298269",
     "status": "completed"
    },
    "tags": []
   },
   "outputs": [
    {
     "data": {
      "text/plain": [
       "10"
      ]
     },
     "execution_count": 17,
     "metadata": {},
     "output_type": "execute_result"
    }
   ],
   "source": [
    "word2idx[\"after\"]"
   ]
  },
  {
   "cell_type": "code",
   "execution_count": 18,
   "id": "f94b4b37",
   "metadata": {
    "execution": {
     "iopub.execute_input": "2025-07-03T16:22:45.364198Z",
     "iopub.status.busy": "2025-07-03T16:22:45.363940Z",
     "iopub.status.idle": "2025-07-03T16:22:45.368292Z",
     "shell.execute_reply": "2025-07-03T16:22:45.367618Z"
    },
    "papermill": {
     "duration": 0.054123,
     "end_time": "2025-07-03T16:22:45.369418",
     "exception": false,
     "start_time": "2025-07-03T16:22:45.315295",
     "status": "completed"
    },
    "tags": []
   },
   "outputs": [
    {
     "data": {
      "text/plain": [
       "'hidden'"
      ]
     },
     "execution_count": 18,
     "metadata": {},
     "output_type": "execute_result"
    }
   ],
   "source": [
    "idx2word[121]"
   ]
  },
  {
   "cell_type": "code",
   "execution_count": 19,
   "id": "bff433d4",
   "metadata": {
    "execution": {
     "iopub.execute_input": "2025-07-03T16:22:45.381871Z",
     "iopub.status.busy": "2025-07-03T16:22:45.381677Z",
     "iopub.status.idle": "2025-07-03T16:22:45.385160Z",
     "shell.execute_reply": "2025-07-03T16:22:45.384509Z"
    },
    "papermill": {
     "duration": 0.010718,
     "end_time": "2025-07-03T16:22:45.386097",
     "exception": false,
     "start_time": "2025-07-03T16:22:45.375379",
     "status": "completed"
    },
    "tags": []
   },
   "outputs": [
    {
     "name": "stdout",
     "output_type": "stream",
     "text": [
      "74561\n"
     ]
    }
   ],
   "source": [
    "vocab_size=len(word2idx) #number of unique words in the corpus\n",
    "print(vocab_size)\n",
    "embedding_dim=100 #a usual value for Word2Vec"
   ]
  },
  {
   "cell_type": "code",
   "execution_count": 20,
   "id": "9d6a2cd5",
   "metadata": {
    "execution": {
     "iopub.execute_input": "2025-07-03T16:22:45.398245Z",
     "iopub.status.busy": "2025-07-03T16:22:45.398050Z",
     "iopub.status.idle": "2025-07-03T16:22:50.323007Z",
     "shell.execute_reply": "2025-07-03T16:22:50.322230Z"
    },
    "papermill": {
     "duration": 4.932689,
     "end_time": "2025-07-03T16:22:50.324513",
     "exception": false,
     "start_time": "2025-07-03T16:22:45.391824",
     "status": "completed"
    },
    "tags": []
   },
   "outputs": [],
   "source": [
    "import torch"
   ]
  },
  {
   "cell_type": "markdown",
   "id": "716bf127",
   "metadata": {
    "papermill": {
     "duration": 0.005672,
     "end_time": "2025-07-03T16:22:50.336260",
     "exception": false,
     "start_time": "2025-07-03T16:22:50.330588",
     "status": "completed"
    },
    "tags": []
   },
   "source": [
    "### Define the Embedding Layers and Word2Vec Class"
   ]
  },
  {
   "cell_type": "code",
   "execution_count": 21,
   "id": "d818993c",
   "metadata": {
    "execution": {
     "iopub.execute_input": "2025-07-03T16:22:50.348521Z",
     "iopub.status.busy": "2025-07-03T16:22:50.348151Z",
     "iopub.status.idle": "2025-07-03T16:22:50.499075Z",
     "shell.execute_reply": "2025-07-03T16:22:50.498286Z"
    },
    "papermill": {
     "duration": 0.158901,
     "end_time": "2025-07-03T16:22:50.500778",
     "exception": false,
     "start_time": "2025-07-03T16:22:50.341877",
     "status": "completed"
    },
    "tags": []
   },
   "outputs": [],
   "source": [
    "W_in=torch.nn.Embedding(vocab_size,embedding_dim)\n",
    "W_out=torch.nn.Embedding(vocab_size,embedding_dim)"
   ]
  },
  {
   "cell_type": "markdown",
   "id": "e0d86ffb",
   "metadata": {
    "papermill": {
     "duration": 0.005694,
     "end_time": "2025-07-03T16:22:50.512597",
     "exception": false,
     "start_time": "2025-07-03T16:22:50.506903",
     "status": "completed"
    },
    "tags": []
   },
   "source": [
    "**Quick note: 1. Just learnt that if I don't feed in the indices in batch and instead try to loop through each one, it'll be too slow. 2. Also learnt the purpose of forward() in a pytorch class - it is the brain that handles input.**"
   ]
  },
  {
   "cell_type": "code",
   "execution_count": 22,
   "id": "cabceb3f",
   "metadata": {
    "execution": {
     "iopub.execute_input": "2025-07-03T16:22:50.525224Z",
     "iopub.status.busy": "2025-07-03T16:22:50.524636Z",
     "iopub.status.idle": "2025-07-03T16:22:50.529230Z",
     "shell.execute_reply": "2025-07-03T16:22:50.528631Z"
    },
    "papermill": {
     "duration": 0.011983,
     "end_time": "2025-07-03T16:22:50.530215",
     "exception": false,
     "start_time": "2025-07-03T16:22:50.518232",
     "status": "completed"
    },
    "tags": []
   },
   "outputs": [],
   "source": [
    "class Word2Vec(torch.nn.Module):\n",
    "    def __init__(self, vocab_size, embedding_dim):\n",
    "        super().__init__()\n",
    "        self.in_embed = torch.nn.Embedding(vocab_size, embedding_dim)\n",
    "        self.out_embed = torch.nn.Embedding(vocab_size, embedding_dim)\n",
    "        \n",
    "    def forward(self,centre_idx, context_idx):\n",
    "        centre_vector=self.in_embed(centre_idx)\n",
    "        context_vector=self.out_embed(context_idx)\n",
    "        dot_products = torch.sum(centre_vector * context_vector, dim=1)\n",
    "        return dot_products\n",
    "        # torch.dot only works for 1D vectors not batches\n",
    "        # The dot product is the true measure of if the vectors capture the closeness of the words they represent.\n",
    "        # Seeing as we're starting with random values, the predictions will start poor and over time will be adjusted through training. Interesting."
   ]
  },
  {
   "cell_type": "markdown",
   "id": "64c72fdf",
   "metadata": {
    "papermill": {
     "duration": 0.005502,
     "end_time": "2025-07-03T16:22:50.541388",
     "exception": false,
     "start_time": "2025-07-03T16:22:50.535886",
     "status": "completed"
    },
    "tags": []
   },
   "source": [
    "### Adding negative sampling to the training data"
   ]
  },
  {
   "cell_type": "code",
   "execution_count": 23,
   "id": "68418ae3",
   "metadata": {
    "execution": {
     "iopub.execute_input": "2025-07-03T16:22:50.553430Z",
     "iopub.status.busy": "2025-07-03T16:22:50.553247Z",
     "iopub.status.idle": "2025-07-03T16:22:50.557508Z",
     "shell.execute_reply": "2025-07-03T16:22:50.557003Z"
    },
    "papermill": {
     "duration": 0.011488,
     "end_time": "2025-07-03T16:22:50.558510",
     "exception": false,
     "start_time": "2025-07-03T16:22:50.547022",
     "status": "completed"
    },
    "tags": []
   },
   "outputs": [
    {
     "data": {
      "text/plain": [
       "(0, 8)"
      ]
     },
     "execution_count": 23,
     "metadata": {},
     "output_type": "execute_result"
    }
   ],
   "source": [
    "import random\n",
    "random.sample(training_data,1)[0]"
   ]
  },
  {
   "cell_type": "code",
   "execution_count": 24,
   "id": "13f8a6f5",
   "metadata": {
    "execution": {
     "iopub.execute_input": "2025-07-03T16:22:50.570989Z",
     "iopub.status.busy": "2025-07-03T16:22:50.570788Z",
     "iopub.status.idle": "2025-07-03T16:22:50.575643Z",
     "shell.execute_reply": "2025-07-03T16:22:50.575089Z"
    },
    "papermill": {
     "duration": 0.012212,
     "end_time": "2025-07-03T16:22:50.576589",
     "exception": false,
     "start_time": "2025-07-03T16:22:50.564377",
     "status": "completed"
    },
    "tags": []
   },
   "outputs": [],
   "source": [
    "k=5\n",
    "\n",
    "def prepare_batch_with_negatives(batch_data, k, vocab_size):\n",
    "    centre_indices=[]\n",
    "    context_indices=[]\n",
    "    labels=[]\n",
    "    for centre_idx, context_idx in batch_data:\n",
    "        centre_indices.append(centre_idx)\n",
    "        context_indices.append(context_idx)\n",
    "        labels.append(1)\n",
    "        \n",
    "        for nve_sample in range(k):\n",
    "            negative_idx = random.randint(0, vocab_size - 1)\n",
    "            while negative_idx == context_idx:\n",
    "                negative_idx = random.randint(0, vocab_size - 1)\n",
    "            centre_indices.append(centre_idx)\n",
    "            context_indices.append(negative_idx)\n",
    "            labels.append(0)\n",
    "            \n",
    "    centre_tensor = torch.tensor(centre_indices, dtype=torch.long)\n",
    "    context_tensor = torch.tensor(context_indices, dtype=torch.long)\n",
    "    label_tensor   = torch.tensor(labels, dtype=torch.float)\n",
    "    return centre_tensor, context_tensor, label_tensor"
   ]
  },
  {
   "cell_type": "code",
   "execution_count": 25,
   "id": "86400c14",
   "metadata": {
    "execution": {
     "iopub.execute_input": "2025-07-03T16:22:50.588822Z",
     "iopub.status.busy": "2025-07-03T16:22:50.588626Z",
     "iopub.status.idle": "2025-07-03T16:22:50.718507Z",
     "shell.execute_reply": "2025-07-03T16:22:50.717575Z"
    },
    "papermill": {
     "duration": 0.137887,
     "end_time": "2025-07-03T16:22:50.720258",
     "exception": false,
     "start_time": "2025-07-03T16:22:50.582371",
     "status": "completed"
    },
    "tags": []
   },
   "outputs": [],
   "source": [
    "model = Word2Vec(vocab_size, embedding_dim)"
   ]
  },
  {
   "cell_type": "code",
   "execution_count": 26,
   "id": "d375de74",
   "metadata": {
    "execution": {
     "iopub.execute_input": "2025-07-03T16:22:50.734479Z",
     "iopub.status.busy": "2025-07-03T16:22:50.733784Z",
     "iopub.status.idle": "2025-07-03T16:22:55.422999Z",
     "shell.execute_reply": "2025-07-03T16:22:55.422378Z"
    },
    "papermill": {
     "duration": 4.697363,
     "end_time": "2025-07-03T16:22:55.424373",
     "exception": false,
     "start_time": "2025-07-03T16:22:50.727010",
     "status": "completed"
    },
    "tags": []
   },
   "outputs": [],
   "source": [
    "optimizer = torch.optim.SGD(model.parameters(), lr=0.01)\n",
    "loss_fn = torch.nn.BCELoss()"
   ]
  },
  {
   "cell_type": "code",
   "execution_count": 27,
   "id": "b6a83147",
   "metadata": {
    "execution": {
     "iopub.execute_input": "2025-07-03T16:22:55.438676Z",
     "iopub.status.busy": "2025-07-03T16:22:55.438091Z",
     "iopub.status.idle": "2025-07-03T16:22:55.671994Z",
     "shell.execute_reply": "2025-07-03T16:22:55.671243Z"
    },
    "papermill": {
     "duration": 0.242211,
     "end_time": "2025-07-03T16:22:55.673207",
     "exception": false,
     "start_time": "2025-07-03T16:22:55.430996",
     "status": "completed"
    },
    "tags": []
   },
   "outputs": [
    {
     "data": {
      "text/plain": [
       "Word2Vec(\n",
       "  (in_embed): Embedding(74561, 100)\n",
       "  (out_embed): Embedding(74561, 100)\n",
       ")"
      ]
     },
     "execution_count": 27,
     "metadata": {},
     "output_type": "execute_result"
    }
   ],
   "source": [
    "device = torch.device(\"cuda\" if torch.cuda.is_available() else \"cpu\")\n",
    "model.to(device)"
   ]
  },
  {
   "cell_type": "markdown",
   "id": "4fc17915",
   "metadata": {
    "papermill": {
     "duration": 0.00588,
     "end_time": "2025-07-03T16:22:55.685576",
     "exception": false,
     "start_time": "2025-07-03T16:22:55.679696",
     "status": "completed"
    },
    "tags": []
   },
   "source": [
    "### Loss calculation is two: first is loss per batch and then loss per epoch which averages across batches in an epoch."
   ]
  },
  {
   "cell_type": "code",
   "execution_count": null,
   "id": "fc4026a1",
   "metadata": {
    "papermill": {
     "duration": 0.005696,
     "end_time": "2025-07-03T16:22:55.697081",
     "exception": false,
     "start_time": "2025-07-03T16:22:55.691385",
     "status": "completed"
    },
    "tags": []
   },
   "outputs": [],
   "source": []
  },
  {
   "cell_type": "code",
   "execution_count": 28,
   "id": "c1af29d6",
   "metadata": {
    "execution": {
     "iopub.execute_input": "2025-07-03T16:22:55.709579Z",
     "iopub.status.busy": "2025-07-03T16:22:55.709338Z",
     "iopub.status.idle": "2025-07-03T17:38:00.349650Z",
     "shell.execute_reply": "2025-07-03T17:38:00.348841Z"
    },
    "papermill": {
     "duration": 4504.654314,
     "end_time": "2025-07-03T17:38:00.357174",
     "exception": false,
     "start_time": "2025-07-03T16:22:55.702860",
     "status": "completed"
    },
    "tags": []
   },
   "outputs": [
    {
     "name": "stdout",
     "output_type": "stream",
     "text": [
      "Epoch 1, Loss: 4.7491\n",
      "Epoch 1, Loss: 5.7397\n",
      "Epoch 2, Loss: 3.1171\n",
      "Epoch 2, Loss: 4.7899\n",
      "Epoch 3, Loss: 3.8193\n",
      "Epoch 3, Loss: 4.4812\n",
      "Epoch 4, Loss: 4.1255\n",
      "Epoch 4, Loss: 4.2883\n",
      "Epoch 5, Loss: 4.3536\n",
      "Epoch 5, Loss: 4.1471\n",
      "Epoch 6, Loss: 4.8159\n",
      "Epoch 6, Loss: 4.0321\n",
      "Epoch 7, Loss: 3.5598\n",
      "Epoch 7, Loss: 3.9359\n",
      "Epoch 8, Loss: 3.4984\n",
      "Epoch 8, Loss: 3.8523\n",
      "Epoch 9, Loss: 3.7780\n",
      "Epoch 9, Loss: 3.7752\n",
      "Epoch 10, Loss: 2.5986\n",
      "Epoch 10, Loss: 3.7077\n",
      "Epoch 11, Loss: 3.3238\n",
      "Epoch 11, Loss: 3.6423\n",
      "Epoch 12, Loss: 2.7956\n",
      "Epoch 12, Loss: 3.5847\n",
      "Epoch 13, Loss: 4.0443\n",
      "Epoch 13, Loss: 3.5295\n",
      "Epoch 14, Loss: 4.0505\n",
      "Epoch 14, Loss: 3.4789\n",
      "Epoch 15, Loss: 3.0972\n",
      "Epoch 15, Loss: 3.4269\n",
      "Epoch 16, Loss: 2.4755\n",
      "Epoch 16, Loss: 3.3827\n",
      "Epoch 17, Loss: 3.3324\n",
      "Epoch 17, Loss: 3.3388\n",
      "Epoch 18, Loss: 1.3567\n",
      "Epoch 18, Loss: 3.3001\n",
      "Epoch 19, Loss: 3.5138\n",
      "Epoch 19, Loss: 3.2608\n",
      "Epoch 20, Loss: 2.8281\n",
      "Epoch 20, Loss: 3.2235\n",
      "Epoch 21, Loss: 4.9023\n",
      "Epoch 21, Loss: 3.1878\n",
      "Epoch 22, Loss: 3.0614\n",
      "Epoch 22, Loss: 3.1526\n",
      "Epoch 23, Loss: 2.2599\n",
      "Epoch 23, Loss: 3.1221\n",
      "Epoch 24, Loss: 3.8112\n",
      "Epoch 24, Loss: 3.0886\n",
      "Epoch 25, Loss: 3.5692\n",
      "Epoch 25, Loss: 3.0609\n"
     ]
    }
   ],
   "source": [
    "num_epochs=25\n",
    "batch_size=100\n",
    "\n",
    "for epoch in range(num_epochs):\n",
    "    random.shuffle(training_data)\n",
    "    total_loss=0\n",
    "\n",
    "    for i in range(0, len(training_data), batch_size):\n",
    "        batch_data = training_data[i : i + batch_size]\n",
    "        \n",
    "        for center_idx, context_idx in batch_data:\n",
    "            assert center_idx < vocab_size, f\"Bad center_idx: {center_idx}\"\n",
    "            assert context_idx < vocab_size, f\"Bad context_idx: {context_idx}\"\n",
    "            \n",
    "        center_tensor, context_tensor, label_tensor = prepare_batch_with_negatives(batch_data, k, vocab_size)\n",
    "        # print(center_tensor.max(), context_tensor.max(), vocab_size)\n",
    "        center_tensor = center_tensor.to(device)\n",
    "        context_tensor = context_tensor.to(device)\n",
    "        label_tensor = label_tensor.to(device)\n",
    "        # Forward pass\n",
    "        dot_products = model(center_tensor, context_tensor)\n",
    "        predictions = torch.sigmoid(dot_products)\n",
    "\n",
    "        # Compute loss\n",
    "        loss = loss_fn(predictions, label_tensor)\n",
    "        total_loss += loss.item()\n",
    "        # Backprop\n",
    "        optimizer.zero_grad()\n",
    "        loss.backward()\n",
    "        optimizer.step()\n",
    "\n",
    "    print(f\"Epoch {epoch+1}, Loss: {loss.item():.4f}\")\n",
    "    print(f\"Epoch {epoch+1}, Loss: {total_loss / (len(training_data) // batch_size):.4f}\")"
   ]
  },
  {
   "cell_type": "code",
   "execution_count": 29,
   "id": "c46b994b",
   "metadata": {
    "execution": {
     "iopub.execute_input": "2025-07-03T17:38:00.372240Z",
     "iopub.status.busy": "2025-07-03T17:38:00.371815Z",
     "iopub.status.idle": "2025-07-03T17:38:00.375621Z",
     "shell.execute_reply": "2025-07-03T17:38:00.374912Z"
    },
    "papermill": {
     "duration": 0.012484,
     "end_time": "2025-07-03T17:38:00.376682",
     "exception": false,
     "start_time": "2025-07-03T17:38:00.364198",
     "status": "completed"
    },
    "tags": []
   },
   "outputs": [],
   "source": [
    "word_vectors = model.in_embed.weight.data  # Tensor: [vocab_size, embedding_dim]\n",
    "word = \"add\"  # Example\n",
    "idx = word2idx[word]\n",
    "target_vector = word_vectors[idx]"
   ]
  },
  {
   "cell_type": "code",
   "execution_count": 30,
   "id": "8987abc3",
   "metadata": {
    "execution": {
     "iopub.execute_input": "2025-07-03T17:38:00.391595Z",
     "iopub.status.busy": "2025-07-03T17:38:00.391377Z",
     "iopub.status.idle": "2025-07-03T17:38:00.478332Z",
     "shell.execute_reply": "2025-07-03T17:38:00.477769Z"
    },
    "papermill": {
     "duration": 0.095759,
     "end_time": "2025-07-03T17:38:00.479652",
     "exception": false,
     "start_time": "2025-07-03T17:38:00.383893",
     "status": "completed"
    },
    "tags": []
   },
   "outputs": [],
   "source": [
    "cosine_similarities = torch.nn.functional.cosine_similarity(\n",
    "    target_vector.unsqueeze(0), word_vectors, dim=1\n",
    ")"
   ]
  },
  {
   "cell_type": "code",
   "execution_count": 31,
   "id": "3e7b5584",
   "metadata": {
    "execution": {
     "iopub.execute_input": "2025-07-03T17:38:00.494565Z",
     "iopub.status.busy": "2025-07-03T17:38:00.494328Z",
     "iopub.status.idle": "2025-07-03T17:38:00.567134Z",
     "shell.execute_reply": "2025-07-03T17:38:00.566291Z"
    },
    "papermill": {
     "duration": 0.081455,
     "end_time": "2025-07-03T17:38:00.568351",
     "exception": false,
     "start_time": "2025-07-03T17:38:00.486896",
     "status": "completed"
    },
    "tags": []
   },
   "outputs": [
    {
     "name": "stdout",
     "output_type": "stream",
     "text": [
      "['add', 'morely', 'oxcart', 'smalltown', 'clash', 'oberst', 'trade', 'sabin', 'phrosos', 'presaged']\n"
     ]
    }
   ],
   "source": [
    "top_indices = torch.topk(cosine_similarities, k=10).indices.tolist()\n",
    "similar_words = [idx2word[i] for i in top_indices]\n",
    "print(similar_words)"
   ]
  },
  {
   "cell_type": "code",
   "execution_count": 32,
   "id": "534927f8",
   "metadata": {
    "execution": {
     "iopub.execute_input": "2025-07-03T17:38:00.583208Z",
     "iopub.status.busy": "2025-07-03T17:38:00.582990Z",
     "iopub.status.idle": "2025-07-03T17:38:00.586161Z",
     "shell.execute_reply": "2025-07-03T17:38:00.585495Z"
    },
    "papermill": {
     "duration": 0.011625,
     "end_time": "2025-07-03T17:38:00.587158",
     "exception": false,
     "start_time": "2025-07-03T17:38:00.575533",
     "status": "completed"
    },
    "tags": []
   },
   "outputs": [],
   "source": [
    "# from sklearn.manifold import TSNE\n",
    "# import matplotlib.pyplot as plt\n",
    "\n",
    "# tsne = TSNE(n_components=2, random_state=0)\n",
    "# word_vectors_cpu = word_vectors.cpu().numpy()\n",
    "# embeddings_2d = tsne.fit_transform(word_vectors_cpu)\n",
    "\n",
    "# plt.scatter(embeddings_2d[:, 0], embeddings_2d[:, 1])\n",
    "# plt.show()"
   ]
  },
  {
   "cell_type": "code",
   "execution_count": null,
   "id": "2adae904",
   "metadata": {
    "papermill": {
     "duration": 0.006681,
     "end_time": "2025-07-03T17:38:00.600801",
     "exception": false,
     "start_time": "2025-07-03T17:38:00.594120",
     "status": "completed"
    },
    "tags": []
   },
   "outputs": [],
   "source": []
  }
 ],
 "metadata": {
  "kaggle": {
   "accelerator": "gpu",
   "dataSources": [
    {
     "datasetId": 64890,
     "sourceId": 127736,
     "sourceType": "datasetVersion"
    }
   ],
   "dockerImageVersionId": 31040,
   "isGpuEnabled": true,
   "isInternetEnabled": true,
   "language": "python",
   "sourceType": "notebook"
  },
  "kernelspec": {
   "display_name": "Python 3",
   "language": "python",
   "name": "python3"
  },
  "language_info": {
   "codemirror_mode": {
    "name": "ipython",
    "version": 3
   },
   "file_extension": ".py",
   "mimetype": "text/x-python",
   "name": "python",
   "nbconvert_exporter": "python",
   "pygments_lexer": "ipython3",
   "version": "3.11.11"
  },
  "papermill": {
   "default_parameters": {},
   "duration": 4547.209831,
   "end_time": "2025-07-03T17:38:03.529239",
   "environment_variables": {},
   "exception": null,
   "input_path": "__notebook__.ipynb",
   "output_path": "__notebook__.ipynb",
   "parameters": {},
   "start_time": "2025-07-03T16:22:16.319408",
   "version": "2.6.0"
  }
 },
 "nbformat": 4,
 "nbformat_minor": 5
}
