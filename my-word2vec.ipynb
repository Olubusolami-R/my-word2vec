{
 "cells": [
  {
   "cell_type": "code",
   "execution_count": 1,
   "id": "28b85f6e",
   "metadata": {
    "_cell_guid": "b1076dfc-b9ad-4769-8c92-a6c4dae69d19",
    "_uuid": "8f2839f25d086af736a60e9eeb907d3b93b6e0e5",
    "execution": {
     "iopub.execute_input": "2025-06-26T17:00:39.098441Z",
     "iopub.status.busy": "2025-06-26T17:00:39.098072Z",
     "iopub.status.idle": "2025-06-26T17:00:40.954108Z",
     "shell.execute_reply": "2025-06-26T17:00:40.952859Z"
    },
    "papermill": {
     "duration": 1.863902,
     "end_time": "2025-06-26T17:00:40.955634",
     "exception": false,
     "start_time": "2025-06-26T17:00:39.091732",
     "status": "completed"
    },
    "tags": []
   },
   "outputs": [
    {
     "name": "stdout",
     "output_type": "stream",
     "text": [
      "/kaggle/input/wikipedia-movie-plots/wiki_movie_plots_deduped.csv\n"
     ]
    }
   ],
   "source": [
    "import numpy as np # linear algebra\n",
    "import pandas as pd # data processing, CSV file I/O (e.g. pd.read_csv)\n",
    "\n",
    "import os\n",
    "for dirname, _, filenames in os.walk('/kaggle/input'):\n",
    "    for filename in filenames:\n",
    "        print(os.path.join(dirname, filename))"
   ]
  },
  {
   "cell_type": "markdown",
   "id": "6326fe58",
   "metadata": {
    "papermill": {
     "duration": 0.003138,
     "end_time": "2025-06-26T17:00:40.962690",
     "exception": false,
     "start_time": "2025-06-26T17:00:40.959552",
     "status": "completed"
    },
    "tags": []
   },
   "source": [
    "## 1. Extract the corpus: Movie Plots"
   ]
  },
  {
   "cell_type": "code",
   "execution_count": 2,
   "id": "89a95778",
   "metadata": {
    "execution": {
     "iopub.execute_input": "2025-06-26T17:00:40.970931Z",
     "iopub.status.busy": "2025-06-26T17:00:40.970478Z",
     "iopub.status.idle": "2025-06-26T17:00:43.748460Z",
     "shell.execute_reply": "2025-06-26T17:00:43.747292Z"
    },
    "papermill": {
     "duration": 2.78489,
     "end_time": "2025-06-26T17:00:43.751039",
     "exception": false,
     "start_time": "2025-06-26T17:00:40.966149",
     "status": "completed"
    },
    "tags": []
   },
   "outputs": [],
   "source": [
    "df=pd.read_csv(\"/kaggle/input/wikipedia-movie-plots/wiki_movie_plots_deduped.csv\")"
   ]
  },
  {
   "cell_type": "code",
   "execution_count": 3,
   "id": "ebd36d15",
   "metadata": {
    "execution": {
     "iopub.execute_input": "2025-06-26T17:00:43.764232Z",
     "iopub.status.busy": "2025-06-26T17:00:43.763842Z",
     "iopub.status.idle": "2025-06-26T17:00:43.810121Z",
     "shell.execute_reply": "2025-06-26T17:00:43.809051Z"
    },
    "papermill": {
     "duration": 0.054433,
     "end_time": "2025-06-26T17:00:43.811567",
     "exception": false,
     "start_time": "2025-06-26T17:00:43.757134",
     "status": "completed"
    },
    "tags": []
   },
   "outputs": [
    {
     "name": "stdout",
     "output_type": "stream",
     "text": [
      "<class 'pandas.core.frame.DataFrame'>\n",
      "RangeIndex: 34886 entries, 0 to 34885\n",
      "Data columns (total 8 columns):\n",
      " #   Column            Non-Null Count  Dtype \n",
      "---  ------            --------------  ----- \n",
      " 0   Release Year      34886 non-null  int64 \n",
      " 1   Title             34886 non-null  object\n",
      " 2   Origin/Ethnicity  34886 non-null  object\n",
      " 3   Director          34886 non-null  object\n",
      " 4   Cast              33464 non-null  object\n",
      " 5   Genre             34886 non-null  object\n",
      " 6   Wiki Page         34886 non-null  object\n",
      " 7   Plot              34886 non-null  object\n",
      "dtypes: int64(1), object(7)\n",
      "memory usage: 2.1+ MB\n"
     ]
    }
   ],
   "source": [
    "df.info()"
   ]
  },
  {
   "cell_type": "code",
   "execution_count": 4,
   "id": "2450741b",
   "metadata": {
    "execution": {
     "iopub.execute_input": "2025-06-26T17:00:43.819786Z",
     "iopub.status.busy": "2025-06-26T17:00:43.819505Z",
     "iopub.status.idle": "2025-06-26T17:00:43.827167Z",
     "shell.execute_reply": "2025-06-26T17:00:43.826335Z"
    },
    "papermill": {
     "duration": 0.013272,
     "end_time": "2025-06-26T17:00:43.828517",
     "exception": false,
     "start_time": "2025-06-26T17:00:43.815245",
     "status": "completed"
    },
    "tags": []
   },
   "outputs": [
    {
     "data": {
      "text/plain": [
       "'Lasting just 61 seconds and consisting of two shots, the first shot is set in a wood during winter. The actor representing then vice-president Theodore Roosevelt enthusiastically hurries down a hillside towards a tree in the foreground. He falls once, but rights himself and cocks his rifle. Two other men, bearing signs reading \"His Photographer\" and \"His Press Agent\" respectively, follow him into the shot; the photographer sets up his camera. \"Teddy\" aims his rifle upward at the tree and fells what appears to be a common house cat, which he then proceeds to stab. \"Teddy\" holds his prize aloft, and the press agent takes notes. The second shot is taken in a slightly different part of the wood, on a path. \"Teddy\" rides the path on his horse towards the camera and out to the left of the shot, followed closely by the press agent and photographer, still dutifully holding their signs.'"
      ]
     },
     "execution_count": 4,
     "metadata": {},
     "output_type": "execute_result"
    }
   ],
   "source": [
    "corpus=df[\"Plot\"][:15000].to_list()\n",
    "len(corpus)\n",
    "corpus[3]"
   ]
  },
  {
   "cell_type": "markdown",
   "id": "c5ba3ee0",
   "metadata": {
    "papermill": {
     "duration": 0.003437,
     "end_time": "2025-06-26T17:00:43.835655",
     "exception": false,
     "start_time": "2025-06-26T17:00:43.832218",
     "status": "completed"
    },
    "tags": []
   },
   "source": [
    "## 2. Next up is Preprocessing/Cleaning"
   ]
  },
  {
   "cell_type": "markdown",
   "id": "6497bb98",
   "metadata": {
    "papermill": {
     "duration": 0.003212,
     "end_time": "2025-06-26T17:00:43.842510",
     "exception": false,
     "start_time": "2025-06-26T17:00:43.839298",
     "status": "completed"
    },
    "tags": []
   },
   "source": [
    "### Import the tokenizer"
   ]
  },
  {
   "cell_type": "code",
   "execution_count": 5,
   "id": "9647a612",
   "metadata": {
    "execution": {
     "iopub.execute_input": "2025-06-26T17:00:43.850544Z",
     "iopub.status.busy": "2025-06-26T17:00:43.850258Z",
     "iopub.status.idle": "2025-06-26T17:00:46.182136Z",
     "shell.execute_reply": "2025-06-26T17:00:46.181270Z"
    },
    "papermill": {
     "duration": 2.337748,
     "end_time": "2025-06-26T17:00:46.183706",
     "exception": false,
     "start_time": "2025-06-26T17:00:43.845958",
     "status": "completed"
    },
    "tags": []
   },
   "outputs": [],
   "source": [
    "from nltk.tokenize import word_tokenize"
   ]
  },
  {
   "cell_type": "markdown",
   "id": "2f8b43d9",
   "metadata": {
    "papermill": {
     "duration": 0.003413,
     "end_time": "2025-06-26T17:00:46.191196",
     "exception": false,
     "start_time": "2025-06-26T17:00:46.187783",
     "status": "completed"
    },
    "tags": []
   },
   "source": [
    "### Preprocess text (to lowercase, remove punctuations and tokenize"
   ]
  },
  {
   "cell_type": "code",
   "execution_count": 6,
   "id": "45908332",
   "metadata": {
    "execution": {
     "iopub.execute_input": "2025-06-26T17:00:46.199581Z",
     "iopub.status.busy": "2025-06-26T17:00:46.199149Z",
     "iopub.status.idle": "2025-06-26T17:01:05.338789Z",
     "shell.execute_reply": "2025-06-26T17:01:05.337944Z"
    },
    "papermill": {
     "duration": 19.145821,
     "end_time": "2025-06-26T17:01:05.340500",
     "exception": false,
     "start_time": "2025-06-26T17:00:46.194679",
     "status": "completed"
    },
    "tags": []
   },
   "outputs": [],
   "source": [
    "import string\n",
    "tokens=[]\n",
    "for i in range(len(corpus)):\n",
    "    temp=corpus[i].lower()\n",
    "    corpus[i]=''.join([char for char in temp if char not in string.punctuation])\n",
    "    tokens.extend(word_tokenize(corpus[i]))"
   ]
  },
  {
   "cell_type": "code",
   "execution_count": 7,
   "id": "a360f12b",
   "metadata": {
    "execution": {
     "iopub.execute_input": "2025-06-26T17:01:05.350211Z",
     "iopub.status.busy": "2025-06-26T17:01:05.349283Z",
     "iopub.status.idle": "2025-06-26T17:01:05.354128Z",
     "shell.execute_reply": "2025-06-26T17:01:05.353159Z"
    },
    "papermill": {
     "duration": 0.011102,
     "end_time": "2025-06-26T17:01:05.355558",
     "exception": false,
     "start_time": "2025-06-26T17:01:05.344456",
     "status": "completed"
    },
    "tags": []
   },
   "outputs": [
    {
     "name": "stdout",
     "output_type": "stream",
     "text": [
      "5887100\n"
     ]
    }
   ],
   "source": [
    "print(len(tokens))"
   ]
  },
  {
   "cell_type": "markdown",
   "id": "30b5af2d",
   "metadata": {
    "papermill": {
     "duration": 0.003328,
     "end_time": "2025-06-26T17:01:05.362621",
     "exception": false,
     "start_time": "2025-06-26T17:01:05.359293",
     "status": "completed"
    },
    "tags": []
   },
   "source": [
    "### Record word frequency and create word index"
   ]
  },
  {
   "cell_type": "code",
   "execution_count": 8,
   "id": "26d83eee",
   "metadata": {
    "execution": {
     "iopub.execute_input": "2025-06-26T17:01:05.371454Z",
     "iopub.status.busy": "2025-06-26T17:01:05.370499Z",
     "iopub.status.idle": "2025-06-26T17:01:07.393012Z",
     "shell.execute_reply": "2025-06-26T17:01:07.392269Z"
    },
    "papermill": {
     "duration": 2.028516,
     "end_time": "2025-06-26T17:01:07.394592",
     "exception": false,
     "start_time": "2025-06-26T17:01:05.366076",
     "status": "completed"
    },
    "tags": []
   },
   "outputs": [],
   "source": [
    "word_freq={}\n",
    "word2idx={}\n",
    "count_idx=1\n",
    "\n",
    "for token in tokens:\n",
    "    if token not in word2idx:\n",
    "        word2idx[token]=count_idx\n",
    "        word_freq[token]=1\n",
    "        count_idx+=1\n",
    "    else:\n",
    "        word_freq[token]+=1"
   ]
  },
  {
   "cell_type": "code",
   "execution_count": 9,
   "id": "1af910e7",
   "metadata": {
    "execution": {
     "iopub.execute_input": "2025-06-26T17:01:07.403402Z",
     "iopub.status.busy": "2025-06-26T17:01:07.402609Z",
     "iopub.status.idle": "2025-06-26T17:01:07.407398Z",
     "shell.execute_reply": "2025-06-26T17:01:07.406649Z"
    },
    "papermill": {
     "duration": 0.010321,
     "end_time": "2025-06-26T17:01:07.408604",
     "exception": false,
     "start_time": "2025-06-26T17:01:07.398283",
     "status": "completed"
    },
    "tags": []
   },
   "outputs": [
    {
     "name": "stdout",
     "output_type": "stream",
     "text": [
      "102299\n"
     ]
    }
   ],
   "source": [
    "print(len(word2idx))"
   ]
  },
  {
   "cell_type": "code",
   "execution_count": 10,
   "id": "338fb01b",
   "metadata": {
    "execution": {
     "iopub.execute_input": "2025-06-26T17:01:07.417635Z",
     "iopub.status.busy": "2025-06-26T17:01:07.416984Z",
     "iopub.status.idle": "2025-06-26T17:01:07.447278Z",
     "shell.execute_reply": "2025-06-26T17:01:07.446497Z"
    },
    "papermill": {
     "duration": 0.036349,
     "end_time": "2025-06-26T17:01:07.448673",
     "exception": false,
     "start_time": "2025-06-26T17:01:07.412324",
     "status": "completed"
    },
    "tags": []
   },
   "outputs": [],
   "source": [
    "idx2word={idx:word for word,idx in word2idx.items()}"
   ]
  },
  {
   "cell_type": "code",
   "execution_count": 11,
   "id": "faf2f629",
   "metadata": {
    "execution": {
     "iopub.execute_input": "2025-06-26T17:01:07.457486Z",
     "iopub.status.busy": "2025-06-26T17:01:07.456823Z",
     "iopub.status.idle": "2025-06-26T17:01:07.461398Z",
     "shell.execute_reply": "2025-06-26T17:01:07.460471Z"
    },
    "papermill": {
     "duration": 0.010298,
     "end_time": "2025-06-26T17:01:07.462762",
     "exception": false,
     "start_time": "2025-06-26T17:01:07.452464",
     "status": "completed"
    },
    "tags": []
   },
   "outputs": [
    {
     "name": "stdout",
     "output_type": "stream",
     "text": [
      "left\n"
     ]
    }
   ],
   "source": [
    "print(idx2word[100])"
   ]
  },
  {
   "cell_type": "code",
   "execution_count": 12,
   "id": "90babc64",
   "metadata": {
    "execution": {
     "iopub.execute_input": "2025-06-26T17:01:07.471221Z",
     "iopub.status.busy": "2025-06-26T17:01:07.470905Z",
     "iopub.status.idle": "2025-06-26T17:01:07.475443Z",
     "shell.execute_reply": "2025-06-26T17:01:07.474555Z"
    },
    "papermill": {
     "duration": 0.01049,
     "end_time": "2025-06-26T17:01:07.476861",
     "exception": false,
     "start_time": "2025-06-26T17:01:07.466371",
     "status": "completed"
    },
    "tags": []
   },
   "outputs": [
    {
     "name": "stdout",
     "output_type": "stream",
     "text": [
      "100\n"
     ]
    }
   ],
   "source": [
    "print(word2idx[\"left\"])"
   ]
  },
  {
   "cell_type": "markdown",
   "id": "f95dbd89",
   "metadata": {
    "papermill": {
     "duration": 0.003979,
     "end_time": "2025-06-26T17:01:07.484601",
     "exception": false,
     "start_time": "2025-06-26T17:01:07.480622",
     "status": "completed"
    },
    "tags": []
   },
   "source": [
    "## 3. Next up is Generating Train Pairs (word-context pairs)"
   ]
  },
  {
   "cell_type": "code",
   "execution_count": 13,
   "id": "e77c2621",
   "metadata": {
    "execution": {
     "iopub.execute_input": "2025-06-26T17:01:07.492925Z",
     "iopub.status.busy": "2025-06-26T17:01:07.492600Z",
     "iopub.status.idle": "2025-06-26T17:01:20.331165Z",
     "shell.execute_reply": "2025-06-26T17:01:20.330135Z"
    },
    "papermill": {
     "duration": 12.844785,
     "end_time": "2025-06-26T17:01:20.332909",
     "exception": false,
     "start_time": "2025-06-26T17:01:07.488124",
     "status": "completed"
    },
    "tags": []
   },
   "outputs": [],
   "source": [
    "window_size=2\n",
    "training_pairs=[]\n",
    "for i in range(len(tokens)):\n",
    "    start=i-window_size\n",
    "    stop=i+window_size+1\n",
    "    \n",
    "    for j in range(start,stop):\n",
    "        if j<0 or j==i or j>=len(tokens):\n",
    "            continue\n",
    "        training_pairs.append((tokens[i],tokens[j]))   "
   ]
  },
  {
   "cell_type": "code",
   "execution_count": 14,
   "id": "b8a24f6b",
   "metadata": {
    "execution": {
     "iopub.execute_input": "2025-06-26T17:01:20.341696Z",
     "iopub.status.busy": "2025-06-26T17:01:20.341403Z",
     "iopub.status.idle": "2025-06-26T17:01:20.346138Z",
     "shell.execute_reply": "2025-06-26T17:01:20.345120Z"
    },
    "papermill": {
     "duration": 0.010759,
     "end_time": "2025-06-26T17:01:20.347519",
     "exception": false,
     "start_time": "2025-06-26T17:01:20.336760",
     "status": "completed"
    },
    "tags": []
   },
   "outputs": [
    {
     "name": "stdout",
     "output_type": "stream",
     "text": [
      "[('a', 'bartender'), ('a', 'is'), ('bartender', 'a'), ('bartender', 'is'), ('bartender', 'working'), ('is', 'a'), ('is', 'bartender'), ('is', 'working'), ('is', 'at'), ('working', 'bartender'), ('working', 'is'), ('working', 'at'), ('working', 'a'), ('at', 'is'), ('at', 'working'), ('at', 'a'), ('at', 'saloon'), ('a', 'working'), ('a', 'at'), ('a', 'saloon'), ('a', 'serving'), ('saloon', 'at'), ('saloon', 'a'), ('saloon', 'serving'), ('saloon', 'drinks'), ('serving', 'a'), ('serving', 'saloon'), ('serving', 'drinks'), ('serving', 'to'), ('drinks', 'saloon'), ('drinks', 'serving'), ('drinks', 'to'), ('drinks', 'customers'), ('to', 'serving'), ('to', 'drinks'), ('to', 'customers'), ('to', 'after'), ('customers', 'drinks'), ('customers', 'to'), ('customers', 'after'), ('customers', 'he'), ('after', 'to'), ('after', 'customers'), ('after', 'he'), ('after', 'fills'), ('he', 'customers'), ('he', 'after'), ('he', 'fills'), ('he', 'a'), ('fills', 'after')]\n"
     ]
    }
   ],
   "source": [
    "print(training_pairs[:50])"
   ]
  }
 ],
 "metadata": {
  "kaggle": {
   "accelerator": "none",
   "dataSources": [
    {
     "datasetId": 64890,
     "sourceId": 127736,
     "sourceType": "datasetVersion"
    }
   ],
   "dockerImageVersionId": 31040,
   "isGpuEnabled": false,
   "isInternetEnabled": true,
   "language": "python",
   "sourceType": "notebook"
  },
  "kernelspec": {
   "display_name": "Python 3",
   "language": "python",
   "name": "python3"
  },
  "language_info": {
   "codemirror_mode": {
    "name": "ipython",
    "version": 3
   },
   "file_extension": ".py",
   "mimetype": "text/x-python",
   "name": "python",
   "nbconvert_exporter": "python",
   "pygments_lexer": "ipython3",
   "version": "3.11.11"
  },
  "papermill": {
   "default_parameters": {},
   "duration": 48.737446,
   "end_time": "2025-06-26T17:01:22.174669",
   "environment_variables": {},
   "exception": null,
   "input_path": "__notebook__.ipynb",
   "output_path": "__notebook__.ipynb",
   "parameters": {},
   "start_time": "2025-06-26T17:00:33.437223",
   "version": "2.6.0"
  }
 },
 "nbformat": 4,
 "nbformat_minor": 5
}
