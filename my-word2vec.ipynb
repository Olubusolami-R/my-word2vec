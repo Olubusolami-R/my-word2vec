{
 "cells": [
  {
   "cell_type": "code",
   "execution_count": 1,
   "id": "7663a217",
   "metadata": {
    "_cell_guid": "b1076dfc-b9ad-4769-8c92-a6c4dae69d19",
    "_uuid": "8f2839f25d086af736a60e9eeb907d3b93b6e0e5",
    "execution": {
     "iopub.execute_input": "2025-06-24T19:49:43.286144Z",
     "iopub.status.busy": "2025-06-24T19:49:43.285690Z",
     "iopub.status.idle": "2025-06-24T19:49:45.272395Z",
     "shell.execute_reply": "2025-06-24T19:49:45.271368Z"
    },
    "papermill": {
     "duration": 1.993405,
     "end_time": "2025-06-24T19:49:45.274238",
     "exception": false,
     "start_time": "2025-06-24T19:49:43.280833",
     "status": "completed"
    },
    "tags": []
   },
   "outputs": [
    {
     "name": "stdout",
     "output_type": "stream",
     "text": [
      "/kaggle/input/wikipedia-movie-plots/wiki_movie_plots_deduped.csv\n"
     ]
    }
   ],
   "source": [
    "import numpy as np # linear algebra\n",
    "import pandas as pd # data processing, CSV file I/O (e.g. pd.read_csv)\n",
    "\n",
    "import os\n",
    "for dirname, _, filenames in os.walk('/kaggle/input'):\n",
    "    for filename in filenames:\n",
    "        print(os.path.join(dirname, filename))"
   ]
  },
  {
   "cell_type": "code",
   "execution_count": 2,
   "id": "95a73ff5",
   "metadata": {
    "execution": {
     "iopub.execute_input": "2025-06-24T19:49:45.280429Z",
     "iopub.status.busy": "2025-06-24T19:49:45.279982Z",
     "iopub.status.idle": "2025-06-24T19:49:47.450252Z",
     "shell.execute_reply": "2025-06-24T19:49:47.449194Z"
    },
    "papermill": {
     "duration": 2.175191,
     "end_time": "2025-06-24T19:49:47.452038",
     "exception": false,
     "start_time": "2025-06-24T19:49:45.276847",
     "status": "completed"
    },
    "tags": []
   },
   "outputs": [],
   "source": [
    "df=pd.read_csv(\"/kaggle/input/wikipedia-movie-plots/wiki_movie_plots_deduped.csv\")"
   ]
  },
  {
   "cell_type": "code",
   "execution_count": 3,
   "id": "3ba23c1c",
   "metadata": {
    "execution": {
     "iopub.execute_input": "2025-06-24T19:49:47.457633Z",
     "iopub.status.busy": "2025-06-24T19:49:47.457220Z",
     "iopub.status.idle": "2025-06-24T19:49:47.503123Z",
     "shell.execute_reply": "2025-06-24T19:49:47.502086Z"
    },
    "papermill": {
     "duration": 0.050241,
     "end_time": "2025-06-24T19:49:47.504549",
     "exception": false,
     "start_time": "2025-06-24T19:49:47.454308",
     "status": "completed"
    },
    "tags": []
   },
   "outputs": [
    {
     "name": "stdout",
     "output_type": "stream",
     "text": [
      "<class 'pandas.core.frame.DataFrame'>\n",
      "RangeIndex: 34886 entries, 0 to 34885\n",
      "Data columns (total 8 columns):\n",
      " #   Column            Non-Null Count  Dtype \n",
      "---  ------            --------------  ----- \n",
      " 0   Release Year      34886 non-null  int64 \n",
      " 1   Title             34886 non-null  object\n",
      " 2   Origin/Ethnicity  34886 non-null  object\n",
      " 3   Director          34886 non-null  object\n",
      " 4   Cast              33464 non-null  object\n",
      " 5   Genre             34886 non-null  object\n",
      " 6   Wiki Page         34886 non-null  object\n",
      " 7   Plot              34886 non-null  object\n",
      "dtypes: int64(1), object(7)\n",
      "memory usage: 2.1+ MB\n"
     ]
    }
   ],
   "source": [
    "df.info()"
   ]
  },
  {
   "cell_type": "code",
   "execution_count": 4,
   "id": "96115e6a",
   "metadata": {
    "execution": {
     "iopub.execute_input": "2025-06-24T19:49:47.510301Z",
     "iopub.status.busy": "2025-06-24T19:49:47.509998Z",
     "iopub.status.idle": "2025-06-24T19:49:47.517962Z",
     "shell.execute_reply": "2025-06-24T19:49:47.516841Z"
    },
    "papermill": {
     "duration": 0.012861,
     "end_time": "2025-06-24T19:49:47.519678",
     "exception": false,
     "start_time": "2025-06-24T19:49:47.506817",
     "status": "completed"
    },
    "tags": []
   },
   "outputs": [
    {
     "data": {
      "text/plain": [
       "15000"
      ]
     },
     "execution_count": 4,
     "metadata": {},
     "output_type": "execute_result"
    }
   ],
   "source": [
    "corpus=df[\"Plot\"][:15000].to_list()\n",
    "len(corpus)"
   ]
  },
  {
   "cell_type": "code",
   "execution_count": null,
   "id": "18e0e149",
   "metadata": {
    "execution": {
     "iopub.execute_input": "2025-06-24T19:39:03.740136Z",
     "iopub.status.busy": "2025-06-24T19:39:03.739536Z",
     "iopub.status.idle": "2025-06-24T19:39:03.758510Z",
     "shell.execute_reply": "2025-06-24T19:39:03.756413Z",
     "shell.execute_reply.started": "2025-06-24T19:39:03.740095Z"
    },
    "papermill": {
     "duration": 0.00191,
     "end_time": "2025-06-24T19:49:47.524345",
     "exception": false,
     "start_time": "2025-06-24T19:49:47.522435",
     "status": "completed"
    },
    "tags": []
   },
   "outputs": [],
   "source": []
  },
  {
   "cell_type": "code",
   "execution_count": null,
   "id": "542b3f0a",
   "metadata": {
    "papermill": {
     "duration": 0.001785,
     "end_time": "2025-06-24T19:49:47.528285",
     "exception": false,
     "start_time": "2025-06-24T19:49:47.526500",
     "status": "completed"
    },
    "tags": []
   },
   "outputs": [],
   "source": []
  }
 ],
 "metadata": {
  "kaggle": {
   "accelerator": "none",
   "dataSources": [
    {
     "datasetId": 64890,
     "sourceId": 127736,
     "sourceType": "datasetVersion"
    }
   ],
   "dockerImageVersionId": 31040,
   "isGpuEnabled": false,
   "isInternetEnabled": true,
   "language": "python",
   "sourceType": "notebook"
  },
  "kernelspec": {
   "display_name": "Python 3",
   "language": "python",
   "name": "python3"
  },
  "language_info": {
   "codemirror_mode": {
    "name": "ipython",
    "version": 3
   },
   "file_extension": ".py",
   "mimetype": "text/x-python",
   "name": "python",
   "nbconvert_exporter": "python",
   "pygments_lexer": "ipython3",
   "version": "3.11.11"
  },
  "papermill": {
   "default_parameters": {},
   "duration": 9.89078,
   "end_time": "2025-06-24T19:49:48.051173",
   "environment_variables": {},
   "exception": null,
   "input_path": "__notebook__.ipynb",
   "output_path": "__notebook__.ipynb",
   "parameters": {},
   "start_time": "2025-06-24T19:49:38.160393",
   "version": "2.6.0"
  }
 },
 "nbformat": 4,
 "nbformat_minor": 5
}
