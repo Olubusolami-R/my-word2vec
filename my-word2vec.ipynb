{
 "cells": [
  {
   "cell_type": "code",
   "execution_count": 1,
   "id": "26511cc3",
   "metadata": {
    "_cell_guid": "b1076dfc-b9ad-4769-8c92-a6c4dae69d19",
    "_uuid": "8f2839f25d086af736a60e9eeb907d3b93b6e0e5",
    "execution": {
     "iopub.execute_input": "2025-07-03T11:52:04.870800Z",
     "iopub.status.busy": "2025-07-03T11:52:04.869993Z",
     "iopub.status.idle": "2025-07-03T11:52:06.890279Z",
     "shell.execute_reply": "2025-07-03T11:52:06.888676Z"
    },
    "papermill": {
     "duration": 2.030382,
     "end_time": "2025-07-03T11:52:06.892059",
     "exception": false,
     "start_time": "2025-07-03T11:52:04.861677",
     "status": "completed"
    },
    "tags": []
   },
   "outputs": [
    {
     "name": "stdout",
     "output_type": "stream",
     "text": [
      "/kaggle/input/wikipedia-movie-plots/wiki_movie_plots_deduped.csv\n"
     ]
    }
   ],
   "source": [
    "import numpy as np # linear algebra\n",
    "import pandas as pd # data processing, CSV file I/O (e.g. pd.read_csv)\n",
    "\n",
    "import os\n",
    "for dirname, _, filenames in os.walk('/kaggle/input'):\n",
    "    for filename in filenames:\n",
    "        print(os.path.join(dirname, filename))"
   ]
  },
  {
   "cell_type": "markdown",
   "id": "3c6dd7d3",
   "metadata": {
    "papermill": {
     "duration": 0.005748,
     "end_time": "2025-07-03T11:52:06.904437",
     "exception": false,
     "start_time": "2025-07-03T11:52:06.898689",
     "status": "completed"
    },
    "tags": []
   },
   "source": [
    "## 1. Extract the corpus: Movie Plots"
   ]
  },
  {
   "cell_type": "code",
   "execution_count": 2,
   "id": "b7646119",
   "metadata": {
    "execution": {
     "iopub.execute_input": "2025-07-03T11:52:06.917943Z",
     "iopub.status.busy": "2025-07-03T11:52:06.917522Z",
     "iopub.status.idle": "2025-07-03T11:52:09.399582Z",
     "shell.execute_reply": "2025-07-03T11:52:09.398253Z"
    },
    "papermill": {
     "duration": 2.491487,
     "end_time": "2025-07-03T11:52:09.401855",
     "exception": false,
     "start_time": "2025-07-03T11:52:06.910368",
     "status": "completed"
    },
    "tags": []
   },
   "outputs": [],
   "source": [
    "df=pd.read_csv(\"/kaggle/input/wikipedia-movie-plots/wiki_movie_plots_deduped.csv\")"
   ]
  },
  {
   "cell_type": "code",
   "execution_count": 3,
   "id": "204b9282",
   "metadata": {
    "execution": {
     "iopub.execute_input": "2025-07-03T11:52:09.415564Z",
     "iopub.status.busy": "2025-07-03T11:52:09.415172Z",
     "iopub.status.idle": "2025-07-03T11:52:09.467481Z",
     "shell.execute_reply": "2025-07-03T11:52:09.466160Z"
    },
    "papermill": {
     "duration": 0.061163,
     "end_time": "2025-07-03T11:52:09.469259",
     "exception": false,
     "start_time": "2025-07-03T11:52:09.408096",
     "status": "completed"
    },
    "tags": []
   },
   "outputs": [
    {
     "name": "stdout",
     "output_type": "stream",
     "text": [
      "<class 'pandas.core.frame.DataFrame'>\n",
      "RangeIndex: 34886 entries, 0 to 34885\n",
      "Data columns (total 8 columns):\n",
      " #   Column            Non-Null Count  Dtype \n",
      "---  ------            --------------  ----- \n",
      " 0   Release Year      34886 non-null  int64 \n",
      " 1   Title             34886 non-null  object\n",
      " 2   Origin/Ethnicity  34886 non-null  object\n",
      " 3   Director          34886 non-null  object\n",
      " 4   Cast              33464 non-null  object\n",
      " 5   Genre             34886 non-null  object\n",
      " 6   Wiki Page         34886 non-null  object\n",
      " 7   Plot              34886 non-null  object\n",
      "dtypes: int64(1), object(7)\n",
      "memory usage: 2.1+ MB\n"
     ]
    }
   ],
   "source": [
    "df.info()"
   ]
  },
  {
   "cell_type": "code",
   "execution_count": 4,
   "id": "068fc0e7",
   "metadata": {
    "execution": {
     "iopub.execute_input": "2025-07-03T11:52:09.483661Z",
     "iopub.status.busy": "2025-07-03T11:52:09.483333Z",
     "iopub.status.idle": "2025-07-03T11:52:09.491049Z",
     "shell.execute_reply": "2025-07-03T11:52:09.490110Z"
    },
    "papermill": {
     "duration": 0.01681,
     "end_time": "2025-07-03T11:52:09.492650",
     "exception": false,
     "start_time": "2025-07-03T11:52:09.475840",
     "status": "completed"
    },
    "tags": []
   },
   "outputs": [
    {
     "data": {
      "text/plain": [
       "'Lasting just 61 seconds and consisting of two shots, the first shot is set in a wood during winter. The actor representing then vice-president Theodore Roosevelt enthusiastically hurries down a hillside towards a tree in the foreground. He falls once, but rights himself and cocks his rifle. Two other men, bearing signs reading \"His Photographer\" and \"His Press Agent\" respectively, follow him into the shot; the photographer sets up his camera. \"Teddy\" aims his rifle upward at the tree and fells what appears to be a common house cat, which he then proceeds to stab. \"Teddy\" holds his prize aloft, and the press agent takes notes. The second shot is taken in a slightly different part of the wood, on a path. \"Teddy\" rides the path on his horse towards the camera and out to the left of the shot, followed closely by the press agent and photographer, still dutifully holding their signs.'"
      ]
     },
     "execution_count": 4,
     "metadata": {},
     "output_type": "execute_result"
    }
   ],
   "source": [
    "corpus=df[\"Plot\"][:1000].to_list()\n",
    "len(corpus)\n",
    "corpus[3]"
   ]
  },
  {
   "cell_type": "markdown",
   "id": "b2c05a4b",
   "metadata": {
    "papermill": {
     "duration": 0.006007,
     "end_time": "2025-07-03T11:52:09.505350",
     "exception": false,
     "start_time": "2025-07-03T11:52:09.499343",
     "status": "completed"
    },
    "tags": []
   },
   "source": [
    "## 2. Next up is Preprocessing/Cleaning"
   ]
  },
  {
   "cell_type": "markdown",
   "id": "32938a3a",
   "metadata": {
    "papermill": {
     "duration": 0.005986,
     "end_time": "2025-07-03T11:52:09.517539",
     "exception": false,
     "start_time": "2025-07-03T11:52:09.511553",
     "status": "completed"
    },
    "tags": []
   },
   "source": [
    "### Import the tokenizer"
   ]
  },
  {
   "cell_type": "code",
   "execution_count": 5,
   "id": "9761f93c",
   "metadata": {
    "execution": {
     "iopub.execute_input": "2025-07-03T11:52:09.531130Z",
     "iopub.status.busy": "2025-07-03T11:52:09.530839Z",
     "iopub.status.idle": "2025-07-03T11:52:12.013950Z",
     "shell.execute_reply": "2025-07-03T11:52:12.012968Z"
    },
    "papermill": {
     "duration": 2.492168,
     "end_time": "2025-07-03T11:52:12.015900",
     "exception": false,
     "start_time": "2025-07-03T11:52:09.523732",
     "status": "completed"
    },
    "tags": []
   },
   "outputs": [],
   "source": [
    "from nltk.tokenize import word_tokenize"
   ]
  },
  {
   "cell_type": "markdown",
   "id": "969facd8",
   "metadata": {
    "papermill": {
     "duration": 0.005744,
     "end_time": "2025-07-03T11:52:12.028289",
     "exception": false,
     "start_time": "2025-07-03T11:52:12.022545",
     "status": "completed"
    },
    "tags": []
   },
   "source": [
    "### Preprocess text (to lowercase, remove punctuations and tokenize"
   ]
  },
  {
   "cell_type": "code",
   "execution_count": 6,
   "id": "b25f7cfb",
   "metadata": {
    "execution": {
     "iopub.execute_input": "2025-07-03T11:52:12.041924Z",
     "iopub.status.busy": "2025-07-03T11:52:12.041494Z",
     "iopub.status.idle": "2025-07-03T11:52:12.836642Z",
     "shell.execute_reply": "2025-07-03T11:52:12.835644Z"
    },
    "papermill": {
     "duration": 0.803778,
     "end_time": "2025-07-03T11:52:12.838414",
     "exception": false,
     "start_time": "2025-07-03T11:52:12.034636",
     "status": "completed"
    },
    "tags": []
   },
   "outputs": [],
   "source": [
    "import string\n",
    "tokens=[]\n",
    "for i in range(len(corpus)):\n",
    "    temp=corpus[i].lower()\n",
    "    corpus[i]=''.join([char for char in temp if char not in string.punctuation])\n",
    "    tokens.extend(word_tokenize(corpus[i]))"
   ]
  },
  {
   "cell_type": "code",
   "execution_count": 7,
   "id": "10b6a75a",
   "metadata": {
    "execution": {
     "iopub.execute_input": "2025-07-03T11:52:12.851897Z",
     "iopub.status.busy": "2025-07-03T11:52:12.851549Z",
     "iopub.status.idle": "2025-07-03T11:52:12.857012Z",
     "shell.execute_reply": "2025-07-03T11:52:12.856224Z"
    },
    "papermill": {
     "duration": 0.013946,
     "end_time": "2025-07-03T11:52:12.858535",
     "exception": false,
     "start_time": "2025-07-03T11:52:12.844589",
     "status": "completed"
    },
    "tags": []
   },
   "outputs": [
    {
     "name": "stdout",
     "output_type": "stream",
     "text": [
      "220691\n"
     ]
    }
   ],
   "source": [
    "print(len(tokens))"
   ]
  },
  {
   "cell_type": "markdown",
   "id": "75fb60c5",
   "metadata": {
    "papermill": {
     "duration": 0.006155,
     "end_time": "2025-07-03T11:52:12.871372",
     "exception": false,
     "start_time": "2025-07-03T11:52:12.865217",
     "status": "completed"
    },
    "tags": []
   },
   "source": [
    "### Record word frequency and create word index"
   ]
  },
  {
   "cell_type": "code",
   "execution_count": 8,
   "id": "fdc037de",
   "metadata": {
    "execution": {
     "iopub.execute_input": "2025-07-03T11:52:12.885067Z",
     "iopub.status.busy": "2025-07-03T11:52:12.884705Z",
     "iopub.status.idle": "2025-07-03T11:52:12.958013Z",
     "shell.execute_reply": "2025-07-03T11:52:12.957081Z"
    },
    "papermill": {
     "duration": 0.082167,
     "end_time": "2025-07-03T11:52:12.959810",
     "exception": false,
     "start_time": "2025-07-03T11:52:12.877643",
     "status": "completed"
    },
    "tags": []
   },
   "outputs": [],
   "source": [
    "word_freq={}\n",
    "word2idx={}\n",
    "count_idx=0 #this was the source of the error sigh\n",
    "\n",
    "for token in tokens:\n",
    "    if token not in word2idx:\n",
    "        word2idx[token]=count_idx\n",
    "        word_freq[token]=1\n",
    "        count_idx+=1\n",
    "    else:\n",
    "        word_freq[token]+=1"
   ]
  },
  {
   "cell_type": "code",
   "execution_count": 9,
   "id": "8d74aeec",
   "metadata": {
    "execution": {
     "iopub.execute_input": "2025-07-03T11:52:12.974975Z",
     "iopub.status.busy": "2025-07-03T11:52:12.974616Z",
     "iopub.status.idle": "2025-07-03T11:52:12.979798Z",
     "shell.execute_reply": "2025-07-03T11:52:12.978734Z"
    },
    "papermill": {
     "duration": 0.014654,
     "end_time": "2025-07-03T11:52:12.981553",
     "exception": false,
     "start_time": "2025-07-03T11:52:12.966899",
     "status": "completed"
    },
    "tags": []
   },
   "outputs": [
    {
     "name": "stdout",
     "output_type": "stream",
     "text": [
      "17766\n"
     ]
    }
   ],
   "source": [
    "print(len(word2idx))"
   ]
  },
  {
   "cell_type": "code",
   "execution_count": 10,
   "id": "a288f919",
   "metadata": {
    "execution": {
     "iopub.execute_input": "2025-07-03T11:52:12.999356Z",
     "iopub.status.busy": "2025-07-03T11:52:12.998993Z",
     "iopub.status.idle": "2025-07-03T11:52:13.008231Z",
     "shell.execute_reply": "2025-07-03T11:52:13.007266Z"
    },
    "papermill": {
     "duration": 0.020431,
     "end_time": "2025-07-03T11:52:13.009731",
     "exception": false,
     "start_time": "2025-07-03T11:52:12.989300",
     "status": "completed"
    },
    "tags": []
   },
   "outputs": [],
   "source": [
    "idx2word={idx:word for word,idx in word2idx.items()}"
   ]
  },
  {
   "cell_type": "markdown",
   "id": "40df9718",
   "metadata": {
    "papermill": {
     "duration": 0.005876,
     "end_time": "2025-07-03T11:52:13.022226",
     "exception": false,
     "start_time": "2025-07-03T11:52:13.016350",
     "status": "completed"
    },
    "tags": []
   },
   "source": [
    "# trying to debug the bad context index error"
   ]
  },
  {
   "cell_type": "code",
   "execution_count": 11,
   "id": "5a38733b",
   "metadata": {
    "execution": {
     "iopub.execute_input": "2025-07-03T11:52:13.035675Z",
     "iopub.status.busy": "2025-07-03T11:52:13.035316Z",
     "iopub.status.idle": "2025-07-03T11:52:13.040370Z",
     "shell.execute_reply": "2025-07-03T11:52:13.039259Z"
    },
    "papermill": {
     "duration": 0.013485,
     "end_time": "2025-07-03T11:52:13.041735",
     "exception": false,
     "start_time": "2025-07-03T11:52:13.028250",
     "status": "completed"
    },
    "tags": []
   },
   "outputs": [
    {
     "name": "stdout",
     "output_type": "stream",
     "text": [
      "a\n"
     ]
    }
   ],
   "source": [
    "print(idx2word[0])"
   ]
  },
  {
   "cell_type": "markdown",
   "id": "ab06e8a2",
   "metadata": {
    "papermill": {
     "duration": 0.006025,
     "end_time": "2025-07-03T11:52:13.054828",
     "exception": false,
     "start_time": "2025-07-03T11:52:13.048803",
     "status": "completed"
    },
    "tags": []
   },
   "source": [
    "### Now I see that the range goes from 0 to 17766 and that vocab size is 17767. The problem was wrong vocab size. I started the index in word2idx from 1 not 0 but was requiring 0 in other places."
   ]
  },
  {
   "cell_type": "code",
   "execution_count": 12,
   "id": "972dde77",
   "metadata": {
    "execution": {
     "iopub.execute_input": "2025-07-03T11:52:13.068325Z",
     "iopub.status.busy": "2025-07-03T11:52:13.067962Z",
     "iopub.status.idle": "2025-07-03T11:52:13.072755Z",
     "shell.execute_reply": "2025-07-03T11:52:13.071936Z"
    },
    "papermill": {
     "duration": 0.013016,
     "end_time": "2025-07-03T11:52:13.074032",
     "exception": false,
     "start_time": "2025-07-03T11:52:13.061016",
     "status": "completed"
    },
    "tags": []
   },
   "outputs": [
    {
     "name": "stdout",
     "output_type": "stream",
     "text": [
      "17765\n"
     ]
    }
   ],
   "source": [
    "print(word2idx[\"mounties\"])"
   ]
  },
  {
   "cell_type": "markdown",
   "id": "38b81897",
   "metadata": {
    "papermill": {
     "duration": 0.005879,
     "end_time": "2025-07-03T11:52:13.086247",
     "exception": false,
     "start_time": "2025-07-03T11:52:13.080368",
     "status": "completed"
    },
    "tags": []
   },
   "source": [
    "### 3. Next up is Generating Train Pairs (word-context pairs)"
   ]
  },
  {
   "cell_type": "code",
   "execution_count": 13,
   "id": "038fb7f5",
   "metadata": {
    "execution": {
     "iopub.execute_input": "2025-07-03T11:52:13.100700Z",
     "iopub.status.busy": "2025-07-03T11:52:13.099917Z",
     "iopub.status.idle": "2025-07-03T11:52:13.618835Z",
     "shell.execute_reply": "2025-07-03T11:52:13.617780Z"
    },
    "papermill": {
     "duration": 0.528051,
     "end_time": "2025-07-03T11:52:13.620630",
     "exception": false,
     "start_time": "2025-07-03T11:52:13.092579",
     "status": "completed"
    },
    "tags": []
   },
   "outputs": [],
   "source": [
    "window_size=2\n",
    "training_pairs=[]\n",
    "for i in range(len(tokens)):\n",
    "    start=i-window_size\n",
    "    stop=i+window_size+1\n",
    "    \n",
    "    for j in range(start,stop):\n",
    "        if j<0 or j==i or j>=len(tokens):\n",
    "            continue\n",
    "        training_pairs.append((tokens[i],tokens[j]))   "
   ]
  },
  {
   "cell_type": "code",
   "execution_count": 14,
   "id": "69df63af",
   "metadata": {
    "execution": {
     "iopub.execute_input": "2025-07-03T11:52:13.635269Z",
     "iopub.status.busy": "2025-07-03T11:52:13.634887Z",
     "iopub.status.idle": "2025-07-03T11:52:13.640025Z",
     "shell.execute_reply": "2025-07-03T11:52:13.639270Z"
    },
    "papermill": {
     "duration": 0.014574,
     "end_time": "2025-07-03T11:52:13.641745",
     "exception": false,
     "start_time": "2025-07-03T11:52:13.627171",
     "status": "completed"
    },
    "tags": []
   },
   "outputs": [
    {
     "name": "stdout",
     "output_type": "stream",
     "text": [
      "[('a', 'bartender'), ('a', 'is'), ('bartender', 'a'), ('bartender', 'is'), ('bartender', 'working'), ('is', 'a'), ('is', 'bartender'), ('is', 'working'), ('is', 'at'), ('working', 'bartender'), ('working', 'is'), ('working', 'at'), ('working', 'a'), ('at', 'is'), ('at', 'working'), ('at', 'a'), ('at', 'saloon'), ('a', 'working'), ('a', 'at'), ('a', 'saloon'), ('a', 'serving'), ('saloon', 'at'), ('saloon', 'a'), ('saloon', 'serving'), ('saloon', 'drinks'), ('serving', 'a'), ('serving', 'saloon'), ('serving', 'drinks'), ('serving', 'to'), ('drinks', 'saloon'), ('drinks', 'serving'), ('drinks', 'to'), ('drinks', 'customers'), ('to', 'serving'), ('to', 'drinks'), ('to', 'customers'), ('to', 'after'), ('customers', 'drinks'), ('customers', 'to'), ('customers', 'after'), ('customers', 'he'), ('after', 'to'), ('after', 'customers'), ('after', 'he'), ('after', 'fills'), ('he', 'customers'), ('he', 'after'), ('he', 'fills'), ('he', 'a'), ('fills', 'after')]\n"
     ]
    }
   ],
   "source": [
    "print(training_pairs[:50])"
   ]
  },
  {
   "cell_type": "markdown",
   "id": "04342a73",
   "metadata": {
    "papermill": {
     "duration": 0.006294,
     "end_time": "2025-07-03T11:52:13.654715",
     "exception": false,
     "start_time": "2025-07-03T11:52:13.648421",
     "status": "completed"
    },
    "tags": []
   },
   "source": [
    "### 4. Next up is converting words to indices"
   ]
  },
  {
   "cell_type": "code",
   "execution_count": 15,
   "id": "c94482e2",
   "metadata": {
    "execution": {
     "iopub.execute_input": "2025-07-03T11:52:13.669591Z",
     "iopub.status.busy": "2025-07-03T11:52:13.668987Z",
     "iopub.status.idle": "2025-07-03T11:52:13.983167Z",
     "shell.execute_reply": "2025-07-03T11:52:13.982227Z"
    },
    "papermill": {
     "duration": 0.323489,
     "end_time": "2025-07-03T11:52:13.984911",
     "exception": false,
     "start_time": "2025-07-03T11:52:13.661422",
     "status": "completed"
    },
    "tags": []
   },
   "outputs": [],
   "source": [
    "training_data = []\n",
    "for tup in training_pairs:\n",
    "    training_data.append((word2idx[tup[0]],word2idx[tup[1]]))"
   ]
  },
  {
   "cell_type": "code",
   "execution_count": 16,
   "id": "3fef1b1b",
   "metadata": {
    "execution": {
     "iopub.execute_input": "2025-07-03T11:52:13.999289Z",
     "iopub.status.busy": "2025-07-03T11:52:13.998862Z",
     "iopub.status.idle": "2025-07-03T11:52:14.006452Z",
     "shell.execute_reply": "2025-07-03T11:52:14.005518Z"
    },
    "papermill": {
     "duration": 0.017019,
     "end_time": "2025-07-03T11:52:14.008526",
     "exception": false,
     "start_time": "2025-07-03T11:52:13.991507",
     "status": "completed"
    },
    "tags": []
   },
   "outputs": [
    {
     "data": {
      "text/plain": [
       "[(0, 1),\n",
       " (0, 2),\n",
       " (1, 0),\n",
       " (1, 2),\n",
       " (1, 3),\n",
       " (2, 0),\n",
       " (2, 1),\n",
       " (2, 3),\n",
       " (2, 4),\n",
       " (3, 1),\n",
       " (3, 2),\n",
       " (3, 4),\n",
       " (3, 0),\n",
       " (4, 2),\n",
       " (4, 3),\n",
       " (4, 0),\n",
       " (4, 5),\n",
       " (0, 3),\n",
       " (0, 4),\n",
       " (0, 5),\n",
       " (0, 6),\n",
       " (5, 4),\n",
       " (5, 0),\n",
       " (5, 6),\n",
       " (5, 7),\n",
       " (6, 0),\n",
       " (6, 5),\n",
       " (6, 7),\n",
       " (6, 8),\n",
       " (7, 5),\n",
       " (7, 6),\n",
       " (7, 8),\n",
       " (7, 9),\n",
       " (8, 6),\n",
       " (8, 7),\n",
       " (8, 9),\n",
       " (8, 10),\n",
       " (9, 7),\n",
       " (9, 8),\n",
       " (9, 10),\n",
       " (9, 11),\n",
       " (10, 8),\n",
       " (10, 9),\n",
       " (10, 11),\n",
       " (10, 12),\n",
       " (11, 9),\n",
       " (11, 10),\n",
       " (11, 12),\n",
       " (11, 0),\n",
       " (12, 10)]"
      ]
     },
     "execution_count": 16,
     "metadata": {},
     "output_type": "execute_result"
    }
   ],
   "source": [
    "training_data[:50]"
   ]
  },
  {
   "cell_type": "code",
   "execution_count": 17,
   "id": "0e459373",
   "metadata": {
    "execution": {
     "iopub.execute_input": "2025-07-03T11:52:14.024230Z",
     "iopub.status.busy": "2025-07-03T11:52:14.023867Z",
     "iopub.status.idle": "2025-07-03T11:52:14.029286Z",
     "shell.execute_reply": "2025-07-03T11:52:14.028407Z"
    },
    "papermill": {
     "duration": 0.014555,
     "end_time": "2025-07-03T11:52:14.030683",
     "exception": false,
     "start_time": "2025-07-03T11:52:14.016128",
     "status": "completed"
    },
    "tags": []
   },
   "outputs": [
    {
     "data": {
      "text/plain": [
       "10"
      ]
     },
     "execution_count": 17,
     "metadata": {},
     "output_type": "execute_result"
    }
   ],
   "source": [
    "word2idx[\"after\"]"
   ]
  },
  {
   "cell_type": "code",
   "execution_count": 18,
   "id": "b85fb11c",
   "metadata": {
    "execution": {
     "iopub.execute_input": "2025-07-03T11:52:14.045253Z",
     "iopub.status.busy": "2025-07-03T11:52:14.044929Z",
     "iopub.status.idle": "2025-07-03T11:52:14.050707Z",
     "shell.execute_reply": "2025-07-03T11:52:14.049781Z"
    },
    "papermill": {
     "duration": 0.014692,
     "end_time": "2025-07-03T11:52:14.052321",
     "exception": false,
     "start_time": "2025-07-03T11:52:14.037629",
     "status": "completed"
    },
    "tags": []
   },
   "outputs": [
    {
     "data": {
      "text/plain": [
       "'hidden'"
      ]
     },
     "execution_count": 18,
     "metadata": {},
     "output_type": "execute_result"
    }
   ],
   "source": [
    "idx2word[121]"
   ]
  },
  {
   "cell_type": "code",
   "execution_count": 19,
   "id": "4074806e",
   "metadata": {
    "execution": {
     "iopub.execute_input": "2025-07-03T11:52:14.067907Z",
     "iopub.status.busy": "2025-07-03T11:52:14.067555Z",
     "iopub.status.idle": "2025-07-03T11:52:14.073031Z",
     "shell.execute_reply": "2025-07-03T11:52:14.071744Z"
    },
    "papermill": {
     "duration": 0.014943,
     "end_time": "2025-07-03T11:52:14.074541",
     "exception": false,
     "start_time": "2025-07-03T11:52:14.059598",
     "status": "completed"
    },
    "tags": []
   },
   "outputs": [
    {
     "name": "stdout",
     "output_type": "stream",
     "text": [
      "17766\n"
     ]
    }
   ],
   "source": [
    "vocab_size=len(word2idx) #number of unique words in the corpus\n",
    "print(vocab_size)\n",
    "embedding_dim=100 #a usual value for Word2Vec"
   ]
  },
  {
   "cell_type": "code",
   "execution_count": 20,
   "id": "fd7b4c8f",
   "metadata": {
    "execution": {
     "iopub.execute_input": "2025-07-03T11:52:14.090142Z",
     "iopub.status.busy": "2025-07-03T11:52:14.089147Z",
     "iopub.status.idle": "2025-07-03T11:52:19.659263Z",
     "shell.execute_reply": "2025-07-03T11:52:19.658252Z"
    },
    "papermill": {
     "duration": 5.579478,
     "end_time": "2025-07-03T11:52:19.660854",
     "exception": false,
     "start_time": "2025-07-03T11:52:14.081376",
     "status": "completed"
    },
    "tags": []
   },
   "outputs": [],
   "source": [
    "import torch"
   ]
  },
  {
   "cell_type": "markdown",
   "id": "96b1289e",
   "metadata": {
    "papermill": {
     "duration": 0.006251,
     "end_time": "2025-07-03T11:52:19.674031",
     "exception": false,
     "start_time": "2025-07-03T11:52:19.667780",
     "status": "completed"
    },
    "tags": []
   },
   "source": [
    "### Define the Embedding Layers and Word2Vec Class"
   ]
  },
  {
   "cell_type": "code",
   "execution_count": 21,
   "id": "2b342ea9",
   "metadata": {
    "execution": {
     "iopub.execute_input": "2025-07-03T11:52:19.688490Z",
     "iopub.status.busy": "2025-07-03T11:52:19.688006Z",
     "iopub.status.idle": "2025-07-03T11:52:19.761307Z",
     "shell.execute_reply": "2025-07-03T11:52:19.760308Z"
    },
    "papermill": {
     "duration": 0.082292,
     "end_time": "2025-07-03T11:52:19.762907",
     "exception": false,
     "start_time": "2025-07-03T11:52:19.680615",
     "status": "completed"
    },
    "tags": []
   },
   "outputs": [],
   "source": [
    "W_in=torch.nn.Embedding(vocab_size,embedding_dim)\n",
    "W_out=torch.nn.Embedding(vocab_size,embedding_dim)"
   ]
  },
  {
   "cell_type": "markdown",
   "id": "532b97b2",
   "metadata": {
    "papermill": {
     "duration": 0.006485,
     "end_time": "2025-07-03T11:52:19.776161",
     "exception": false,
     "start_time": "2025-07-03T11:52:19.769676",
     "status": "completed"
    },
    "tags": []
   },
   "source": [
    "**Quick note: 1. Just learnt that if I don't feed in the indices in batch and instead try to loop through each one, it'll be too slow. 2. Also learnt the purpose of forward() in a pytorch class - it is the brain that handles input.**"
   ]
  },
  {
   "cell_type": "code",
   "execution_count": 22,
   "id": "c9d256ec",
   "metadata": {
    "execution": {
     "iopub.execute_input": "2025-07-03T11:52:19.791369Z",
     "iopub.status.busy": "2025-07-03T11:52:19.790324Z",
     "iopub.status.idle": "2025-07-03T11:52:19.796428Z",
     "shell.execute_reply": "2025-07-03T11:52:19.795432Z"
    },
    "papermill": {
     "duration": 0.015219,
     "end_time": "2025-07-03T11:52:19.797980",
     "exception": false,
     "start_time": "2025-07-03T11:52:19.782761",
     "status": "completed"
    },
    "tags": []
   },
   "outputs": [],
   "source": [
    "class Word2Vec(torch.nn.Module):\n",
    "    def __init__(self, vocab_size, embedding_dim):\n",
    "        super().__init__()\n",
    "        self.in_embed = torch.nn.Embedding(vocab_size, embedding_dim)\n",
    "        self.out_embed = torch.nn.Embedding(vocab_size, embedding_dim)\n",
    "        \n",
    "    def forward(self,centre_idx, context_idx):\n",
    "        centre_vector=self.in_embed(centre_idx)\n",
    "        context_vector=self.out_embed(context_idx)\n",
    "        dot_products = torch.sum(centre_vector * context_vector, dim=1)\n",
    "        return dot_products\n",
    "        # torch.dot only works for 1D vectors not batches\n",
    "        # The dot product is the true measure of if the vectors capture the closeness of the words they represent.\n",
    "        # Seeing as we're starting with random values, the predictions will start poor and over time will be adjusted through training. Interesting."
   ]
  },
  {
   "cell_type": "markdown",
   "id": "a6f7fd5e",
   "metadata": {
    "papermill": {
     "duration": 0.006545,
     "end_time": "2025-07-03T11:52:19.811689",
     "exception": false,
     "start_time": "2025-07-03T11:52:19.805144",
     "status": "completed"
    },
    "tags": []
   },
   "source": [
    "### Adding negative sampling to the training data"
   ]
  },
  {
   "cell_type": "code",
   "execution_count": 23,
   "id": "e50dd397",
   "metadata": {
    "execution": {
     "iopub.execute_input": "2025-07-03T11:52:19.892807Z",
     "iopub.status.busy": "2025-07-03T11:52:19.892492Z",
     "iopub.status.idle": "2025-07-03T11:52:19.898305Z",
     "shell.execute_reply": "2025-07-03T11:52:19.897580Z"
    },
    "papermill": {
     "duration": 0.015198,
     "end_time": "2025-07-03T11:52:19.899753",
     "exception": false,
     "start_time": "2025-07-03T11:52:19.884555",
     "status": "completed"
    },
    "tags": []
   },
   "outputs": [
    {
     "data": {
      "text/plain": [
       "(1744, 8811)"
      ]
     },
     "execution_count": 23,
     "metadata": {},
     "output_type": "execute_result"
    }
   ],
   "source": [
    "import random\n",
    "random.sample(training_data,1)[0]"
   ]
  },
  {
   "cell_type": "code",
   "execution_count": 24,
   "id": "dd91be5c",
   "metadata": {
    "execution": {
     "iopub.execute_input": "2025-07-03T11:52:19.914589Z",
     "iopub.status.busy": "2025-07-03T11:52:19.914271Z",
     "iopub.status.idle": "2025-07-03T11:52:19.920738Z",
     "shell.execute_reply": "2025-07-03T11:52:19.919954Z"
    },
    "papermill": {
     "duration": 0.015512,
     "end_time": "2025-07-03T11:52:19.922095",
     "exception": false,
     "start_time": "2025-07-03T11:52:19.906583",
     "status": "completed"
    },
    "tags": []
   },
   "outputs": [],
   "source": [
    "k=5\n",
    "\n",
    "def prepare_batch_with_negatives(batch_data, k, vocab_size):\n",
    "    centre_indices=[]\n",
    "    context_indices=[]\n",
    "    labels=[]\n",
    "    for centre_idx, context_idx in batch_data:\n",
    "        centre_indices.append(centre_idx)\n",
    "        context_indices.append(context_idx)\n",
    "        labels.append(1)\n",
    "        \n",
    "        for nve_sample in range(k):\n",
    "            negative_idx = random.randint(0, vocab_size - 1)\n",
    "            while negative_idx == context_idx:\n",
    "                negative_idx = random.randint(0, vocab_size - 1)\n",
    "            centre_indices.append(centre_idx)\n",
    "            context_indices.append(negative_idx)\n",
    "            labels.append(0)\n",
    "            \n",
    "    centre_tensor = torch.tensor(centre_indices, dtype=torch.long)\n",
    "    context_tensor = torch.tensor(context_indices, dtype=torch.long)\n",
    "    label_tensor   = torch.tensor(labels, dtype=torch.float)\n",
    "    return centre_tensor, context_tensor, label_tensor"
   ]
  },
  {
   "cell_type": "code",
   "execution_count": 25,
   "id": "75809640",
   "metadata": {
    "execution": {
     "iopub.execute_input": "2025-07-03T11:52:19.937481Z",
     "iopub.status.busy": "2025-07-03T11:52:19.937099Z",
     "iopub.status.idle": "2025-07-03T11:52:19.979745Z",
     "shell.execute_reply": "2025-07-03T11:52:19.978705Z"
    },
    "papermill": {
     "duration": 0.052223,
     "end_time": "2025-07-03T11:52:19.981571",
     "exception": false,
     "start_time": "2025-07-03T11:52:19.929348",
     "status": "completed"
    },
    "tags": []
   },
   "outputs": [],
   "source": [
    "model = Word2Vec(vocab_size, embedding_dim)"
   ]
  },
  {
   "cell_type": "code",
   "execution_count": 26,
   "id": "95bd702c",
   "metadata": {
    "execution": {
     "iopub.execute_input": "2025-07-03T11:52:19.997751Z",
     "iopub.status.busy": "2025-07-03T11:52:19.997015Z",
     "iopub.status.idle": "2025-07-03T11:52:26.036785Z",
     "shell.execute_reply": "2025-07-03T11:52:26.035770Z"
    },
    "papermill": {
     "duration": 6.049702,
     "end_time": "2025-07-03T11:52:26.038742",
     "exception": false,
     "start_time": "2025-07-03T11:52:19.989040",
     "status": "completed"
    },
    "tags": []
   },
   "outputs": [],
   "source": [
    "optimizer = torch.optim.SGD(model.parameters(), lr=0.001)\n",
    "loss_fn = torch.nn.BCELoss()"
   ]
  },
  {
   "cell_type": "code",
   "execution_count": 27,
   "id": "3c604de2",
   "metadata": {
    "execution": {
     "iopub.execute_input": "2025-07-03T11:52:26.054515Z",
     "iopub.status.busy": "2025-07-03T11:52:26.053589Z",
     "iopub.status.idle": "2025-07-03T12:01:44.898748Z",
     "shell.execute_reply": "2025-07-03T12:01:44.897632Z"
    },
    "papermill": {
     "duration": 558.862468,
     "end_time": "2025-07-03T12:01:44.908336",
     "exception": false,
     "start_time": "2025-07-03T11:52:26.045868",
     "status": "completed"
    },
    "tags": []
   },
   "outputs": [
    {
     "name": "stdout",
     "output_type": "stream",
     "text": [
      "Epoch 1, Loss: 6.5630\n",
      "Epoch 1, Loss: 7.0186\n",
      "Epoch 2, Loss: 6.4595\n",
      "Epoch 2, Loss: 13.9999\n",
      "Epoch 3, Loss: 8.7188\n",
      "Epoch 3, Loss: 20.9329\n",
      "Epoch 4, Loss: 8.2759\n",
      "Epoch 4, Loss: 27.8285\n",
      "Epoch 5, Loss: 6.7065\n",
      "Epoch 5, Loss: 34.6710\n"
     ]
    }
   ],
   "source": [
    "num_epochs=5\n",
    "batch_size=100\n",
    "total_loss=0\n",
    "for epoch in range(num_epochs):\n",
    "    random.shuffle(training_data)\n",
    "\n",
    "    for i in range(0, len(training_data), batch_size):\n",
    "        batch_data = training_data[i : i + batch_size]\n",
    "        \n",
    "        for center_idx, context_idx in batch_data:\n",
    "            assert center_idx < vocab_size, f\"Bad center_idx: {center_idx}\"\n",
    "            assert context_idx < vocab_size, f\"Bad context_idx: {context_idx}\"\n",
    "            \n",
    "        center_tensor, context_tensor, label_tensor = prepare_batch_with_negatives(batch_data, k, vocab_size)\n",
    "        # print(center_tensor.max(), context_tensor.max(), vocab_size)\n",
    "        # Forward pass\n",
    "        dot_products = model(center_tensor, context_tensor)\n",
    "        predictions = torch.sigmoid(dot_products)\n",
    "\n",
    "        # Compute loss\n",
    "        loss = loss_fn(predictions, label_tensor)\n",
    "        total_loss += loss.item()\n",
    "        # Backprop\n",
    "        optimizer.zero_grad()\n",
    "        loss.backward()\n",
    "        optimizer.step()\n",
    "\n",
    "    print(f\"Epoch {epoch+1}, Loss: {loss.item():.4f}\")\n",
    "    print(f\"Epoch {epoch+1}, Loss: {total_loss / (len(training_data) // batch_size):.4f}\")"
   ]
  },
  {
   "cell_type": "code",
   "execution_count": null,
   "id": "691cf99b",
   "metadata": {
    "papermill": {
     "duration": 0.006646,
     "end_time": "2025-07-03T12:01:44.923091",
     "exception": false,
     "start_time": "2025-07-03T12:01:44.916445",
     "status": "completed"
    },
    "tags": []
   },
   "outputs": [],
   "source": []
  }
 ],
 "metadata": {
  "kaggle": {
   "accelerator": "none",
   "dataSources": [
    {
     "datasetId": 64890,
     "sourceId": 127736,
     "sourceType": "datasetVersion"
    }
   ],
   "dockerImageVersionId": 31040,
   "isGpuEnabled": false,
   "isInternetEnabled": true,
   "language": "python",
   "sourceType": "notebook"
  },
  "kernelspec": {
   "display_name": "Python 3",
   "language": "python",
   "name": "python3"
  },
  "language_info": {
   "codemirror_mode": {
    "name": "ipython",
    "version": 3
   },
   "file_extension": ".py",
   "mimetype": "text/x-python",
   "name": "python",
   "nbconvert_exporter": "python",
   "pygments_lexer": "ipython3",
   "version": "3.11.11"
  },
  "papermill": {
   "default_parameters": {},
   "duration": 588.553901,
   "end_time": "2025-07-03T12:01:48.267449",
   "environment_variables": {},
   "exception": null,
   "input_path": "__notebook__.ipynb",
   "output_path": "__notebook__.ipynb",
   "parameters": {},
   "start_time": "2025-07-03T11:51:59.713548",
   "version": "2.6.0"
  }
 },
 "nbformat": 4,
 "nbformat_minor": 5
}
