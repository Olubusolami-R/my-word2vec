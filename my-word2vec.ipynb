{
 "cells": [
  {
   "cell_type": "code",
   "execution_count": 1,
   "id": "b6546108",
   "metadata": {
    "_cell_guid": "b1076dfc-b9ad-4769-8c92-a6c4dae69d19",
    "_uuid": "8f2839f25d086af736a60e9eeb907d3b93b6e0e5",
    "execution": {
     "iopub.execute_input": "2025-06-29T00:09:50.939170Z",
     "iopub.status.busy": "2025-06-29T00:09:50.937957Z",
     "iopub.status.idle": "2025-06-29T00:09:53.151761Z",
     "shell.execute_reply": "2025-06-29T00:09:53.150685Z"
    },
    "papermill": {
     "duration": 2.224417,
     "end_time": "2025-06-29T00:09:53.154025",
     "exception": false,
     "start_time": "2025-06-29T00:09:50.929608",
     "status": "completed"
    },
    "tags": []
   },
   "outputs": [
    {
     "name": "stdout",
     "output_type": "stream",
     "text": [
      "/kaggle/input/wikipedia-movie-plots/wiki_movie_plots_deduped.csv\n"
     ]
    }
   ],
   "source": [
    "import numpy as np # linear algebra\n",
    "import pandas as pd # data processing, CSV file I/O (e.g. pd.read_csv)\n",
    "\n",
    "import os\n",
    "for dirname, _, filenames in os.walk('/kaggle/input'):\n",
    "    for filename in filenames:\n",
    "        print(os.path.join(dirname, filename))"
   ]
  },
  {
   "cell_type": "markdown",
   "id": "8bca5a32",
   "metadata": {
    "papermill": {
     "duration": 0.008587,
     "end_time": "2025-06-29T00:09:53.169348",
     "exception": false,
     "start_time": "2025-06-29T00:09:53.160761",
     "status": "completed"
    },
    "tags": []
   },
   "source": [
    "## 1. Extract the corpus: Movie Plots"
   ]
  },
  {
   "cell_type": "code",
   "execution_count": 2,
   "id": "058fbb78",
   "metadata": {
    "execution": {
     "iopub.execute_input": "2025-06-29T00:09:53.187819Z",
     "iopub.status.busy": "2025-06-29T00:09:53.187084Z",
     "iopub.status.idle": "2025-06-29T00:09:55.918454Z",
     "shell.execute_reply": "2025-06-29T00:09:55.917333Z"
    },
    "papermill": {
     "duration": 2.742643,
     "end_time": "2025-06-29T00:09:55.920591",
     "exception": false,
     "start_time": "2025-06-29T00:09:53.177948",
     "status": "completed"
    },
    "tags": []
   },
   "outputs": [],
   "source": [
    "df=pd.read_csv(\"/kaggle/input/wikipedia-movie-plots/wiki_movie_plots_deduped.csv\")"
   ]
  },
  {
   "cell_type": "code",
   "execution_count": 3,
   "id": "e3cc633a",
   "metadata": {
    "execution": {
     "iopub.execute_input": "2025-06-29T00:09:55.933078Z",
     "iopub.status.busy": "2025-06-29T00:09:55.932763Z",
     "iopub.status.idle": "2025-06-29T00:09:55.983091Z",
     "shell.execute_reply": "2025-06-29T00:09:55.982131Z"
    },
    "papermill": {
     "duration": 0.058727,
     "end_time": "2025-06-29T00:09:55.985068",
     "exception": false,
     "start_time": "2025-06-29T00:09:55.926341",
     "status": "completed"
    },
    "tags": []
   },
   "outputs": [
    {
     "name": "stdout",
     "output_type": "stream",
     "text": [
      "<class 'pandas.core.frame.DataFrame'>\n",
      "RangeIndex: 34886 entries, 0 to 34885\n",
      "Data columns (total 8 columns):\n",
      " #   Column            Non-Null Count  Dtype \n",
      "---  ------            --------------  ----- \n",
      " 0   Release Year      34886 non-null  int64 \n",
      " 1   Title             34886 non-null  object\n",
      " 2   Origin/Ethnicity  34886 non-null  object\n",
      " 3   Director          34886 non-null  object\n",
      " 4   Cast              33464 non-null  object\n",
      " 5   Genre             34886 non-null  object\n",
      " 6   Wiki Page         34886 non-null  object\n",
      " 7   Plot              34886 non-null  object\n",
      "dtypes: int64(1), object(7)\n",
      "memory usage: 2.1+ MB\n"
     ]
    }
   ],
   "source": [
    "df.info()"
   ]
  },
  {
   "cell_type": "code",
   "execution_count": 4,
   "id": "72bfffa8",
   "metadata": {
    "execution": {
     "iopub.execute_input": "2025-06-29T00:09:55.999194Z",
     "iopub.status.busy": "2025-06-29T00:09:55.998873Z",
     "iopub.status.idle": "2025-06-29T00:09:56.007657Z",
     "shell.execute_reply": "2025-06-29T00:09:56.006584Z"
    },
    "papermill": {
     "duration": 0.017898,
     "end_time": "2025-06-29T00:09:56.009303",
     "exception": false,
     "start_time": "2025-06-29T00:09:55.991405",
     "status": "completed"
    },
    "tags": []
   },
   "outputs": [
    {
     "data": {
      "text/plain": [
       "'Lasting just 61 seconds and consisting of two shots, the first shot is set in a wood during winter. The actor representing then vice-president Theodore Roosevelt enthusiastically hurries down a hillside towards a tree in the foreground. He falls once, but rights himself and cocks his rifle. Two other men, bearing signs reading \"His Photographer\" and \"His Press Agent\" respectively, follow him into the shot; the photographer sets up his camera. \"Teddy\" aims his rifle upward at the tree and fells what appears to be a common house cat, which he then proceeds to stab. \"Teddy\" holds his prize aloft, and the press agent takes notes. The second shot is taken in a slightly different part of the wood, on a path. \"Teddy\" rides the path on his horse towards the camera and out to the left of the shot, followed closely by the press agent and photographer, still dutifully holding their signs.'"
      ]
     },
     "execution_count": 4,
     "metadata": {},
     "output_type": "execute_result"
    }
   ],
   "source": [
    "corpus=df[\"Plot\"][:15000].to_list()\n",
    "len(corpus)\n",
    "corpus[3]"
   ]
  },
  {
   "cell_type": "markdown",
   "id": "93312efb",
   "metadata": {
    "papermill": {
     "duration": 0.0053,
     "end_time": "2025-06-29T00:09:56.020307",
     "exception": false,
     "start_time": "2025-06-29T00:09:56.015007",
     "status": "completed"
    },
    "tags": []
   },
   "source": [
    "## 2. Next up is Preprocessing/Cleaning"
   ]
  },
  {
   "cell_type": "markdown",
   "id": "8cab479a",
   "metadata": {
    "papermill": {
     "duration": 0.005157,
     "end_time": "2025-06-29T00:09:56.031003",
     "exception": false,
     "start_time": "2025-06-29T00:09:56.025846",
     "status": "completed"
    },
    "tags": []
   },
   "source": [
    "### Import the tokenizer"
   ]
  },
  {
   "cell_type": "code",
   "execution_count": 5,
   "id": "38535b7d",
   "metadata": {
    "execution": {
     "iopub.execute_input": "2025-06-29T00:09:56.044318Z",
     "iopub.status.busy": "2025-06-29T00:09:56.043902Z",
     "iopub.status.idle": "2025-06-29T00:09:58.496474Z",
     "shell.execute_reply": "2025-06-29T00:09:58.495194Z"
    },
    "papermill": {
     "duration": 2.461811,
     "end_time": "2025-06-29T00:09:58.498376",
     "exception": false,
     "start_time": "2025-06-29T00:09:56.036565",
     "status": "completed"
    },
    "tags": []
   },
   "outputs": [],
   "source": [
    "from nltk.tokenize import word_tokenize"
   ]
  },
  {
   "cell_type": "markdown",
   "id": "199bd131",
   "metadata": {
    "papermill": {
     "duration": 0.005368,
     "end_time": "2025-06-29T00:09:58.509450",
     "exception": false,
     "start_time": "2025-06-29T00:09:58.504082",
     "status": "completed"
    },
    "tags": []
   },
   "source": [
    "### Preprocess text (to lowercase, remove punctuations and tokenize"
   ]
  },
  {
   "cell_type": "code",
   "execution_count": 6,
   "id": "0bccd619",
   "metadata": {
    "execution": {
     "iopub.execute_input": "2025-06-29T00:09:58.523400Z",
     "iopub.status.busy": "2025-06-29T00:09:58.522218Z",
     "iopub.status.idle": "2025-06-29T00:10:18.885208Z",
     "shell.execute_reply": "2025-06-29T00:10:18.884098Z"
    },
    "papermill": {
     "duration": 20.372221,
     "end_time": "2025-06-29T00:10:18.887100",
     "exception": false,
     "start_time": "2025-06-29T00:09:58.514879",
     "status": "completed"
    },
    "tags": []
   },
   "outputs": [],
   "source": [
    "import string\n",
    "tokens=[]\n",
    "for i in range(len(corpus)):\n",
    "    temp=corpus[i].lower()\n",
    "    corpus[i]=''.join([char for char in temp if char not in string.punctuation])\n",
    "    tokens.extend(word_tokenize(corpus[i]))"
   ]
  },
  {
   "cell_type": "code",
   "execution_count": 7,
   "id": "aee3d97c",
   "metadata": {
    "execution": {
     "iopub.execute_input": "2025-06-29T00:10:18.900429Z",
     "iopub.status.busy": "2025-06-29T00:10:18.900053Z",
     "iopub.status.idle": "2025-06-29T00:10:18.905580Z",
     "shell.execute_reply": "2025-06-29T00:10:18.904488Z"
    },
    "papermill": {
     "duration": 0.014244,
     "end_time": "2025-06-29T00:10:18.907667",
     "exception": false,
     "start_time": "2025-06-29T00:10:18.893423",
     "status": "completed"
    },
    "tags": []
   },
   "outputs": [
    {
     "name": "stdout",
     "output_type": "stream",
     "text": [
      "5887100\n"
     ]
    }
   ],
   "source": [
    "print(len(tokens))"
   ]
  },
  {
   "cell_type": "markdown",
   "id": "dc5a0328",
   "metadata": {
    "papermill": {
     "duration": 0.005843,
     "end_time": "2025-06-29T00:10:18.919624",
     "exception": false,
     "start_time": "2025-06-29T00:10:18.913781",
     "status": "completed"
    },
    "tags": []
   },
   "source": [
    "### Record word frequency and create word index"
   ]
  },
  {
   "cell_type": "code",
   "execution_count": 8,
   "id": "5bea1e18",
   "metadata": {
    "execution": {
     "iopub.execute_input": "2025-06-29T00:10:18.932686Z",
     "iopub.status.busy": "2025-06-29T00:10:18.932319Z",
     "iopub.status.idle": "2025-06-29T00:10:21.325145Z",
     "shell.execute_reply": "2025-06-29T00:10:21.324038Z"
    },
    "papermill": {
     "duration": 2.401561,
     "end_time": "2025-06-29T00:10:21.327155",
     "exception": false,
     "start_time": "2025-06-29T00:10:18.925594",
     "status": "completed"
    },
    "tags": []
   },
   "outputs": [],
   "source": [
    "word_freq={}\n",
    "word2idx={}\n",
    "count_idx=1\n",
    "\n",
    "for token in tokens:\n",
    "    if token not in word2idx:\n",
    "        word2idx[token]=count_idx\n",
    "        word_freq[token]=1\n",
    "        count_idx+=1\n",
    "    else:\n",
    "        word_freq[token]+=1"
   ]
  },
  {
   "cell_type": "code",
   "execution_count": 9,
   "id": "fb31284c",
   "metadata": {
    "execution": {
     "iopub.execute_input": "2025-06-29T00:10:21.340610Z",
     "iopub.status.busy": "2025-06-29T00:10:21.340167Z",
     "iopub.status.idle": "2025-06-29T00:10:21.346299Z",
     "shell.execute_reply": "2025-06-29T00:10:21.345132Z"
    },
    "papermill": {
     "duration": 0.014928,
     "end_time": "2025-06-29T00:10:21.348105",
     "exception": false,
     "start_time": "2025-06-29T00:10:21.333177",
     "status": "completed"
    },
    "tags": []
   },
   "outputs": [
    {
     "name": "stdout",
     "output_type": "stream",
     "text": [
      "102299\n"
     ]
    }
   ],
   "source": [
    "print(len(word2idx))"
   ]
  },
  {
   "cell_type": "code",
   "execution_count": 10,
   "id": "95614fce",
   "metadata": {
    "execution": {
     "iopub.execute_input": "2025-06-29T00:10:21.361298Z",
     "iopub.status.busy": "2025-06-29T00:10:21.360928Z",
     "iopub.status.idle": "2025-06-29T00:10:21.397638Z",
     "shell.execute_reply": "2025-06-29T00:10:21.396598Z"
    },
    "papermill": {
     "duration": 0.045369,
     "end_time": "2025-06-29T00:10:21.399300",
     "exception": false,
     "start_time": "2025-06-29T00:10:21.353931",
     "status": "completed"
    },
    "tags": []
   },
   "outputs": [],
   "source": [
    "idx2word={idx:word for word,idx in word2idx.items()}"
   ]
  },
  {
   "cell_type": "code",
   "execution_count": 11,
   "id": "d65ae219",
   "metadata": {
    "execution": {
     "iopub.execute_input": "2025-06-29T00:10:21.411874Z",
     "iopub.status.busy": "2025-06-29T00:10:21.411582Z",
     "iopub.status.idle": "2025-06-29T00:10:21.416565Z",
     "shell.execute_reply": "2025-06-29T00:10:21.415501Z"
    },
    "papermill": {
     "duration": 0.012996,
     "end_time": "2025-06-29T00:10:21.418057",
     "exception": false,
     "start_time": "2025-06-29T00:10:21.405061",
     "status": "completed"
    },
    "tags": []
   },
   "outputs": [
    {
     "name": "stdout",
     "output_type": "stream",
     "text": [
      "left\n"
     ]
    }
   ],
   "source": [
    "print(idx2word[100])"
   ]
  },
  {
   "cell_type": "code",
   "execution_count": 12,
   "id": "fb17545a",
   "metadata": {
    "execution": {
     "iopub.execute_input": "2025-06-29T00:10:21.431341Z",
     "iopub.status.busy": "2025-06-29T00:10:21.430905Z",
     "iopub.status.idle": "2025-06-29T00:10:21.436478Z",
     "shell.execute_reply": "2025-06-29T00:10:21.435465Z"
    },
    "papermill": {
     "duration": 0.014151,
     "end_time": "2025-06-29T00:10:21.438067",
     "exception": false,
     "start_time": "2025-06-29T00:10:21.423916",
     "status": "completed"
    },
    "tags": []
   },
   "outputs": [
    {
     "name": "stdout",
     "output_type": "stream",
     "text": [
      "100\n"
     ]
    }
   ],
   "source": [
    "print(word2idx[\"left\"])"
   ]
  },
  {
   "cell_type": "markdown",
   "id": "b3944a2f",
   "metadata": {
    "papermill": {
     "duration": 0.005733,
     "end_time": "2025-06-29T00:10:21.449817",
     "exception": false,
     "start_time": "2025-06-29T00:10:21.444084",
     "status": "completed"
    },
    "tags": []
   },
   "source": [
    "### 3. Next up is Generating Train Pairs (word-context pairs)"
   ]
  },
  {
   "cell_type": "code",
   "execution_count": 13,
   "id": "626073db",
   "metadata": {
    "execution": {
     "iopub.execute_input": "2025-06-29T00:10:21.463260Z",
     "iopub.status.busy": "2025-06-29T00:10:21.462920Z",
     "iopub.status.idle": "2025-06-29T00:10:35.989625Z",
     "shell.execute_reply": "2025-06-29T00:10:35.988649Z"
    },
    "papermill": {
     "duration": 14.5358,
     "end_time": "2025-06-29T00:10:35.991398",
     "exception": false,
     "start_time": "2025-06-29T00:10:21.455598",
     "status": "completed"
    },
    "tags": []
   },
   "outputs": [],
   "source": [
    "window_size=2\n",
    "training_pairs=[]\n",
    "for i in range(len(tokens)):\n",
    "    start=i-window_size\n",
    "    stop=i+window_size+1\n",
    "    \n",
    "    for j in range(start,stop):\n",
    "        if j<0 or j==i or j>=len(tokens):\n",
    "            continue\n",
    "        training_pairs.append((tokens[i],tokens[j]))   "
   ]
  },
  {
   "cell_type": "code",
   "execution_count": 14,
   "id": "c14cea4c",
   "metadata": {
    "execution": {
     "iopub.execute_input": "2025-06-29T00:10:36.005491Z",
     "iopub.status.busy": "2025-06-29T00:10:36.004408Z",
     "iopub.status.idle": "2025-06-29T00:10:36.010373Z",
     "shell.execute_reply": "2025-06-29T00:10:36.009122Z"
    },
    "papermill": {
     "duration": 0.014604,
     "end_time": "2025-06-29T00:10:36.012194",
     "exception": false,
     "start_time": "2025-06-29T00:10:35.997590",
     "status": "completed"
    },
    "tags": []
   },
   "outputs": [
    {
     "name": "stdout",
     "output_type": "stream",
     "text": [
      "[('a', 'bartender'), ('a', 'is'), ('bartender', 'a'), ('bartender', 'is'), ('bartender', 'working'), ('is', 'a'), ('is', 'bartender'), ('is', 'working'), ('is', 'at'), ('working', 'bartender'), ('working', 'is'), ('working', 'at'), ('working', 'a'), ('at', 'is'), ('at', 'working'), ('at', 'a'), ('at', 'saloon'), ('a', 'working'), ('a', 'at'), ('a', 'saloon'), ('a', 'serving'), ('saloon', 'at'), ('saloon', 'a'), ('saloon', 'serving'), ('saloon', 'drinks'), ('serving', 'a'), ('serving', 'saloon'), ('serving', 'drinks'), ('serving', 'to'), ('drinks', 'saloon'), ('drinks', 'serving'), ('drinks', 'to'), ('drinks', 'customers'), ('to', 'serving'), ('to', 'drinks'), ('to', 'customers'), ('to', 'after'), ('customers', 'drinks'), ('customers', 'to'), ('customers', 'after'), ('customers', 'he'), ('after', 'to'), ('after', 'customers'), ('after', 'he'), ('after', 'fills'), ('he', 'customers'), ('he', 'after'), ('he', 'fills'), ('he', 'a'), ('fills', 'after')]\n"
     ]
    }
   ],
   "source": [
    "print(training_pairs[:50])"
   ]
  },
  {
   "cell_type": "markdown",
   "id": "4ea7151a",
   "metadata": {
    "papermill": {
     "duration": 0.005997,
     "end_time": "2025-06-29T00:10:36.024651",
     "exception": false,
     "start_time": "2025-06-29T00:10:36.018654",
     "status": "completed"
    },
    "tags": []
   },
   "source": [
    "### 4. Next up is converting words to indices"
   ]
  },
  {
   "cell_type": "code",
   "execution_count": 15,
   "id": "f1ed3281",
   "metadata": {
    "execution": {
     "iopub.execute_input": "2025-06-29T00:10:36.038675Z",
     "iopub.status.busy": "2025-06-29T00:10:36.037834Z",
     "iopub.status.idle": "2025-06-29T00:10:45.640869Z",
     "shell.execute_reply": "2025-06-29T00:10:45.639733Z"
    },
    "papermill": {
     "duration": 9.611768,
     "end_time": "2025-06-29T00:10:45.642550",
     "exception": false,
     "start_time": "2025-06-29T00:10:36.030782",
     "status": "completed"
    },
    "tags": []
   },
   "outputs": [],
   "source": [
    "train_data = []\n",
    "for tup in training_pairs:\n",
    "    train_data.append((word2idx[tup[0]],word2idx[tup[1]]))"
   ]
  },
  {
   "cell_type": "code",
   "execution_count": 16,
   "id": "4db0b597",
   "metadata": {
    "execution": {
     "iopub.execute_input": "2025-06-29T00:10:45.656799Z",
     "iopub.status.busy": "2025-06-29T00:10:45.655900Z",
     "iopub.status.idle": "2025-06-29T00:10:45.663888Z",
     "shell.execute_reply": "2025-06-29T00:10:45.662995Z"
    },
    "papermill": {
     "duration": 0.016661,
     "end_time": "2025-06-29T00:10:45.665459",
     "exception": false,
     "start_time": "2025-06-29T00:10:45.648798",
     "status": "completed"
    },
    "tags": []
   },
   "outputs": [
    {
     "data": {
      "text/plain": [
       "[(1, 2),\n",
       " (1, 3),\n",
       " (2, 1),\n",
       " (2, 3),\n",
       " (2, 4),\n",
       " (3, 1),\n",
       " (3, 2),\n",
       " (3, 4),\n",
       " (3, 5),\n",
       " (4, 2),\n",
       " (4, 3),\n",
       " (4, 5),\n",
       " (4, 1),\n",
       " (5, 3),\n",
       " (5, 4),\n",
       " (5, 1),\n",
       " (5, 6),\n",
       " (1, 4),\n",
       " (1, 5),\n",
       " (1, 6),\n",
       " (1, 7),\n",
       " (6, 5),\n",
       " (6, 1),\n",
       " (6, 7),\n",
       " (6, 8),\n",
       " (7, 1),\n",
       " (7, 6),\n",
       " (7, 8),\n",
       " (7, 9),\n",
       " (8, 6),\n",
       " (8, 7),\n",
       " (8, 9),\n",
       " (8, 10),\n",
       " (9, 7),\n",
       " (9, 8),\n",
       " (9, 10),\n",
       " (9, 11),\n",
       " (10, 8),\n",
       " (10, 9),\n",
       " (10, 11),\n",
       " (10, 12),\n",
       " (11, 9),\n",
       " (11, 10),\n",
       " (11, 12),\n",
       " (11, 13),\n",
       " (12, 10),\n",
       " (12, 11),\n",
       " (12, 13),\n",
       " (12, 1),\n",
       " (13, 11)]"
      ]
     },
     "execution_count": 16,
     "metadata": {},
     "output_type": "execute_result"
    }
   ],
   "source": [
    "train_data[:50]"
   ]
  },
  {
   "cell_type": "code",
   "execution_count": 17,
   "id": "c16e473e",
   "metadata": {
    "execution": {
     "iopub.execute_input": "2025-06-29T00:10:45.678852Z",
     "iopub.status.busy": "2025-06-29T00:10:45.678513Z",
     "iopub.status.idle": "2025-06-29T00:10:45.685364Z",
     "shell.execute_reply": "2025-06-29T00:10:45.684250Z"
    },
    "papermill": {
     "duration": 0.015624,
     "end_time": "2025-06-29T00:10:45.687175",
     "exception": false,
     "start_time": "2025-06-29T00:10:45.671551",
     "status": "completed"
    },
    "tags": []
   },
   "outputs": [
    {
     "data": {
      "text/plain": [
       "11"
      ]
     },
     "execution_count": 17,
     "metadata": {},
     "output_type": "execute_result"
    }
   ],
   "source": [
    "word2idx[\"after\"]"
   ]
  },
  {
   "cell_type": "markdown",
   "id": "e7d13619",
   "metadata": {
    "papermill": {
     "duration": 0.005919,
     "end_time": "2025-06-29T00:10:45.699653",
     "exception": false,
     "start_time": "2025-06-29T00:10:45.693734",
     "status": "completed"
    },
    "tags": []
   },
   "source": [
    "## Now to training with Pytorch"
   ]
  },
  {
   "cell_type": "code",
   "execution_count": 18,
   "id": "a8c3361e",
   "metadata": {
    "execution": {
     "iopub.execute_input": "2025-06-29T00:10:45.713813Z",
     "iopub.status.busy": "2025-06-29T00:10:45.713448Z",
     "iopub.status.idle": "2025-06-29T00:10:45.718303Z",
     "shell.execute_reply": "2025-06-29T00:10:45.717328Z"
    },
    "papermill": {
     "duration": 0.014075,
     "end_time": "2025-06-29T00:10:45.720083",
     "exception": false,
     "start_time": "2025-06-29T00:10:45.706008",
     "status": "completed"
    },
    "tags": []
   },
   "outputs": [],
   "source": [
    "vocab_size=len(word2idx) #number of unique words in the corpus\n",
    "embedding_dim=100 #a usual value for Word2Vec"
   ]
  },
  {
   "cell_type": "code",
   "execution_count": 19,
   "id": "25bcddcd",
   "metadata": {
    "execution": {
     "iopub.execute_input": "2025-06-29T00:10:45.735356Z",
     "iopub.status.busy": "2025-06-29T00:10:45.734973Z",
     "iopub.status.idle": "2025-06-29T00:10:53.688024Z",
     "shell.execute_reply": "2025-06-29T00:10:53.687072Z"
    },
    "papermill": {
     "duration": 7.962739,
     "end_time": "2025-06-29T00:10:53.689928",
     "exception": false,
     "start_time": "2025-06-29T00:10:45.727189",
     "status": "completed"
    },
    "tags": []
   },
   "outputs": [],
   "source": [
    "import torch"
   ]
  },
  {
   "cell_type": "markdown",
   "id": "8e45683a",
   "metadata": {
    "papermill": {
     "duration": 0.005767,
     "end_time": "2025-06-29T00:10:53.702067",
     "exception": false,
     "start_time": "2025-06-29T00:10:53.696300",
     "status": "completed"
    },
    "tags": []
   },
   "source": [
    "### Define the Embedding Layers and Word2Vec Class"
   ]
  },
  {
   "cell_type": "code",
   "execution_count": 20,
   "id": "7aa3eebe",
   "metadata": {
    "execution": {
     "iopub.execute_input": "2025-06-29T00:10:53.716538Z",
     "iopub.status.busy": "2025-06-29T00:10:53.715113Z",
     "iopub.status.idle": "2025-06-29T00:10:53.981251Z",
     "shell.execute_reply": "2025-06-29T00:10:53.980166Z"
    },
    "papermill": {
     "duration": 0.275227,
     "end_time": "2025-06-29T00:10:53.983130",
     "exception": false,
     "start_time": "2025-06-29T00:10:53.707903",
     "status": "completed"
    },
    "tags": []
   },
   "outputs": [],
   "source": [
    "W_in=torch.nn.Embedding(vocab_size,embedding_dim)\n",
    "W_out=torch.nn.Embedding(vocab_size,embedding_dim)"
   ]
  },
  {
   "cell_type": "markdown",
   "id": "734e994d",
   "metadata": {
    "papermill": {
     "duration": 0.005687,
     "end_time": "2025-06-29T00:10:53.995067",
     "exception": false,
     "start_time": "2025-06-29T00:10:53.989380",
     "status": "completed"
    },
    "tags": []
   },
   "source": [
    "**Quick note: 1. Just learnt that if I don't feed in the indices in batch and instead try to loop through each one, it'll be too slow. 2. Also learnt the purpose of forward() in a pytorch class - it is the brain that handles input.**"
   ]
  },
  {
   "cell_type": "code",
   "execution_count": 21,
   "id": "59428803",
   "metadata": {
    "execution": {
     "iopub.execute_input": "2025-06-29T00:10:54.009442Z",
     "iopub.status.busy": "2025-06-29T00:10:54.009054Z",
     "iopub.status.idle": "2025-06-29T00:10:54.015698Z",
     "shell.execute_reply": "2025-06-29T00:10:54.014438Z"
    },
    "papermill": {
     "duration": 0.016431,
     "end_time": "2025-06-29T00:10:54.017379",
     "exception": false,
     "start_time": "2025-06-29T00:10:54.000948",
     "status": "completed"
    },
    "tags": []
   },
   "outputs": [],
   "source": [
    "class Word2Vec(torch.nn.Module):\n",
    "    def __init__(self):\n",
    "        super().__init__()\n",
    "        self.in_embed = torch.nn.Embedding(vocab_size, embedding_dim)\n",
    "        self.out_embed = torch.nn.Embedding(vocab_size, embedding_dim)\n",
    "        \n",
    "    def forward(self,centre_idx, context_idx):\n",
    "        centre_vector=self.in_embed(centre_idx)\n",
    "        context_vector=self.out_embed(context_idx)\n",
    "        dot_products = torch.sum(centre_vector * context_vector, dim=1)\n",
    "        return dot_products\n",
    "        # torch.dot only works for 1D vectors not batches\n",
    "        # The dot product is the true measure of if the vectors capture the closeness of the words they represent.\n",
    "        # Seeing as we're starting with random values, the predictions will start poor and over time will be adjusted through training. Interesting."
   ]
  },
  {
   "cell_type": "markdown",
   "id": "6413a403",
   "metadata": {
    "papermill": {
     "duration": 0.005758,
     "end_time": "2025-06-29T00:10:54.029289",
     "exception": false,
     "start_time": "2025-06-29T00:10:54.023531",
     "status": "completed"
    },
    "tags": []
   },
   "source": [
    "### Adding negative sampling to the training data"
   ]
  },
  {
   "cell_type": "code",
   "execution_count": 22,
   "id": "c8873194",
   "metadata": {
    "execution": {
     "iopub.execute_input": "2025-06-29T00:10:54.043165Z",
     "iopub.status.busy": "2025-06-29T00:10:54.042155Z",
     "iopub.status.idle": "2025-06-29T00:10:54.049416Z",
     "shell.execute_reply": "2025-06-29T00:10:54.048448Z"
    },
    "papermill": {
     "duration": 0.015782,
     "end_time": "2025-06-29T00:10:54.051005",
     "exception": false,
     "start_time": "2025-06-29T00:10:54.035223",
     "status": "completed"
    },
    "tags": []
   },
   "outputs": [
    {
     "data": {
      "text/plain": [
       "(1866, 1435)"
      ]
     },
     "execution_count": 22,
     "metadata": {},
     "output_type": "execute_result"
    }
   ],
   "source": [
    "import random\n",
    "random.sample(train_data,1)[0]"
   ]
  },
  {
   "cell_type": "code",
   "execution_count": 23,
   "id": "ffca90d2",
   "metadata": {
    "execution": {
     "iopub.execute_input": "2025-06-29T00:10:54.066092Z",
     "iopub.status.busy": "2025-06-29T00:10:54.065152Z",
     "iopub.status.idle": "2025-06-29T00:10:54.072583Z",
     "shell.execute_reply": "2025-06-29T00:10:54.071636Z"
    },
    "papermill": {
     "duration": 0.016423,
     "end_time": "2025-06-29T00:10:54.074160",
     "exception": false,
     "start_time": "2025-06-29T00:10:54.057737",
     "status": "completed"
    },
    "tags": []
   },
   "outputs": [],
   "source": [
    "k=5\n",
    "\n",
    "centre_indices=[]\n",
    "context_indices=[]\n",
    "labels=[]\n",
    "\n",
    "def prepare_batch_with_negatives(batch_data, k, vocab_size):\n",
    "    for centre_idx, context_idx in batch_data:\n",
    "        centre_idx, context_idx = sample_pair\n",
    "        centre_indices.append(centre_idx)\n",
    "        context_indices.append(context_idx)\n",
    "        labels.append(1)\n",
    "        \n",
    "        for nve_sample in k:\n",
    "            negative_idx = random.randint(0, vocab_size - 1)\n",
    "            while negative_idx == context_idx:\n",
    "                negative_idx = random.randint(0, vocab_size - 1)\n",
    "            centre_indices.append(center_idx)\n",
    "            context_indices.append(negative_idx)\n",
    "            labels.append(0)\n",
    "            \n",
    "    centre_tensor = torch.tensor(centre_indices, dtype=torch.long)\n",
    "    context_tensor = torch.tensor(context_indices, dtype=torch.long)\n",
    "    label_tensor   = torch.tensor(labels, dtype=torch.float)\n",
    "    return centre_tensor, context_tensor, label_tensor"
   ]
  },
  {
   "cell_type": "code",
   "execution_count": null,
   "id": "09ff8e4d",
   "metadata": {
    "papermill": {
     "duration": 0.005784,
     "end_time": "2025-06-29T00:10:54.086155",
     "exception": false,
     "start_time": "2025-06-29T00:10:54.080371",
     "status": "completed"
    },
    "tags": []
   },
   "outputs": [],
   "source": []
  },
  {
   "cell_type": "code",
   "execution_count": null,
   "id": "29ddd2f8",
   "metadata": {
    "papermill": {
     "duration": 0.005694,
     "end_time": "2025-06-29T00:10:54.098014",
     "exception": false,
     "start_time": "2025-06-29T00:10:54.092320",
     "status": "completed"
    },
    "tags": []
   },
   "outputs": [],
   "source": []
  }
 ],
 "metadata": {
  "kaggle": {
   "accelerator": "none",
   "dataSources": [
    {
     "datasetId": 64890,
     "sourceId": 127736,
     "sourceType": "datasetVersion"
    }
   ],
   "dockerImageVersionId": 31040,
   "isGpuEnabled": false,
   "isInternetEnabled": true,
   "language": "python",
   "sourceType": "notebook"
  },
  "kernelspec": {
   "display_name": "Python 3",
   "language": "python",
   "name": "python3"
  },
  "language_info": {
   "codemirror_mode": {
    "name": "ipython",
    "version": 3
   },
   "file_extension": ".py",
   "mimetype": "text/x-python",
   "name": "python",
   "nbconvert_exporter": "python",
   "pygments_lexer": "ipython3",
   "version": "3.11.11"
  },
  "papermill": {
   "default_parameters": {},
   "duration": 71.129077,
   "end_time": "2025-06-29T00:10:56.825579",
   "environment_variables": {},
   "exception": null,
   "input_path": "__notebook__.ipynb",
   "output_path": "__notebook__.ipynb",
   "parameters": {},
   "start_time": "2025-06-29T00:09:45.696502",
   "version": "2.6.0"
  }
 },
 "nbformat": 4,
 "nbformat_minor": 5
}
