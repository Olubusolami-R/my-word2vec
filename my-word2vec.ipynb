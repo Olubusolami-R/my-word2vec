{
 "cells": [
  {
   "cell_type": "code",
   "execution_count": 1,
   "id": "6d6aca85",
   "metadata": {
    "_cell_guid": "b1076dfc-b9ad-4769-8c92-a6c4dae69d19",
    "_uuid": "8f2839f25d086af736a60e9eeb907d3b93b6e0e5",
    "execution": {
     "iopub.execute_input": "2025-06-28T22:30:28.110363Z",
     "iopub.status.busy": "2025-06-28T22:30:28.110028Z",
     "iopub.status.idle": "2025-06-28T22:30:29.898257Z",
     "shell.execute_reply": "2025-06-28T22:30:29.897154Z"
    },
    "papermill": {
     "duration": 1.796837,
     "end_time": "2025-06-28T22:30:29.899820",
     "exception": false,
     "start_time": "2025-06-28T22:30:28.102983",
     "status": "completed"
    },
    "tags": []
   },
   "outputs": [
    {
     "name": "stdout",
     "output_type": "stream",
     "text": [
      "/kaggle/input/wikipedia-movie-plots/wiki_movie_plots_deduped.csv\n"
     ]
    }
   ],
   "source": [
    "import numpy as np # linear algebra\n",
    "import pandas as pd # data processing, CSV file I/O (e.g. pd.read_csv)\n",
    "\n",
    "import os\n",
    "for dirname, _, filenames in os.walk('/kaggle/input'):\n",
    "    for filename in filenames:\n",
    "        print(os.path.join(dirname, filename))"
   ]
  },
  {
   "cell_type": "markdown",
   "id": "a70a34a0",
   "metadata": {
    "papermill": {
     "duration": 0.005797,
     "end_time": "2025-06-28T22:30:29.911183",
     "exception": false,
     "start_time": "2025-06-28T22:30:29.905386",
     "status": "completed"
    },
    "tags": []
   },
   "source": [
    "## 1. Extract the corpus: Movie Plots"
   ]
  },
  {
   "cell_type": "code",
   "execution_count": 2,
   "id": "bdd89ff5",
   "metadata": {
    "execution": {
     "iopub.execute_input": "2025-06-28T22:30:29.922759Z",
     "iopub.status.busy": "2025-06-28T22:30:29.922314Z",
     "iopub.status.idle": "2025-06-28T22:30:31.979712Z",
     "shell.execute_reply": "2025-06-28T22:30:31.978711Z"
    },
    "papermill": {
     "duration": 2.065378,
     "end_time": "2025-06-28T22:30:31.981558",
     "exception": false,
     "start_time": "2025-06-28T22:30:29.916180",
     "status": "completed"
    },
    "tags": []
   },
   "outputs": [],
   "source": [
    "df=pd.read_csv(\"/kaggle/input/wikipedia-movie-plots/wiki_movie_plots_deduped.csv\")"
   ]
  },
  {
   "cell_type": "code",
   "execution_count": 3,
   "id": "f2103012",
   "metadata": {
    "execution": {
     "iopub.execute_input": "2025-06-28T22:30:31.993083Z",
     "iopub.status.busy": "2025-06-28T22:30:31.992759Z",
     "iopub.status.idle": "2025-06-28T22:30:32.040143Z",
     "shell.execute_reply": "2025-06-28T22:30:32.038901Z"
    },
    "papermill": {
     "duration": 0.055374,
     "end_time": "2025-06-28T22:30:32.042145",
     "exception": false,
     "start_time": "2025-06-28T22:30:31.986771",
     "status": "completed"
    },
    "tags": []
   },
   "outputs": [
    {
     "name": "stdout",
     "output_type": "stream",
     "text": [
      "<class 'pandas.core.frame.DataFrame'>\n",
      "RangeIndex: 34886 entries, 0 to 34885\n",
      "Data columns (total 8 columns):\n",
      " #   Column            Non-Null Count  Dtype \n",
      "---  ------            --------------  ----- \n",
      " 0   Release Year      34886 non-null  int64 \n",
      " 1   Title             34886 non-null  object\n",
      " 2   Origin/Ethnicity  34886 non-null  object\n",
      " 3   Director          34886 non-null  object\n",
      " 4   Cast              33464 non-null  object\n",
      " 5   Genre             34886 non-null  object\n",
      " 6   Wiki Page         34886 non-null  object\n",
      " 7   Plot              34886 non-null  object\n",
      "dtypes: int64(1), object(7)\n",
      "memory usage: 2.1+ MB\n"
     ]
    }
   ],
   "source": [
    "df.info()"
   ]
  },
  {
   "cell_type": "code",
   "execution_count": 4,
   "id": "6b5f0575",
   "metadata": {
    "execution": {
     "iopub.execute_input": "2025-06-28T22:30:32.058368Z",
     "iopub.status.busy": "2025-06-28T22:30:32.058024Z",
     "iopub.status.idle": "2025-06-28T22:30:32.066144Z",
     "shell.execute_reply": "2025-06-28T22:30:32.065138Z"
    },
    "papermill": {
     "duration": 0.019135,
     "end_time": "2025-06-28T22:30:32.068233",
     "exception": false,
     "start_time": "2025-06-28T22:30:32.049098",
     "status": "completed"
    },
    "tags": []
   },
   "outputs": [
    {
     "data": {
      "text/plain": [
       "'Lasting just 61 seconds and consisting of two shots, the first shot is set in a wood during winter. The actor representing then vice-president Theodore Roosevelt enthusiastically hurries down a hillside towards a tree in the foreground. He falls once, but rights himself and cocks his rifle. Two other men, bearing signs reading \"His Photographer\" and \"His Press Agent\" respectively, follow him into the shot; the photographer sets up his camera. \"Teddy\" aims his rifle upward at the tree and fells what appears to be a common house cat, which he then proceeds to stab. \"Teddy\" holds his prize aloft, and the press agent takes notes. The second shot is taken in a slightly different part of the wood, on a path. \"Teddy\" rides the path on his horse towards the camera and out to the left of the shot, followed closely by the press agent and photographer, still dutifully holding their signs.'"
      ]
     },
     "execution_count": 4,
     "metadata": {},
     "output_type": "execute_result"
    }
   ],
   "source": [
    "corpus=df[\"Plot\"][:15000].to_list()\n",
    "len(corpus)\n",
    "corpus[3]"
   ]
  },
  {
   "cell_type": "markdown",
   "id": "37b0a5e4",
   "metadata": {
    "papermill": {
     "duration": 0.00573,
     "end_time": "2025-06-28T22:30:32.083055",
     "exception": false,
     "start_time": "2025-06-28T22:30:32.077325",
     "status": "completed"
    },
    "tags": []
   },
   "source": [
    "## 2. Next up is Preprocessing/Cleaning"
   ]
  },
  {
   "cell_type": "markdown",
   "id": "ad0bfa9c",
   "metadata": {
    "papermill": {
     "duration": 0.00638,
     "end_time": "2025-06-28T22:30:32.094393",
     "exception": false,
     "start_time": "2025-06-28T22:30:32.088013",
     "status": "completed"
    },
    "tags": []
   },
   "source": [
    "### Import the tokenizer"
   ]
  },
  {
   "cell_type": "code",
   "execution_count": 5,
   "id": "e4c3abcf",
   "metadata": {
    "execution": {
     "iopub.execute_input": "2025-06-28T22:30:32.105745Z",
     "iopub.status.busy": "2025-06-28T22:30:32.105437Z",
     "iopub.status.idle": "2025-06-28T22:30:34.498483Z",
     "shell.execute_reply": "2025-06-28T22:30:34.497643Z"
    },
    "papermill": {
     "duration": 2.400637,
     "end_time": "2025-06-28T22:30:34.500135",
     "exception": false,
     "start_time": "2025-06-28T22:30:32.099498",
     "status": "completed"
    },
    "tags": []
   },
   "outputs": [],
   "source": [
    "from nltk.tokenize import word_tokenize"
   ]
  },
  {
   "cell_type": "markdown",
   "id": "5d789b3a",
   "metadata": {
    "papermill": {
     "duration": 0.00479,
     "end_time": "2025-06-28T22:30:34.510382",
     "exception": false,
     "start_time": "2025-06-28T22:30:34.505592",
     "status": "completed"
    },
    "tags": []
   },
   "source": [
    "### Preprocess text (to lowercase, remove punctuations and tokenize"
   ]
  },
  {
   "cell_type": "code",
   "execution_count": 6,
   "id": "d9ae0c43",
   "metadata": {
    "execution": {
     "iopub.execute_input": "2025-06-28T22:30:34.522919Z",
     "iopub.status.busy": "2025-06-28T22:30:34.522494Z",
     "iopub.status.idle": "2025-06-28T22:30:54.503966Z",
     "shell.execute_reply": "2025-06-28T22:30:54.503109Z"
    },
    "papermill": {
     "duration": 19.989772,
     "end_time": "2025-06-28T22:30:54.505683",
     "exception": false,
     "start_time": "2025-06-28T22:30:34.515911",
     "status": "completed"
    },
    "tags": []
   },
   "outputs": [],
   "source": [
    "import string\n",
    "tokens=[]\n",
    "for i in range(len(corpus)):\n",
    "    temp=corpus[i].lower()\n",
    "    corpus[i]=''.join([char for char in temp if char not in string.punctuation])\n",
    "    tokens.extend(word_tokenize(corpus[i]))"
   ]
  },
  {
   "cell_type": "code",
   "execution_count": 7,
   "id": "fd667e40",
   "metadata": {
    "execution": {
     "iopub.execute_input": "2025-06-28T22:30:54.517280Z",
     "iopub.status.busy": "2025-06-28T22:30:54.516961Z",
     "iopub.status.idle": "2025-06-28T22:30:54.521666Z",
     "shell.execute_reply": "2025-06-28T22:30:54.520736Z"
    },
    "papermill": {
     "duration": 0.012016,
     "end_time": "2025-06-28T22:30:54.523023",
     "exception": false,
     "start_time": "2025-06-28T22:30:54.511007",
     "status": "completed"
    },
    "tags": []
   },
   "outputs": [
    {
     "name": "stdout",
     "output_type": "stream",
     "text": [
      "5887100\n"
     ]
    }
   ],
   "source": [
    "print(len(tokens))"
   ]
  },
  {
   "cell_type": "markdown",
   "id": "2178c490",
   "metadata": {
    "papermill": {
     "duration": 0.005295,
     "end_time": "2025-06-28T22:30:54.533483",
     "exception": false,
     "start_time": "2025-06-28T22:30:54.528188",
     "status": "completed"
    },
    "tags": []
   },
   "source": [
    "### Record word frequency and create word index"
   ]
  },
  {
   "cell_type": "code",
   "execution_count": 8,
   "id": "97b9a1b6",
   "metadata": {
    "execution": {
     "iopub.execute_input": "2025-06-28T22:30:54.544940Z",
     "iopub.status.busy": "2025-06-28T22:30:54.544284Z",
     "iopub.status.idle": "2025-06-28T22:30:56.636386Z",
     "shell.execute_reply": "2025-06-28T22:30:56.635396Z"
    },
    "papermill": {
     "duration": 2.099616,
     "end_time": "2025-06-28T22:30:56.638114",
     "exception": false,
     "start_time": "2025-06-28T22:30:54.538498",
     "status": "completed"
    },
    "tags": []
   },
   "outputs": [],
   "source": [
    "word_freq={}\n",
    "word2idx={}\n",
    "count_idx=1\n",
    "\n",
    "for token in tokens:\n",
    "    if token not in word2idx:\n",
    "        word2idx[token]=count_idx\n",
    "        word_freq[token]=1\n",
    "        count_idx+=1\n",
    "    else:\n",
    "        word_freq[token]+=1"
   ]
  },
  {
   "cell_type": "code",
   "execution_count": 9,
   "id": "36d3471f",
   "metadata": {
    "execution": {
     "iopub.execute_input": "2025-06-28T22:30:56.649510Z",
     "iopub.status.busy": "2025-06-28T22:30:56.649176Z",
     "iopub.status.idle": "2025-06-28T22:30:56.653646Z",
     "shell.execute_reply": "2025-06-28T22:30:56.652874Z"
    },
    "papermill": {
     "duration": 0.011524,
     "end_time": "2025-06-28T22:30:56.654864",
     "exception": false,
     "start_time": "2025-06-28T22:30:56.643340",
     "status": "completed"
    },
    "tags": []
   },
   "outputs": [
    {
     "name": "stdout",
     "output_type": "stream",
     "text": [
      "102299\n"
     ]
    }
   ],
   "source": [
    "print(len(word2idx))"
   ]
  },
  {
   "cell_type": "code",
   "execution_count": 10,
   "id": "6b99d783",
   "metadata": {
    "execution": {
     "iopub.execute_input": "2025-06-28T22:30:56.666491Z",
     "iopub.status.busy": "2025-06-28T22:30:56.666138Z",
     "iopub.status.idle": "2025-06-28T22:30:56.697509Z",
     "shell.execute_reply": "2025-06-28T22:30:56.696602Z"
    },
    "papermill": {
     "duration": 0.038992,
     "end_time": "2025-06-28T22:30:56.698997",
     "exception": false,
     "start_time": "2025-06-28T22:30:56.660005",
     "status": "completed"
    },
    "tags": []
   },
   "outputs": [],
   "source": [
    "idx2word={idx:word for word,idx in word2idx.items()}"
   ]
  },
  {
   "cell_type": "code",
   "execution_count": 11,
   "id": "4cb0d679",
   "metadata": {
    "execution": {
     "iopub.execute_input": "2025-06-28T22:30:56.710641Z",
     "iopub.status.busy": "2025-06-28T22:30:56.710316Z",
     "iopub.status.idle": "2025-06-28T22:30:56.714951Z",
     "shell.execute_reply": "2025-06-28T22:30:56.713976Z"
    },
    "papermill": {
     "duration": 0.012217,
     "end_time": "2025-06-28T22:30:56.716528",
     "exception": false,
     "start_time": "2025-06-28T22:30:56.704311",
     "status": "completed"
    },
    "tags": []
   },
   "outputs": [
    {
     "name": "stdout",
     "output_type": "stream",
     "text": [
      "left\n"
     ]
    }
   ],
   "source": [
    "print(idx2word[100])"
   ]
  },
  {
   "cell_type": "code",
   "execution_count": 12,
   "id": "b5964bc5",
   "metadata": {
    "execution": {
     "iopub.execute_input": "2025-06-28T22:30:56.728613Z",
     "iopub.status.busy": "2025-06-28T22:30:56.727926Z",
     "iopub.status.idle": "2025-06-28T22:30:56.733039Z",
     "shell.execute_reply": "2025-06-28T22:30:56.732114Z"
    },
    "papermill": {
     "duration": 0.012651,
     "end_time": "2025-06-28T22:30:56.734517",
     "exception": false,
     "start_time": "2025-06-28T22:30:56.721866",
     "status": "completed"
    },
    "tags": []
   },
   "outputs": [
    {
     "name": "stdout",
     "output_type": "stream",
     "text": [
      "100\n"
     ]
    }
   ],
   "source": [
    "print(word2idx[\"left\"])"
   ]
  },
  {
   "cell_type": "markdown",
   "id": "9ab4865d",
   "metadata": {
    "papermill": {
     "duration": 0.005117,
     "end_time": "2025-06-28T22:30:56.745047",
     "exception": false,
     "start_time": "2025-06-28T22:30:56.739930",
     "status": "completed"
    },
    "tags": []
   },
   "source": [
    "### 3. Next up is Generating Train Pairs (word-context pairs)"
   ]
  },
  {
   "cell_type": "code",
   "execution_count": 13,
   "id": "4a27e7f9",
   "metadata": {
    "execution": {
     "iopub.execute_input": "2025-06-28T22:30:56.756595Z",
     "iopub.status.busy": "2025-06-28T22:30:56.756264Z",
     "iopub.status.idle": "2025-06-28T22:31:09.973256Z",
     "shell.execute_reply": "2025-06-28T22:31:09.972313Z"
    },
    "papermill": {
     "duration": 13.224822,
     "end_time": "2025-06-28T22:31:09.975014",
     "exception": false,
     "start_time": "2025-06-28T22:30:56.750192",
     "status": "completed"
    },
    "tags": []
   },
   "outputs": [],
   "source": [
    "window_size=2\n",
    "training_pairs=[]\n",
    "for i in range(len(tokens)):\n",
    "    start=i-window_size\n",
    "    stop=i+window_size+1\n",
    "    \n",
    "    for j in range(start,stop):\n",
    "        if j<0 or j==i or j>=len(tokens):\n",
    "            continue\n",
    "        training_pairs.append((tokens[i],tokens[j]))   "
   ]
  },
  {
   "cell_type": "code",
   "execution_count": 14,
   "id": "39bda485",
   "metadata": {
    "execution": {
     "iopub.execute_input": "2025-06-28T22:31:09.986956Z",
     "iopub.status.busy": "2025-06-28T22:31:09.986651Z",
     "iopub.status.idle": "2025-06-28T22:31:09.991614Z",
     "shell.execute_reply": "2025-06-28T22:31:09.990710Z"
    },
    "papermill": {
     "duration": 0.012357,
     "end_time": "2025-06-28T22:31:09.992871",
     "exception": false,
     "start_time": "2025-06-28T22:31:09.980514",
     "status": "completed"
    },
    "tags": []
   },
   "outputs": [
    {
     "name": "stdout",
     "output_type": "stream",
     "text": [
      "[('a', 'bartender'), ('a', 'is'), ('bartender', 'a'), ('bartender', 'is'), ('bartender', 'working'), ('is', 'a'), ('is', 'bartender'), ('is', 'working'), ('is', 'at'), ('working', 'bartender'), ('working', 'is'), ('working', 'at'), ('working', 'a'), ('at', 'is'), ('at', 'working'), ('at', 'a'), ('at', 'saloon'), ('a', 'working'), ('a', 'at'), ('a', 'saloon'), ('a', 'serving'), ('saloon', 'at'), ('saloon', 'a'), ('saloon', 'serving'), ('saloon', 'drinks'), ('serving', 'a'), ('serving', 'saloon'), ('serving', 'drinks'), ('serving', 'to'), ('drinks', 'saloon'), ('drinks', 'serving'), ('drinks', 'to'), ('drinks', 'customers'), ('to', 'serving'), ('to', 'drinks'), ('to', 'customers'), ('to', 'after'), ('customers', 'drinks'), ('customers', 'to'), ('customers', 'after'), ('customers', 'he'), ('after', 'to'), ('after', 'customers'), ('after', 'he'), ('after', 'fills'), ('he', 'customers'), ('he', 'after'), ('he', 'fills'), ('he', 'a'), ('fills', 'after')]\n"
     ]
    }
   ],
   "source": [
    "print(training_pairs[:50])"
   ]
  },
  {
   "cell_type": "markdown",
   "id": "69fcc60c",
   "metadata": {
    "papermill": {
     "duration": 0.005072,
     "end_time": "2025-06-28T22:31:10.003355",
     "exception": false,
     "start_time": "2025-06-28T22:31:09.998283",
     "status": "completed"
    },
    "tags": []
   },
   "source": [
    "### 4. Next up is converting words to indices"
   ]
  },
  {
   "cell_type": "code",
   "execution_count": 15,
   "id": "754289af",
   "metadata": {
    "execution": {
     "iopub.execute_input": "2025-06-28T22:31:10.015003Z",
     "iopub.status.busy": "2025-06-28T22:31:10.014699Z",
     "iopub.status.idle": "2025-06-28T22:31:18.337484Z",
     "shell.execute_reply": "2025-06-28T22:31:18.336621Z"
    },
    "papermill": {
     "duration": 8.330582,
     "end_time": "2025-06-28T22:31:18.339138",
     "exception": false,
     "start_time": "2025-06-28T22:31:10.008556",
     "status": "completed"
    },
    "tags": []
   },
   "outputs": [],
   "source": [
    "train_data = []\n",
    "for tup in training_pairs:\n",
    "    train_data.append((word2idx[tup[0]],word2idx[tup[1]]))"
   ]
  },
  {
   "cell_type": "code",
   "execution_count": 16,
   "id": "905f6945",
   "metadata": {
    "execution": {
     "iopub.execute_input": "2025-06-28T22:31:18.351961Z",
     "iopub.status.busy": "2025-06-28T22:31:18.351282Z",
     "iopub.status.idle": "2025-06-28T22:31:18.358474Z",
     "shell.execute_reply": "2025-06-28T22:31:18.357670Z"
    },
    "papermill": {
     "duration": 0.014817,
     "end_time": "2025-06-28T22:31:18.359866",
     "exception": false,
     "start_time": "2025-06-28T22:31:18.345049",
     "status": "completed"
    },
    "tags": []
   },
   "outputs": [
    {
     "data": {
      "text/plain": [
       "[(1, 2),\n",
       " (1, 3),\n",
       " (2, 1),\n",
       " (2, 3),\n",
       " (2, 4),\n",
       " (3, 1),\n",
       " (3, 2),\n",
       " (3, 4),\n",
       " (3, 5),\n",
       " (4, 2),\n",
       " (4, 3),\n",
       " (4, 5),\n",
       " (4, 1),\n",
       " (5, 3),\n",
       " (5, 4),\n",
       " (5, 1),\n",
       " (5, 6),\n",
       " (1, 4),\n",
       " (1, 5),\n",
       " (1, 6),\n",
       " (1, 7),\n",
       " (6, 5),\n",
       " (6, 1),\n",
       " (6, 7),\n",
       " (6, 8),\n",
       " (7, 1),\n",
       " (7, 6),\n",
       " (7, 8),\n",
       " (7, 9),\n",
       " (8, 6),\n",
       " (8, 7),\n",
       " (8, 9),\n",
       " (8, 10),\n",
       " (9, 7),\n",
       " (9, 8),\n",
       " (9, 10),\n",
       " (9, 11),\n",
       " (10, 8),\n",
       " (10, 9),\n",
       " (10, 11),\n",
       " (10, 12),\n",
       " (11, 9),\n",
       " (11, 10),\n",
       " (11, 12),\n",
       " (11, 13),\n",
       " (12, 10),\n",
       " (12, 11),\n",
       " (12, 13),\n",
       " (12, 1),\n",
       " (13, 11)]"
      ]
     },
     "execution_count": 16,
     "metadata": {},
     "output_type": "execute_result"
    }
   ],
   "source": [
    "train_data[:50]"
   ]
  },
  {
   "cell_type": "code",
   "execution_count": 17,
   "id": "3e6fcdc2",
   "metadata": {
    "execution": {
     "iopub.execute_input": "2025-06-28T22:31:18.372012Z",
     "iopub.status.busy": "2025-06-28T22:31:18.371680Z",
     "iopub.status.idle": "2025-06-28T22:31:18.377678Z",
     "shell.execute_reply": "2025-06-28T22:31:18.376852Z"
    },
    "papermill": {
     "duration": 0.013877,
     "end_time": "2025-06-28T22:31:18.379246",
     "exception": false,
     "start_time": "2025-06-28T22:31:18.365369",
     "status": "completed"
    },
    "tags": []
   },
   "outputs": [
    {
     "data": {
      "text/plain": [
       "11"
      ]
     },
     "execution_count": 17,
     "metadata": {},
     "output_type": "execute_result"
    }
   ],
   "source": [
    "word2idx[\"after\"]"
   ]
  },
  {
   "cell_type": "markdown",
   "id": "aee891e4",
   "metadata": {
    "papermill": {
     "duration": 0.005148,
     "end_time": "2025-06-28T22:31:18.390083",
     "exception": false,
     "start_time": "2025-06-28T22:31:18.384935",
     "status": "completed"
    },
    "tags": []
   },
   "source": [
    "## Now to training with Pytorch"
   ]
  },
  {
   "cell_type": "code",
   "execution_count": 18,
   "id": "219faebe",
   "metadata": {
    "execution": {
     "iopub.execute_input": "2025-06-28T22:31:18.402472Z",
     "iopub.status.busy": "2025-06-28T22:31:18.402100Z",
     "iopub.status.idle": "2025-06-28T22:31:18.406619Z",
     "shell.execute_reply": "2025-06-28T22:31:18.405507Z"
    },
    "papermill": {
     "duration": 0.012733,
     "end_time": "2025-06-28T22:31:18.408386",
     "exception": false,
     "start_time": "2025-06-28T22:31:18.395653",
     "status": "completed"
    },
    "tags": []
   },
   "outputs": [],
   "source": [
    "vocab_size=len(word2idx) #number of unique words in the corpus\n",
    "embedding_dim=100 #a usual value for Word2Vec"
   ]
  },
  {
   "cell_type": "code",
   "execution_count": 19,
   "id": "2332aee0",
   "metadata": {
    "execution": {
     "iopub.execute_input": "2025-06-28T22:31:18.420992Z",
     "iopub.status.busy": "2025-06-28T22:31:18.420690Z",
     "iopub.status.idle": "2025-06-28T22:31:25.013933Z",
     "shell.execute_reply": "2025-06-28T22:31:25.013074Z"
    },
    "papermill": {
     "duration": 6.601531,
     "end_time": "2025-06-28T22:31:25.015645",
     "exception": false,
     "start_time": "2025-06-28T22:31:18.414114",
     "status": "completed"
    },
    "tags": []
   },
   "outputs": [],
   "source": [
    "import torch"
   ]
  },
  {
   "cell_type": "markdown",
   "id": "7ac2e982",
   "metadata": {
    "papermill": {
     "duration": 0.005351,
     "end_time": "2025-06-28T22:31:25.026539",
     "exception": false,
     "start_time": "2025-06-28T22:31:25.021188",
     "status": "completed"
    },
    "tags": []
   },
   "source": [
    "### Define the Embedding Layers"
   ]
  },
  {
   "cell_type": "code",
   "execution_count": 20,
   "id": "1e95b377",
   "metadata": {
    "execution": {
     "iopub.execute_input": "2025-06-28T22:31:25.038720Z",
     "iopub.status.busy": "2025-06-28T22:31:25.038279Z",
     "iopub.status.idle": "2025-06-28T22:31:25.283239Z",
     "shell.execute_reply": "2025-06-28T22:31:25.282338Z"
    },
    "papermill": {
     "duration": 0.252886,
     "end_time": "2025-06-28T22:31:25.284843",
     "exception": false,
     "start_time": "2025-06-28T22:31:25.031957",
     "status": "completed"
    },
    "tags": []
   },
   "outputs": [],
   "source": [
    "W_in=torch.nn.Embedding(vocab_size,embedding_dim)\n",
    "W_out=torch.nn.Embedding(vocab_size,embedding_dim)"
   ]
  },
  {
   "cell_type": "markdown",
   "id": "575197a0",
   "metadata": {
    "papermill": {
     "duration": 0.005237,
     "end_time": "2025-06-28T22:31:25.295686",
     "exception": false,
     "start_time": "2025-06-28T22:31:25.290449",
     "status": "completed"
    },
    "tags": []
   },
   "source": [
    "**Quick note: 1. Just learnt that if I don't feed in the indices in batch and instead try to loop through each one, it'll be too slow. 2. Also learnt the purpose of forward() in a pytorch class - it is the brain that handles input.**"
   ]
  },
  {
   "cell_type": "code",
   "execution_count": 21,
   "id": "0e4d73be",
   "metadata": {
    "execution": {
     "iopub.execute_input": "2025-06-28T22:31:25.308529Z",
     "iopub.status.busy": "2025-06-28T22:31:25.307329Z",
     "iopub.status.idle": "2025-06-28T22:31:25.313334Z",
     "shell.execute_reply": "2025-06-28T22:31:25.312536Z"
    },
    "papermill": {
     "duration": 0.013761,
     "end_time": "2025-06-28T22:31:25.314820",
     "exception": false,
     "start_time": "2025-06-28T22:31:25.301059",
     "status": "completed"
    },
    "tags": []
   },
   "outputs": [],
   "source": [
    "class Word2Vec(torch.nn.Module):\n",
    "    def __init__(self):\n",
    "        super().__init__()\n",
    "        self.in_embed = torch.nn.Embedding(vocab_size, embedding_dim)\n",
    "        self.out_embed = torch.nn.Embedding(vocab_size, embedding_dim)\n",
    "        \n",
    "    def forward(self,centre_idx, context_idx):\n",
    "        centre_vector=self.in_embed(centre_idx)\n",
    "        context_vector=self.out_embed(context_idx)\n",
    "        dot_products = torch.sum(centre_vector * context_vector, dim=1)\n",
    "        return dot_products\n",
    "        # torch.dot only works for 1D vectors not batches\n",
    "        # The dot product is the true measure of if the vectors capture the closeness of the words they represent.\n",
    "        # Seeing as we're starting with random values, the predictions will start poor and over time will be adjusted through training. Interesting."
   ]
  },
  {
   "cell_type": "code",
   "execution_count": null,
   "id": "9f314a71",
   "metadata": {
    "papermill": {
     "duration": 0.005173,
     "end_time": "2025-06-28T22:31:25.325615",
     "exception": false,
     "start_time": "2025-06-28T22:31:25.320442",
     "status": "completed"
    },
    "tags": []
   },
   "outputs": [],
   "source": []
  }
 ],
 "metadata": {
  "kaggle": {
   "accelerator": "none",
   "dataSources": [
    {
     "datasetId": 64890,
     "sourceId": 127736,
     "sourceType": "datasetVersion"
    }
   ],
   "dockerImageVersionId": 31040,
   "isGpuEnabled": false,
   "isInternetEnabled": true,
   "language": "python",
   "sourceType": "notebook"
  },
  "kernelspec": {
   "display_name": "Python 3",
   "language": "python",
   "name": "python3"
  },
  "language_info": {
   "codemirror_mode": {
    "name": "ipython",
    "version": 3
   },
   "file_extension": ".py",
   "mimetype": "text/x-python",
   "name": "python",
   "nbconvert_exporter": "python",
   "pygments_lexer": "ipython3",
   "version": "3.11.11"
  },
  "papermill": {
   "default_parameters": {},
   "duration": 64.551452,
   "end_time": "2025-06-28T22:31:27.949644",
   "environment_variables": {},
   "exception": null,
   "input_path": "__notebook__.ipynb",
   "output_path": "__notebook__.ipynb",
   "parameters": {},
   "start_time": "2025-06-28T22:30:23.398192",
   "version": "2.6.0"
  }
 },
 "nbformat": 4,
 "nbformat_minor": 5
}
